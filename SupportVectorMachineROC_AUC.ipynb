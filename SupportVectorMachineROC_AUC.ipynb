{
  "cells": [
    {
      "cell_type": "markdown",
      "metadata": {
        "id": "view-in-github",
        "colab_type": "text"
      },
      "source": [
        "<a href=\"https://colab.research.google.com/github/Manya123-max/Machine-Learning-Algorithms/blob/main/SupportVectorMachineROC_AUC.ipynb\" target=\"_parent\"><img src=\"https://colab.research.google.com/assets/colab-badge.svg\" alt=\"Open In Colab\"/></a>"
      ]
    },
    {
      "cell_type": "markdown",
      "metadata": {
        "id": "6Hc5UVdot4EF"
      },
      "source": [
        "**Importing Libraries**"
      ]
    },
    {
      "cell_type": "code",
      "execution_count": null,
      "metadata": {
        "id": "D_f77Q-PB2f_"
      },
      "outputs": [],
      "source": [
        "import numpy as np\n",
        "from sklearn import svm\n",
        "import matplotlib.pyplot as plt\n",
        "import pandas as pd\n",
        "import seaborn as sns\n",
        "# import SVC classifier\n",
        "from sklearn.svm import SVC\n",
        "# import metrics to compute accuracy\n",
        "from sklearn.metrics import accuracy_score"
      ]
    },
    {
      "cell_type": "markdown",
      "metadata": {
        "id": "9s53cYjruGT9"
      },
      "source": [
        "**Importing Dataset**"
      ]
    },
    {
      "cell_type": "code",
      "execution_count": null,
      "metadata": {
        "colab": {
          "base_uri": "https://localhost:8080/"
        },
        "id": "31-CSCKofoSF",
        "outputId": "e906c1f2-e533-4ccf-e09d-edcd8085b640"
      },
      "outputs": [
        {
          "output_type": "stream",
          "name": "stdout",
          "text": [
            "           city  cgpa     iq work_experience  placement\n",
            "0      New York   6.8  123.0              No          1\n",
            "1   Los Angeles   5.9  106.0             Yes          0\n",
            "2       Chicago   NaN  121.0              No          0\n",
            "3      New York   7.4  132.0              No          1\n",
            "4   Los Angeles   5.8  142.0              No          0\n",
            "..          ...   ...    ...             ...        ...\n",
            "95      Chicago   4.3  200.0             Yes          0\n",
            "96     New York   4.4   42.0             Yes          0\n",
            "97  Los Angeles   6.7  182.0              No          1\n",
            "98      Chicago   6.3  103.0              No          1\n",
            "99     New York   6.2  113.0              No          1\n",
            "\n",
            "[100 rows x 5 columns]\n"
          ]
        }
      ],
      "source": [
        "#Importing the data file in dataframe formate\n",
        "data=pd.read_csv('/content/placement.csv')\n",
        "print(data)"
      ]
    },
    {
      "cell_type": "markdown",
      "metadata": {
        "id": "bRKn8dTjttOF"
      },
      "source": [
        "# **Linear SVM (2D Dataset)**"
      ]
    },
    {
      "cell_type": "markdown",
      "metadata": {
        "id": "1URi5kGGuQvE"
      },
      "source": [
        ">Tuning Dataset"
      ]
    },
    {
      "cell_type": "code",
      "execution_count": null,
      "metadata": {
        "colab": {
          "base_uri": "https://localhost:8080/",
          "height": 363
        },
        "id": "hsLSzSN7f9Ni",
        "outputId": "93a36a83-2c4e-4498-bf69-76cb73a770fb"
      },
      "outputs": [
        {
          "output_type": "execute_result",
          "data": {
            "text/plain": [
              "          city  cgpa     iq work_experience  placement\n",
              "0     New York   6.8  123.0              No          1\n",
              "1  Los Angeles   5.9  106.0             Yes          0\n",
              "2      Chicago   NaN  121.0              No          0\n",
              "3     New York   7.4  132.0              No          1\n",
              "4  Los Angeles   5.8  142.0              No          0\n",
              "5      Chicago   7.1   48.0             Yes          1\n",
              "6     New York   5.7    NaN              No          0\n",
              "7  Los Angeles   5.0   63.0             Yes          0\n",
              "8      Chicago   6.1  156.0              No          0\n",
              "9     New York   5.1   66.0              No          0"
            ],
            "text/html": [
              "\n",
              "  <div id=\"df-27769363-e7e6-4196-9057-c5592a209e58\" class=\"colab-df-container\">\n",
              "    <div>\n",
              "<style scoped>\n",
              "    .dataframe tbody tr th:only-of-type {\n",
              "        vertical-align: middle;\n",
              "    }\n",
              "\n",
              "    .dataframe tbody tr th {\n",
              "        vertical-align: top;\n",
              "    }\n",
              "\n",
              "    .dataframe thead th {\n",
              "        text-align: right;\n",
              "    }\n",
              "</style>\n",
              "<table border=\"1\" class=\"dataframe\">\n",
              "  <thead>\n",
              "    <tr style=\"text-align: right;\">\n",
              "      <th></th>\n",
              "      <th>city</th>\n",
              "      <th>cgpa</th>\n",
              "      <th>iq</th>\n",
              "      <th>work_experience</th>\n",
              "      <th>placement</th>\n",
              "    </tr>\n",
              "  </thead>\n",
              "  <tbody>\n",
              "    <tr>\n",
              "      <th>0</th>\n",
              "      <td>New York</td>\n",
              "      <td>6.8</td>\n",
              "      <td>123.0</td>\n",
              "      <td>No</td>\n",
              "      <td>1</td>\n",
              "    </tr>\n",
              "    <tr>\n",
              "      <th>1</th>\n",
              "      <td>Los Angeles</td>\n",
              "      <td>5.9</td>\n",
              "      <td>106.0</td>\n",
              "      <td>Yes</td>\n",
              "      <td>0</td>\n",
              "    </tr>\n",
              "    <tr>\n",
              "      <th>2</th>\n",
              "      <td>Chicago</td>\n",
              "      <td>NaN</td>\n",
              "      <td>121.0</td>\n",
              "      <td>No</td>\n",
              "      <td>0</td>\n",
              "    </tr>\n",
              "    <tr>\n",
              "      <th>3</th>\n",
              "      <td>New York</td>\n",
              "      <td>7.4</td>\n",
              "      <td>132.0</td>\n",
              "      <td>No</td>\n",
              "      <td>1</td>\n",
              "    </tr>\n",
              "    <tr>\n",
              "      <th>4</th>\n",
              "      <td>Los Angeles</td>\n",
              "      <td>5.8</td>\n",
              "      <td>142.0</td>\n",
              "      <td>No</td>\n",
              "      <td>0</td>\n",
              "    </tr>\n",
              "    <tr>\n",
              "      <th>5</th>\n",
              "      <td>Chicago</td>\n",
              "      <td>7.1</td>\n",
              "      <td>48.0</td>\n",
              "      <td>Yes</td>\n",
              "      <td>1</td>\n",
              "    </tr>\n",
              "    <tr>\n",
              "      <th>6</th>\n",
              "      <td>New York</td>\n",
              "      <td>5.7</td>\n",
              "      <td>NaN</td>\n",
              "      <td>No</td>\n",
              "      <td>0</td>\n",
              "    </tr>\n",
              "    <tr>\n",
              "      <th>7</th>\n",
              "      <td>Los Angeles</td>\n",
              "      <td>5.0</td>\n",
              "      <td>63.0</td>\n",
              "      <td>Yes</td>\n",
              "      <td>0</td>\n",
              "    </tr>\n",
              "    <tr>\n",
              "      <th>8</th>\n",
              "      <td>Chicago</td>\n",
              "      <td>6.1</td>\n",
              "      <td>156.0</td>\n",
              "      <td>No</td>\n",
              "      <td>0</td>\n",
              "    </tr>\n",
              "    <tr>\n",
              "      <th>9</th>\n",
              "      <td>New York</td>\n",
              "      <td>5.1</td>\n",
              "      <td>66.0</td>\n",
              "      <td>No</td>\n",
              "      <td>0</td>\n",
              "    </tr>\n",
              "  </tbody>\n",
              "</table>\n",
              "</div>\n",
              "    <div class=\"colab-df-buttons\">\n",
              "\n",
              "  <div class=\"colab-df-container\">\n",
              "    <button class=\"colab-df-convert\" onclick=\"convertToInteractive('df-27769363-e7e6-4196-9057-c5592a209e58')\"\n",
              "            title=\"Convert this dataframe to an interactive table.\"\n",
              "            style=\"display:none;\">\n",
              "\n",
              "  <svg xmlns=\"http://www.w3.org/2000/svg\" height=\"24px\" viewBox=\"0 -960 960 960\">\n",
              "    <path d=\"M120-120v-720h720v720H120Zm60-500h600v-160H180v160Zm220 220h160v-160H400v160Zm0 220h160v-160H400v160ZM180-400h160v-160H180v160Zm440 0h160v-160H620v160ZM180-180h160v-160H180v160Zm440 0h160v-160H620v160Z\"/>\n",
              "  </svg>\n",
              "    </button>\n",
              "\n",
              "  <style>\n",
              "    .colab-df-container {\n",
              "      display:flex;\n",
              "      gap: 12px;\n",
              "    }\n",
              "\n",
              "    .colab-df-convert {\n",
              "      background-color: #E8F0FE;\n",
              "      border: none;\n",
              "      border-radius: 50%;\n",
              "      cursor: pointer;\n",
              "      display: none;\n",
              "      fill: #1967D2;\n",
              "      height: 32px;\n",
              "      padding: 0 0 0 0;\n",
              "      width: 32px;\n",
              "    }\n",
              "\n",
              "    .colab-df-convert:hover {\n",
              "      background-color: #E2EBFA;\n",
              "      box-shadow: 0px 1px 2px rgba(60, 64, 67, 0.3), 0px 1px 3px 1px rgba(60, 64, 67, 0.15);\n",
              "      fill: #174EA6;\n",
              "    }\n",
              "\n",
              "    .colab-df-buttons div {\n",
              "      margin-bottom: 4px;\n",
              "    }\n",
              "\n",
              "    [theme=dark] .colab-df-convert {\n",
              "      background-color: #3B4455;\n",
              "      fill: #D2E3FC;\n",
              "    }\n",
              "\n",
              "    [theme=dark] .colab-df-convert:hover {\n",
              "      background-color: #434B5C;\n",
              "      box-shadow: 0px 1px 3px 1px rgba(0, 0, 0, 0.15);\n",
              "      filter: drop-shadow(0px 1px 2px rgba(0, 0, 0, 0.3));\n",
              "      fill: #FFFFFF;\n",
              "    }\n",
              "  </style>\n",
              "\n",
              "    <script>\n",
              "      const buttonEl =\n",
              "        document.querySelector('#df-27769363-e7e6-4196-9057-c5592a209e58 button.colab-df-convert');\n",
              "      buttonEl.style.display =\n",
              "        google.colab.kernel.accessAllowed ? 'block' : 'none';\n",
              "\n",
              "      async function convertToInteractive(key) {\n",
              "        const element = document.querySelector('#df-27769363-e7e6-4196-9057-c5592a209e58');\n",
              "        const dataTable =\n",
              "          await google.colab.kernel.invokeFunction('convertToInteractive',\n",
              "                                                    [key], {});\n",
              "        if (!dataTable) return;\n",
              "\n",
              "        const docLinkHtml = 'Like what you see? Visit the ' +\n",
              "          '<a target=\"_blank\" href=https://colab.research.google.com/notebooks/data_table.ipynb>data table notebook</a>'\n",
              "          + ' to learn more about interactive tables.';\n",
              "        element.innerHTML = '';\n",
              "        dataTable['output_type'] = 'display_data';\n",
              "        await google.colab.output.renderOutput(dataTable, element);\n",
              "        const docLink = document.createElement('div');\n",
              "        docLink.innerHTML = docLinkHtml;\n",
              "        element.appendChild(docLink);\n",
              "      }\n",
              "    </script>\n",
              "  </div>\n",
              "\n",
              "\n",
              "<div id=\"df-6518ba23-3d94-45c4-976b-067d1f8ab441\">\n",
              "  <button class=\"colab-df-quickchart\" onclick=\"quickchart('df-6518ba23-3d94-45c4-976b-067d1f8ab441')\"\n",
              "            title=\"Suggest charts\"\n",
              "            style=\"display:none;\">\n",
              "\n",
              "<svg xmlns=\"http://www.w3.org/2000/svg\" height=\"24px\"viewBox=\"0 0 24 24\"\n",
              "     width=\"24px\">\n",
              "    <g>\n",
              "        <path d=\"M19 3H5c-1.1 0-2 .9-2 2v14c0 1.1.9 2 2 2h14c1.1 0 2-.9 2-2V5c0-1.1-.9-2-2-2zM9 17H7v-7h2v7zm4 0h-2V7h2v10zm4 0h-2v-4h2v4z\"/>\n",
              "    </g>\n",
              "</svg>\n",
              "  </button>\n",
              "\n",
              "<style>\n",
              "  .colab-df-quickchart {\n",
              "      --bg-color: #E8F0FE;\n",
              "      --fill-color: #1967D2;\n",
              "      --hover-bg-color: #E2EBFA;\n",
              "      --hover-fill-color: #174EA6;\n",
              "      --disabled-fill-color: #AAA;\n",
              "      --disabled-bg-color: #DDD;\n",
              "  }\n",
              "\n",
              "  [theme=dark] .colab-df-quickchart {\n",
              "      --bg-color: #3B4455;\n",
              "      --fill-color: #D2E3FC;\n",
              "      --hover-bg-color: #434B5C;\n",
              "      --hover-fill-color: #FFFFFF;\n",
              "      --disabled-bg-color: #3B4455;\n",
              "      --disabled-fill-color: #666;\n",
              "  }\n",
              "\n",
              "  .colab-df-quickchart {\n",
              "    background-color: var(--bg-color);\n",
              "    border: none;\n",
              "    border-radius: 50%;\n",
              "    cursor: pointer;\n",
              "    display: none;\n",
              "    fill: var(--fill-color);\n",
              "    height: 32px;\n",
              "    padding: 0;\n",
              "    width: 32px;\n",
              "  }\n",
              "\n",
              "  .colab-df-quickchart:hover {\n",
              "    background-color: var(--hover-bg-color);\n",
              "    box-shadow: 0 1px 2px rgba(60, 64, 67, 0.3), 0 1px 3px 1px rgba(60, 64, 67, 0.15);\n",
              "    fill: var(--button-hover-fill-color);\n",
              "  }\n",
              "\n",
              "  .colab-df-quickchart-complete:disabled,\n",
              "  .colab-df-quickchart-complete:disabled:hover {\n",
              "    background-color: var(--disabled-bg-color);\n",
              "    fill: var(--disabled-fill-color);\n",
              "    box-shadow: none;\n",
              "  }\n",
              "\n",
              "  .colab-df-spinner {\n",
              "    border: 2px solid var(--fill-color);\n",
              "    border-color: transparent;\n",
              "    border-bottom-color: var(--fill-color);\n",
              "    animation:\n",
              "      spin 1s steps(1) infinite;\n",
              "  }\n",
              "\n",
              "  @keyframes spin {\n",
              "    0% {\n",
              "      border-color: transparent;\n",
              "      border-bottom-color: var(--fill-color);\n",
              "      border-left-color: var(--fill-color);\n",
              "    }\n",
              "    20% {\n",
              "      border-color: transparent;\n",
              "      border-left-color: var(--fill-color);\n",
              "      border-top-color: var(--fill-color);\n",
              "    }\n",
              "    30% {\n",
              "      border-color: transparent;\n",
              "      border-left-color: var(--fill-color);\n",
              "      border-top-color: var(--fill-color);\n",
              "      border-right-color: var(--fill-color);\n",
              "    }\n",
              "    40% {\n",
              "      border-color: transparent;\n",
              "      border-right-color: var(--fill-color);\n",
              "      border-top-color: var(--fill-color);\n",
              "    }\n",
              "    60% {\n",
              "      border-color: transparent;\n",
              "      border-right-color: var(--fill-color);\n",
              "    }\n",
              "    80% {\n",
              "      border-color: transparent;\n",
              "      border-right-color: var(--fill-color);\n",
              "      border-bottom-color: var(--fill-color);\n",
              "    }\n",
              "    90% {\n",
              "      border-color: transparent;\n",
              "      border-bottom-color: var(--fill-color);\n",
              "    }\n",
              "  }\n",
              "</style>\n",
              "\n",
              "  <script>\n",
              "    async function quickchart(key) {\n",
              "      const quickchartButtonEl =\n",
              "        document.querySelector('#' + key + ' button');\n",
              "      quickchartButtonEl.disabled = true;  // To prevent multiple clicks.\n",
              "      quickchartButtonEl.classList.add('colab-df-spinner');\n",
              "      try {\n",
              "        const charts = await google.colab.kernel.invokeFunction(\n",
              "            'suggestCharts', [key], {});\n",
              "      } catch (error) {\n",
              "        console.error('Error during call to suggestCharts:', error);\n",
              "      }\n",
              "      quickchartButtonEl.classList.remove('colab-df-spinner');\n",
              "      quickchartButtonEl.classList.add('colab-df-quickchart-complete');\n",
              "    }\n",
              "    (() => {\n",
              "      let quickchartButtonEl =\n",
              "        document.querySelector('#df-6518ba23-3d94-45c4-976b-067d1f8ab441 button');\n",
              "      quickchartButtonEl.style.display =\n",
              "        google.colab.kernel.accessAllowed ? 'block' : 'none';\n",
              "    })();\n",
              "  </script>\n",
              "</div>\n",
              "\n",
              "    </div>\n",
              "  </div>\n"
            ],
            "application/vnd.google.colaboratory.intrinsic+json": {
              "type": "dataframe",
              "variable_name": "data",
              "summary": "{\n  \"name\": \"data\",\n  \"rows\": 100,\n  \"fields\": [\n    {\n      \"column\": \"city\",\n      \"properties\": {\n        \"dtype\": \"category\",\n        \"num_unique_values\": 3,\n        \"samples\": [\n          \"New York\",\n          \"Los Angeles\",\n          \"Chicago\"\n        ],\n        \"semantic_type\": \"\",\n        \"description\": \"\"\n      }\n    },\n    {\n      \"column\": \"cgpa\",\n      \"properties\": {\n        \"dtype\": \"number\",\n        \"std\": 1.1649114273370196,\n        \"min\": 3.3,\n        \"max\": 8.5,\n        \"num_unique_values\": 39,\n        \"samples\": [\n          6.3,\n          4.4,\n          7.1\n        ],\n        \"semantic_type\": \"\",\n        \"description\": \"\"\n      }\n    },\n    {\n      \"column\": \"iq\",\n      \"properties\": {\n        \"dtype\": \"number\",\n        \"std\": 46.91350757492405,\n        \"min\": 1.0,\n        \"max\": 233.0,\n        \"num_unique_values\": 69,\n        \"samples\": [\n          124.0,\n          123.0,\n          64.0\n        ],\n        \"semantic_type\": \"\",\n        \"description\": \"\"\n      }\n    },\n    {\n      \"column\": \"work_experience\",\n      \"properties\": {\n        \"dtype\": \"category\",\n        \"num_unique_values\": 2,\n        \"samples\": [\n          \"Yes\",\n          \"No\"\n        ],\n        \"semantic_type\": \"\",\n        \"description\": \"\"\n      }\n    },\n    {\n      \"column\": \"placement\",\n      \"properties\": {\n        \"dtype\": \"number\",\n        \"std\": 0,\n        \"min\": 0,\n        \"max\": 1,\n        \"num_unique_values\": 2,\n        \"samples\": [\n          0,\n          1\n        ],\n        \"semantic_type\": \"\",\n        \"description\": \"\"\n      }\n    }\n  ]\n}"
            }
          },
          "metadata": {},
          "execution_count": 5
        }
      ],
      "source": [
        "data.head(10)"
      ]
    },
    {
      "cell_type": "code",
      "execution_count": null,
      "metadata": {
        "colab": {
          "base_uri": "https://localhost:8080/",
          "height": 300
        },
        "id": "ZzxFaYrMgEwj",
        "outputId": "9c863bcc-07c1-458a-c679-40e7552f19d9"
      },
      "outputs": [
        {
          "output_type": "execute_result",
          "data": {
            "text/plain": [
              "            cgpa          iq   placement\n",
              "count  92.000000   96.000000  100.000000\n",
              "mean    5.965217  117.916667    0.460000\n",
              "std     1.164911   46.913508    0.500908\n",
              "min     3.300000    1.000000    0.000000\n",
              "25%     5.000000   90.000000    0.000000\n",
              "50%     6.000000  122.000000    0.000000\n",
              "75%     6.825000  146.750000    1.000000\n",
              "max     8.500000  233.000000    1.000000"
            ],
            "text/html": [
              "\n",
              "  <div id=\"df-4276af86-dab6-413b-a8b6-b1a182798b8e\" class=\"colab-df-container\">\n",
              "    <div>\n",
              "<style scoped>\n",
              "    .dataframe tbody tr th:only-of-type {\n",
              "        vertical-align: middle;\n",
              "    }\n",
              "\n",
              "    .dataframe tbody tr th {\n",
              "        vertical-align: top;\n",
              "    }\n",
              "\n",
              "    .dataframe thead th {\n",
              "        text-align: right;\n",
              "    }\n",
              "</style>\n",
              "<table border=\"1\" class=\"dataframe\">\n",
              "  <thead>\n",
              "    <tr style=\"text-align: right;\">\n",
              "      <th></th>\n",
              "      <th>cgpa</th>\n",
              "      <th>iq</th>\n",
              "      <th>placement</th>\n",
              "    </tr>\n",
              "  </thead>\n",
              "  <tbody>\n",
              "    <tr>\n",
              "      <th>count</th>\n",
              "      <td>92.000000</td>\n",
              "      <td>96.000000</td>\n",
              "      <td>100.000000</td>\n",
              "    </tr>\n",
              "    <tr>\n",
              "      <th>mean</th>\n",
              "      <td>5.965217</td>\n",
              "      <td>117.916667</td>\n",
              "      <td>0.460000</td>\n",
              "    </tr>\n",
              "    <tr>\n",
              "      <th>std</th>\n",
              "      <td>1.164911</td>\n",
              "      <td>46.913508</td>\n",
              "      <td>0.500908</td>\n",
              "    </tr>\n",
              "    <tr>\n",
              "      <th>min</th>\n",
              "      <td>3.300000</td>\n",
              "      <td>1.000000</td>\n",
              "      <td>0.000000</td>\n",
              "    </tr>\n",
              "    <tr>\n",
              "      <th>25%</th>\n",
              "      <td>5.000000</td>\n",
              "      <td>90.000000</td>\n",
              "      <td>0.000000</td>\n",
              "    </tr>\n",
              "    <tr>\n",
              "      <th>50%</th>\n",
              "      <td>6.000000</td>\n",
              "      <td>122.000000</td>\n",
              "      <td>0.000000</td>\n",
              "    </tr>\n",
              "    <tr>\n",
              "      <th>75%</th>\n",
              "      <td>6.825000</td>\n",
              "      <td>146.750000</td>\n",
              "      <td>1.000000</td>\n",
              "    </tr>\n",
              "    <tr>\n",
              "      <th>max</th>\n",
              "      <td>8.500000</td>\n",
              "      <td>233.000000</td>\n",
              "      <td>1.000000</td>\n",
              "    </tr>\n",
              "  </tbody>\n",
              "</table>\n",
              "</div>\n",
              "    <div class=\"colab-df-buttons\">\n",
              "\n",
              "  <div class=\"colab-df-container\">\n",
              "    <button class=\"colab-df-convert\" onclick=\"convertToInteractive('df-4276af86-dab6-413b-a8b6-b1a182798b8e')\"\n",
              "            title=\"Convert this dataframe to an interactive table.\"\n",
              "            style=\"display:none;\">\n",
              "\n",
              "  <svg xmlns=\"http://www.w3.org/2000/svg\" height=\"24px\" viewBox=\"0 -960 960 960\">\n",
              "    <path d=\"M120-120v-720h720v720H120Zm60-500h600v-160H180v160Zm220 220h160v-160H400v160Zm0 220h160v-160H400v160ZM180-400h160v-160H180v160Zm440 0h160v-160H620v160ZM180-180h160v-160H180v160Zm440 0h160v-160H620v160Z\"/>\n",
              "  </svg>\n",
              "    </button>\n",
              "\n",
              "  <style>\n",
              "    .colab-df-container {\n",
              "      display:flex;\n",
              "      gap: 12px;\n",
              "    }\n",
              "\n",
              "    .colab-df-convert {\n",
              "      background-color: #E8F0FE;\n",
              "      border: none;\n",
              "      border-radius: 50%;\n",
              "      cursor: pointer;\n",
              "      display: none;\n",
              "      fill: #1967D2;\n",
              "      height: 32px;\n",
              "      padding: 0 0 0 0;\n",
              "      width: 32px;\n",
              "    }\n",
              "\n",
              "    .colab-df-convert:hover {\n",
              "      background-color: #E2EBFA;\n",
              "      box-shadow: 0px 1px 2px rgba(60, 64, 67, 0.3), 0px 1px 3px 1px rgba(60, 64, 67, 0.15);\n",
              "      fill: #174EA6;\n",
              "    }\n",
              "\n",
              "    .colab-df-buttons div {\n",
              "      margin-bottom: 4px;\n",
              "    }\n",
              "\n",
              "    [theme=dark] .colab-df-convert {\n",
              "      background-color: #3B4455;\n",
              "      fill: #D2E3FC;\n",
              "    }\n",
              "\n",
              "    [theme=dark] .colab-df-convert:hover {\n",
              "      background-color: #434B5C;\n",
              "      box-shadow: 0px 1px 3px 1px rgba(0, 0, 0, 0.15);\n",
              "      filter: drop-shadow(0px 1px 2px rgba(0, 0, 0, 0.3));\n",
              "      fill: #FFFFFF;\n",
              "    }\n",
              "  </style>\n",
              "\n",
              "    <script>\n",
              "      const buttonEl =\n",
              "        document.querySelector('#df-4276af86-dab6-413b-a8b6-b1a182798b8e button.colab-df-convert');\n",
              "      buttonEl.style.display =\n",
              "        google.colab.kernel.accessAllowed ? 'block' : 'none';\n",
              "\n",
              "      async function convertToInteractive(key) {\n",
              "        const element = document.querySelector('#df-4276af86-dab6-413b-a8b6-b1a182798b8e');\n",
              "        const dataTable =\n",
              "          await google.colab.kernel.invokeFunction('convertToInteractive',\n",
              "                                                    [key], {});\n",
              "        if (!dataTable) return;\n",
              "\n",
              "        const docLinkHtml = 'Like what you see? Visit the ' +\n",
              "          '<a target=\"_blank\" href=https://colab.research.google.com/notebooks/data_table.ipynb>data table notebook</a>'\n",
              "          + ' to learn more about interactive tables.';\n",
              "        element.innerHTML = '';\n",
              "        dataTable['output_type'] = 'display_data';\n",
              "        await google.colab.output.renderOutput(dataTable, element);\n",
              "        const docLink = document.createElement('div');\n",
              "        docLink.innerHTML = docLinkHtml;\n",
              "        element.appendChild(docLink);\n",
              "      }\n",
              "    </script>\n",
              "  </div>\n",
              "\n",
              "\n",
              "<div id=\"df-3579f579-7983-43a7-9be3-6d514bd9b49b\">\n",
              "  <button class=\"colab-df-quickchart\" onclick=\"quickchart('df-3579f579-7983-43a7-9be3-6d514bd9b49b')\"\n",
              "            title=\"Suggest charts\"\n",
              "            style=\"display:none;\">\n",
              "\n",
              "<svg xmlns=\"http://www.w3.org/2000/svg\" height=\"24px\"viewBox=\"0 0 24 24\"\n",
              "     width=\"24px\">\n",
              "    <g>\n",
              "        <path d=\"M19 3H5c-1.1 0-2 .9-2 2v14c0 1.1.9 2 2 2h14c1.1 0 2-.9 2-2V5c0-1.1-.9-2-2-2zM9 17H7v-7h2v7zm4 0h-2V7h2v10zm4 0h-2v-4h2v4z\"/>\n",
              "    </g>\n",
              "</svg>\n",
              "  </button>\n",
              "\n",
              "<style>\n",
              "  .colab-df-quickchart {\n",
              "      --bg-color: #E8F0FE;\n",
              "      --fill-color: #1967D2;\n",
              "      --hover-bg-color: #E2EBFA;\n",
              "      --hover-fill-color: #174EA6;\n",
              "      --disabled-fill-color: #AAA;\n",
              "      --disabled-bg-color: #DDD;\n",
              "  }\n",
              "\n",
              "  [theme=dark] .colab-df-quickchart {\n",
              "      --bg-color: #3B4455;\n",
              "      --fill-color: #D2E3FC;\n",
              "      --hover-bg-color: #434B5C;\n",
              "      --hover-fill-color: #FFFFFF;\n",
              "      --disabled-bg-color: #3B4455;\n",
              "      --disabled-fill-color: #666;\n",
              "  }\n",
              "\n",
              "  .colab-df-quickchart {\n",
              "    background-color: var(--bg-color);\n",
              "    border: none;\n",
              "    border-radius: 50%;\n",
              "    cursor: pointer;\n",
              "    display: none;\n",
              "    fill: var(--fill-color);\n",
              "    height: 32px;\n",
              "    padding: 0;\n",
              "    width: 32px;\n",
              "  }\n",
              "\n",
              "  .colab-df-quickchart:hover {\n",
              "    background-color: var(--hover-bg-color);\n",
              "    box-shadow: 0 1px 2px rgba(60, 64, 67, 0.3), 0 1px 3px 1px rgba(60, 64, 67, 0.15);\n",
              "    fill: var(--button-hover-fill-color);\n",
              "  }\n",
              "\n",
              "  .colab-df-quickchart-complete:disabled,\n",
              "  .colab-df-quickchart-complete:disabled:hover {\n",
              "    background-color: var(--disabled-bg-color);\n",
              "    fill: var(--disabled-fill-color);\n",
              "    box-shadow: none;\n",
              "  }\n",
              "\n",
              "  .colab-df-spinner {\n",
              "    border: 2px solid var(--fill-color);\n",
              "    border-color: transparent;\n",
              "    border-bottom-color: var(--fill-color);\n",
              "    animation:\n",
              "      spin 1s steps(1) infinite;\n",
              "  }\n",
              "\n",
              "  @keyframes spin {\n",
              "    0% {\n",
              "      border-color: transparent;\n",
              "      border-bottom-color: var(--fill-color);\n",
              "      border-left-color: var(--fill-color);\n",
              "    }\n",
              "    20% {\n",
              "      border-color: transparent;\n",
              "      border-left-color: var(--fill-color);\n",
              "      border-top-color: var(--fill-color);\n",
              "    }\n",
              "    30% {\n",
              "      border-color: transparent;\n",
              "      border-left-color: var(--fill-color);\n",
              "      border-top-color: var(--fill-color);\n",
              "      border-right-color: var(--fill-color);\n",
              "    }\n",
              "    40% {\n",
              "      border-color: transparent;\n",
              "      border-right-color: var(--fill-color);\n",
              "      border-top-color: var(--fill-color);\n",
              "    }\n",
              "    60% {\n",
              "      border-color: transparent;\n",
              "      border-right-color: var(--fill-color);\n",
              "    }\n",
              "    80% {\n",
              "      border-color: transparent;\n",
              "      border-right-color: var(--fill-color);\n",
              "      border-bottom-color: var(--fill-color);\n",
              "    }\n",
              "    90% {\n",
              "      border-color: transparent;\n",
              "      border-bottom-color: var(--fill-color);\n",
              "    }\n",
              "  }\n",
              "</style>\n",
              "\n",
              "  <script>\n",
              "    async function quickchart(key) {\n",
              "      const quickchartButtonEl =\n",
              "        document.querySelector('#' + key + ' button');\n",
              "      quickchartButtonEl.disabled = true;  // To prevent multiple clicks.\n",
              "      quickchartButtonEl.classList.add('colab-df-spinner');\n",
              "      try {\n",
              "        const charts = await google.colab.kernel.invokeFunction(\n",
              "            'suggestCharts', [key], {});\n",
              "      } catch (error) {\n",
              "        console.error('Error during call to suggestCharts:', error);\n",
              "      }\n",
              "      quickchartButtonEl.classList.remove('colab-df-spinner');\n",
              "      quickchartButtonEl.classList.add('colab-df-quickchart-complete');\n",
              "    }\n",
              "    (() => {\n",
              "      let quickchartButtonEl =\n",
              "        document.querySelector('#df-3579f579-7983-43a7-9be3-6d514bd9b49b button');\n",
              "      quickchartButtonEl.style.display =\n",
              "        google.colab.kernel.accessAllowed ? 'block' : 'none';\n",
              "    })();\n",
              "  </script>\n",
              "</div>\n",
              "\n",
              "    </div>\n",
              "  </div>\n"
            ],
            "application/vnd.google.colaboratory.intrinsic+json": {
              "type": "dataframe",
              "summary": "{\n  \"name\": \"data\",\n  \"rows\": 8,\n  \"fields\": [\n    {\n      \"column\": \"cgpa\",\n      \"properties\": {\n        \"dtype\": \"number\",\n        \"std\": 30.751134851348965,\n        \"min\": 1.1649114273370196,\n        \"max\": 92.0,\n        \"num_unique_values\": 8,\n        \"samples\": [\n          5.965217391304349,\n          6.0,\n          92.0\n        ],\n        \"semantic_type\": \"\",\n        \"description\": \"\"\n      }\n    },\n    {\n      \"column\": \"iq\",\n      \"properties\": {\n        \"dtype\": \"number\",\n        \"std\": 68.71877549473672,\n        \"min\": 1.0,\n        \"max\": 233.0,\n        \"num_unique_values\": 8,\n        \"samples\": [\n          117.91666666666667,\n          122.0,\n          96.0\n        ],\n        \"semantic_type\": \"\",\n        \"description\": \"\"\n      }\n    },\n    {\n      \"column\": \"placement\",\n      \"properties\": {\n        \"dtype\": \"number\",\n        \"std\": 35.20824564587499,\n        \"min\": 0.0,\n        \"max\": 100.0,\n        \"num_unique_values\": 5,\n        \"samples\": [\n          0.46,\n          1.0,\n          0.5009082659620331\n        ],\n        \"semantic_type\": \"\",\n        \"description\": \"\"\n      }\n    }\n  ]\n}"
            }
          },
          "metadata": {},
          "execution_count": 6
        }
      ],
      "source": [
        "data.describe()"
      ]
    },
    {
      "cell_type": "markdown",
      "metadata": {
        "id": "z8N3zLd7uWvn"
      },
      "source": [
        "**Data Preprocessing**"
      ]
    },
    {
      "cell_type": "code",
      "execution_count": null,
      "metadata": {
        "colab": {
          "base_uri": "https://localhost:8080/"
        },
        "id": "ZE-hc3pTjtwL",
        "outputId": "bd4ca3ac-97b5-4b39-e048-4f2770c870c4"
      },
      "outputs": [
        {
          "output_type": "execute_result",
          "data": {
            "text/plain": [
              "city               0\n",
              "cgpa               8\n",
              "iq                 4\n",
              "work_experience    0\n",
              "placement          0\n",
              "dtype: int64"
            ]
          },
          "metadata": {},
          "execution_count": 7
        }
      ],
      "source": [
        "data.isnull().sum()"
      ]
    },
    {
      "cell_type": "code",
      "execution_count": null,
      "metadata": {
        "colab": {
          "base_uri": "https://localhost:8080/"
        },
        "id": "jztmsjoEj2k7",
        "outputId": "a9d3db52-f496-4861-ca96-8ecf00aaa09c"
      },
      "outputs": [
        {
          "output_type": "execute_result",
          "data": {
            "text/plain": [
              "1"
            ]
          },
          "metadata": {},
          "execution_count": 8
        }
      ],
      "source": [
        "data.duplicated().sum()"
      ]
    },
    {
      "cell_type": "code",
      "execution_count": null,
      "metadata": {
        "colab": {
          "base_uri": "https://localhost:8080/"
        },
        "id": "k87Z0vidj-tj",
        "outputId": "9ce68ece-4acd-4f95-aed6-62cd2b8b5c62"
      },
      "outputs": [
        {
          "output_type": "stream",
          "name": "stdout",
          "text": [
            "5.965217391304349\n",
            "117.91666666666667\n",
            "           city      cgpa     iq work_experience  placement\n",
            "0      New York  6.800000  123.0              No          1\n",
            "1   Los Angeles  5.900000  106.0             Yes          0\n",
            "2       Chicago  5.965217  121.0              No          0\n",
            "3      New York  7.400000  132.0              No          1\n",
            "4   Los Angeles  5.800000  142.0              No          0\n",
            "..          ...       ...    ...             ...        ...\n",
            "95      Chicago  4.300000  200.0             Yes          0\n",
            "96     New York  4.400000   42.0             Yes          0\n",
            "97  Los Angeles  6.700000  182.0              No          1\n",
            "98      Chicago  6.300000  103.0              No          1\n",
            "99     New York  6.200000  113.0              No          1\n",
            "\n",
            "[100 rows x 5 columns]\n"
          ]
        }
      ],
      "source": [
        "#filling missing value with mean\n",
        "\n",
        "#first calculate the mean value\n",
        "mean_val1=data['cgpa'].mean()\n",
        "print(mean_val1)\n",
        "mean_val=data['iq'].mean()\n",
        "print(mean_val)\n",
        "#code to fill the mean value in the empty column\n",
        "data.fillna(data['cgpa'].mean(),inplace=True)\n",
        "data.fillna(data['iq'].mean(),inplace=True)\n",
        "print(data)"
      ]
    },
    {
      "cell_type": "code",
      "execution_count": null,
      "metadata": {
        "colab": {
          "base_uri": "https://localhost:8080/"
        },
        "id": "wcEJWtrT4BTW",
        "outputId": "82946ea3-9dfe-453b-e5fd-58e5f7c6a9ea"
      },
      "outputs": [
        {
          "output_type": "stream",
          "name": "stdout",
          "text": [
            "           city      cgpa     iq  work_experience  placement\n",
            "0      New York  6.800000  123.0                0          1\n",
            "1   Los Angeles  5.900000  106.0                1          0\n",
            "2       Chicago  5.965217  121.0                0          0\n",
            "3      New York  7.400000  132.0                0          1\n",
            "4   Los Angeles  5.800000  142.0                0          0\n",
            "..          ...       ...    ...              ...        ...\n",
            "95      Chicago  4.300000  200.0                1          0\n",
            "96     New York  4.400000   42.0                1          0\n",
            "97  Los Angeles  6.700000  182.0                0          1\n",
            "98      Chicago  6.300000  103.0                0          1\n",
            "99     New York  6.200000  113.0                0          1\n",
            "\n",
            "[100 rows x 5 columns]\n"
          ]
        }
      ],
      "source": [
        "#performing the labelencoding for the categorical data\n",
        "from sklearn.preprocessing import LabelEncoder\n",
        "label_encoders = {}\n",
        "for column in data.columns:\n",
        "    if data['work_experience'].dtype == 'object':\n",
        "        label_encoders['work_experience'] = LabelEncoder()\n",
        "\n",
        "# Fit and transform each categorical column\n",
        "for column, encoder in label_encoders.items():\n",
        "    data['work_experience'] = encoder.fit_transform(data['work_experience'])\n",
        "print(data)"
      ]
    },
    {
      "cell_type": "code",
      "execution_count": null,
      "metadata": {
        "colab": {
          "base_uri": "https://localhost:8080/",
          "height": 607
        },
        "id": "fMN7OwP-Y_FK",
        "outputId": "2739f7d5-346c-4875-ed29-2fee24aea72a"
      },
      "outputs": [
        {
          "output_type": "display_data",
          "data": {
            "text/plain": [
              "<Figure size 1000x600 with 1 Axes>"
            ],
            "image/png": "[encoded data removed]"
          },
          "metadata": {}
        }
      ],
      "source": [
        "# Create box plots for all attributes\n",
        "plt.figure(figsize=(10, 6))  # Set the figure size\n",
        "data.boxplot()  # Create box plots for all attributes\n",
        "plt.xticks(rotation=90)  # Rotate x-axis labels for better readability\n",
        "plt.title('Box Plot of All Attributes')\n",
        "plt.ylabel('Values')\n",
        "plt.xlabel('Attributes')\n",
        "plt.tight_layout()  # Adjust layout to prevent overlapping labels\n",
        "plt.show()"
      ]
    },
    {
      "cell_type": "code",
      "execution_count": null,
      "metadata": {
        "id": "ZcWobWaihant",
        "colab": {
          "base_uri": "https://localhost:8080/"
        },
        "outputId": "d685b5f9-f536-49cd-fa43-6c5ecb2592b0"
      },
      "outputs": [
        {
          "output_type": "stream",
          "name": "stdout",
          "text": [
            "           city      cgpa     iq  work_experience  placement\n",
            "0      New York  6.800000  123.0                0          1\n",
            "1   Los Angeles  5.900000  106.0                1          0\n",
            "2       Chicago  5.965217  121.0                0          0\n",
            "3      New York  7.400000  132.0                0          1\n",
            "4   Los Angeles  5.800000  142.0                0          0\n",
            "..          ...       ...    ...              ...        ...\n",
            "95      Chicago  4.300000  200.0                1          0\n",
            "96     New York  4.400000   42.0                1          0\n",
            "97  Los Angeles  6.700000  182.0                0          1\n",
            "98      Chicago  6.300000  103.0                0          1\n",
            "99     New York  6.200000  113.0                0          1\n",
            "\n",
            "[100 rows x 5 columns]\n"
          ]
        }
      ],
      "source": [
        "import scipy.stats as stats\n",
        "z_scores_iq = np.abs(stats.zscore(data['iq']))\n",
        "\n",
        "# Define threshold for outlier detection (e.g., Z-score > 3)\n",
        "threshold = 3\n",
        "\n",
        "# Filter out rows with outlier IQ scores\n",
        "data_no_outliers = data[(z_scores_iq <= threshold)]\n",
        "print(data_no_outliers)"
      ]
    },
    {
      "cell_type": "markdown",
      "metadata": {
        "id": "PLqk9H19hbDK"
      },
      "source": [
        "**Splitting Dataset**"
      ]
    },
    {
      "cell_type": "code",
      "execution_count": null,
      "metadata": {
        "id": "C5Krbv2VhbDL"
      },
      "outputs": [],
      "source": [
        "from sklearn.model_selection import train_test_split\n",
        "# Assuming 'target_column' is the column you want to predict\n",
        "# Define all feature names in a list\n",
        "feature_names = ['cgpa','iq','work_experience']\n",
        "\n",
        "X=data_no_outliers[feature_names]\n",
        "\n",
        "y = data_no_outliers['placement'] # Target variable\n",
        "#spliting the dataset into training and testing dataset\n",
        "X_train, X_test, y_train, y_test = train_test_split(X, y, test_size=0.2, random_state=42)"
      ]
    },
    {
      "cell_type": "markdown",
      "metadata": {
        "id": "MicAgvaPhbDL"
      },
      "source": [
        "**Training a Linear SVM Model**"
      ]
    },
    {
      "cell_type": "code",
      "execution_count": null,
      "metadata": {
        "colab": {
          "base_uri": "https://localhost:8080/",
          "height": 75
        },
        "id": "NsgPGUDzhbDL",
        "outputId": "050e358f-0ceb-4403-e8d2-ddb039fe00d4"
      },
      "outputs": [
        {
          "output_type": "execute_result",
          "data": {
            "text/plain": [
              "SVC(kernel='linear')"
            ],
            "text/html": [
              "<style>#sk-container-id-1 {color: black;background-color: white;}#sk-container-id-1 pre{padding: 0;}#sk-container-id-1 div.sk-toggleable {background-color: white;}#sk-container-id-1 label.sk-toggleable__label {cursor: pointer;display: block;width: 100%;margin-bottom: 0;padding: 0.3em;box-sizing: border-box;text-align: center;}#sk-container-id-1 label.sk-toggleable__label-arrow:before {content: \"▸\";float: left;margin-right: 0.25em;color: #696969;}#sk-container-id-1 label.sk-toggleable__label-arrow:hover:before {color: black;}#sk-container-id-1 div.sk-estimator:hover label.sk-toggleable__label-arrow:before {color: black;}#sk-container-id-1 div.sk-toggleable__content {max-height: 0;max-width: 0;overflow: hidden;text-align: left;background-color: #f0f8ff;}#sk-container-id-1 div.sk-toggleable__content pre {margin: 0.2em;color: black;border-radius: 0.25em;background-color: #f0f8ff;}#sk-container-id-1 input.sk-toggleable__control:checked~div.sk-toggleable__content {max-height: 200px;max-width: 100%;overflow: auto;}#sk-container-id-1 input.sk-toggleable__control:checked~label.sk-toggleable__label-arrow:before {content: \"▾\";}#sk-container-id-1 div.sk-estimator input.sk-toggleable__control:checked~label.sk-toggleable__label {background-color: #d4ebff;}#sk-container-id-1 div.sk-label input.sk-toggleable__control:checked~label.sk-toggleable__label {background-color: #d4ebff;}#sk-container-id-1 input.sk-hidden--visually {border: 0;clip: rect(1px 1px 1px 1px);clip: rect(1px, 1px, 1px, 1px);height: 1px;margin: -1px;overflow: hidden;padding: 0;position: absolute;width: 1px;}#sk-container-id-1 div.sk-estimator {font-family: monospace;background-color: #f0f8ff;border: 1px dotted black;border-radius: 0.25em;box-sizing: border-box;margin-bottom: 0.5em;}#sk-container-id-1 div.sk-estimator:hover {background-color: #d4ebff;}#sk-container-id-1 div.sk-parallel-item::after {content: \"\";width: 100%;border-bottom: 1px solid gray;flex-grow: 1;}#sk-container-id-1 div.sk-label:hover label.sk-toggleable__label {background-color: #d4ebff;}#sk-container-id-1 div.sk-serial::before {content: \"\";position: absolute;border-left: 1px solid gray;box-sizing: border-box;top: 0;bottom: 0;left: 50%;z-index: 0;}#sk-container-id-1 div.sk-serial {display: flex;flex-direction: column;align-items: center;background-color: white;padding-right: 0.2em;padding-left: 0.2em;position: relative;}#sk-container-id-1 div.sk-item {position: relative;z-index: 1;}#sk-container-id-1 div.sk-parallel {display: flex;align-items: stretch;justify-content: center;background-color: white;position: relative;}#sk-container-id-1 div.sk-item::before, #sk-container-id-1 div.sk-parallel-item::before {content: \"\";position: absolute;border-left: 1px solid gray;box-sizing: border-box;top: 0;bottom: 0;left: 50%;z-index: -1;}#sk-container-id-1 div.sk-parallel-item {display: flex;flex-direction: column;z-index: 1;position: relative;background-color: white;}#sk-container-id-1 div.sk-parallel-item:first-child::after {align-self: flex-end;width: 50%;}#sk-container-id-1 div.sk-parallel-item:last-child::after {align-self: flex-start;width: 50%;}#sk-container-id-1 div.sk-parallel-item:only-child::after {width: 0;}#sk-container-id-1 div.sk-dashed-wrapped {border: 1px dashed gray;margin: 0 0.4em 0.5em 0.4em;box-sizing: border-box;padding-bottom: 0.4em;background-color: white;}#sk-container-id-1 div.sk-label label {font-family: monospace;font-weight: bold;display: inline-block;line-height: 1.2em;}#sk-container-id-1 div.sk-label-container {text-align: center;}#sk-container-id-1 div.sk-container {/* jupyter's `normalize.less` sets `[hidden] { display: none; }` but bootstrap.min.css set `[hidden] { display: none !important; }` so we also need the `!important` here to be able to override the default hidden behavior on the sphinx rendered scikit-learn.org. See: https://github.com/scikit-learn/scikit-learn/issues/21755 */display: inline-block !important;position: relative;}#sk-container-id-1 div.sk-text-repr-fallback {display: none;}</style><div id=\"sk-container-id-1\" class=\"sk-top-container\"><div class=\"sk-text-repr-fallback\"><pre>SVC(kernel=&#x27;linear&#x27;)</pre><b>In a Jupyter environment, please rerun this cell to show the HTML representation or trust the notebook. <br />On GitHub, the HTML representation is unable to render, please try loading this page with nbviewer.org.</b></div><div class=\"sk-container\" hidden><div class=\"sk-item\"><div class=\"sk-estimator sk-toggleable\"><input class=\"sk-toggleable__control sk-hidden--visually\" id=\"sk-estimator-id-1\" type=\"checkbox\" checked><label for=\"sk-estimator-id-1\" class=\"sk-toggleable__label sk-toggleable__label-arrow\">SVC</label><div class=\"sk-toggleable__content\"><pre>SVC(kernel=&#x27;linear&#x27;)</pre></div></div></div></div></div>"
            ]
          },
          "metadata": {},
          "execution_count": 15
        }
      ],
      "source": [
        "#fitting data to SVM\n",
        "model=svm.SVC(kernel='linear',C=1.0)\n",
        "model.fit(X_train,y_train)"
      ]
    },
    {
      "cell_type": "code",
      "execution_count": null,
      "metadata": {
        "colab": {
          "base_uri": "https://localhost:8080/"
        },
        "id": "SF8E7_khhbDL",
        "outputId": "97e27d1d-1e0d-4245-b33f-3f4129d1ea66"
      },
      "outputs": [
        {
          "output_type": "stream",
          "name": "stdout",
          "text": [
            "Accuracy : 90.0 %\n"
          ]
        }
      ],
      "source": [
        "#printing the accuracy using score function\n",
        "print(f\"Accuracy : {(model.score(X_test,y_test))*100} %\")"
      ]
    },
    {
      "cell_type": "code",
      "execution_count": null,
      "metadata": {
        "colab": {
          "base_uri": "https://localhost:8080/"
        },
        "id": "QxkT2JdahbDM",
        "outputId": "27dfc765-8fb1-489c-a814-70264d216145"
      },
      "outputs": [
        {
          "output_type": "stream",
          "name": "stdout",
          "text": [
            "[1 1 1 0 1 0 0 0 0 1 0 1 0 0 1 0 0 1 0 0]\n"
          ]
        }
      ],
      "source": [
        "#make predictions on test set\n",
        "y_pred=model.predict(X_test)\n",
        "print(y_pred)"
      ]
    },
    {
      "cell_type": "code",
      "execution_count": null,
      "metadata": {
        "colab": {
          "base_uri": "https://localhost:8080/"
        },
        "id": "z8LNOI-LhbDM",
        "outputId": "c366a86e-597b-4c57-ce90-7a32090a843d"
      },
      "outputs": [
        {
          "output_type": "stream",
          "name": "stdout",
          "text": [
            "Accuracy Score: 0.9\n"
          ]
        }
      ],
      "source": [
        "# Calculate accuracy score\n",
        "accuracy = accuracy_score(y_test, y_pred)\n",
        "print(\"Accuracy Score:\", accuracy)"
      ]
    },
    {
      "cell_type": "code",
      "execution_count": null,
      "metadata": {
        "colab": {
          "base_uri": "https://localhost:8080/"
        },
        "id": "vOws_y0phbDM",
        "outputId": "5d4c0b7c-c4ee-4bc0-a442-24ee8262e70f"
      },
      "outputs": [
        {
          "output_type": "stream",
          "name": "stdout",
          "text": [
            "              precision    recall  f1-score   support\n",
            "\n",
            "           0       0.83      1.00      0.91        10\n",
            "           1       1.00      0.80      0.89        10\n",
            "\n",
            "    accuracy                           0.90        20\n",
            "   macro avg       0.92      0.90      0.90        20\n",
            "weighted avg       0.92      0.90      0.90        20\n",
            "\n"
          ]
        }
      ],
      "source": [
        "#displaying classification report\n",
        "from sklearn.metrics import classification_report\n",
        "\n",
        "y_pred=model.predict(X_test)\n",
        "print(classification_report(y_test, y_pred))"
      ]
    },
    {
      "cell_type": "markdown",
      "metadata": {
        "id": "xSWFpW2Iu6Pd"
      },
      "source": [
        "**Visualization**"
      ]
    },
    {
      "cell_type": "code",
      "execution_count": null,
      "metadata": {
        "colab": {
          "base_uri": "https://localhost:8080/",
          "height": 472
        },
        "id": "myEbtkZrLeXK",
        "outputId": "47720a42-b211-442a-9cdf-bfe5370e1e51"
      },
      "outputs": [
        {
          "output_type": "display_data",
          "data": {
            "text/plain": [
              "<Figure size 640x480 with 1 Axes>"
            ],
            "image/png": "[encoded data removed]"
          },
          "metadata": {}
        }
      ],
      "source": [
        "#splitting binary result for plotting\n",
        "placement_data = data[data_no_outliers[\"placement\"] == 1]\n",
        "not_placement_data = data[data_no_outliers[\"placement\"] == 0]\n",
        "#plotting datapoints\n",
        "plt.scatter(placement_data[\"cgpa\"], placement_data[\"iq\"], color='green', edgecolors='k', label='Placement')\n",
        "plt.scatter(not_placement_data[\"cgpa\"], not_placement_data[\"iq\"], color='purple', edgecolors='k', label='Not Placement')\n",
        "\n",
        "#extracting values of decision boundary\n",
        "w = model.coef_[0]\n",
        "a = -w[0] / w[1]  # slope of the decision boundary\n",
        "xx = np.linspace(data_no_outliers[\"cgpa\"].min(), data_no_outliers[\"cgpa\"].max())\n",
        "yy = a * xx - (model.intercept_[0]) / w[1]  # equation of the decision boundary\n",
        "\n",
        "# Plotting decision boundary\n",
        "plt.plot(xx, yy, 'k-', label='Decision Boundary')\n",
        "\n",
        "#plotting labels\n",
        "plt.xlabel('x-axes')\n",
        "plt.ylabel('y-axes')\n",
        "plt.legend()\n",
        "plt.title('SVM Decision Boundary')\n",
        "plt.show()"
      ]
    },
    {
      "cell_type": "markdown",
      "metadata": {
        "id": "ymzsdXSkUmsz"
      },
      "source": [
        "**Confusion Matrix**"
      ]
    },
    {
      "cell_type": "code",
      "execution_count": null,
      "metadata": {
        "colab": {
          "base_uri": "https://localhost:8080/",
          "height": 661
        },
        "id": "Xr0HVhEgtz8n",
        "outputId": "db2718a6-41f0-4ce1-94da-227e20d15c10"
      },
      "outputs": [
        {
          "output_type": "stream",
          "name": "stdout",
          "text": [
            "Confusion matrix\n",
            "\n",
            " [[10  0]\n",
            " [ 2  8]]\n",
            "\n",
            "True Positives(TP) =  10\n",
            "\n",
            "True Negatives(TN) =  8\n",
            "\n",
            "False Positives(FP) =  0\n",
            "\n",
            "False Negatives(FN) =  2\n"
          ]
        },
        {
          "output_type": "execute_result",
          "data": {
            "text/plain": [
              "<Axes: >"
            ]
          },
          "metadata": {},
          "execution_count": 21
        },
        {
          "output_type": "display_data",
          "data": {
            "text/plain": [
              "<Figure size 640x480 with 2 Axes>"
            ],
            "image/png": "[encoded data removed]"
          },
          "metadata": {}
        }
      ],
      "source": [
        "from sklearn.metrics import confusion_matrix\n",
        "#calculating confusion matrix\n",
        "cm = confusion_matrix(y_test, y_pred)\n",
        "#displaying values of confusion matrix\n",
        "print('Confusion matrix\\n\\n', cm)\n",
        "print('\\nTrue Positives(TP) = ', cm[0,0])\n",
        "print('\\nTrue Negatives(TN) = ', cm[1,1])\n",
        "print('\\nFalse Positives(FP) = ', cm[0,1])\n",
        "print('\\nFalse Negatives(FN) = ', cm[1,0])\n",
        "# visualize confusion matrix with seaborn heatmap\n",
        "cm_matrix = pd.DataFrame(data=cm, columns=['Actual Positive:1', 'Actual Negative:0'],\n",
        "index=['Predict Positive:1', 'Predict Negative:0'])\n",
        "#plotting confusion matrix\n",
        "sns.heatmap(cm_matrix, annot=True, fmt='d', cmap='YlGnBu')"
      ]
    },
    {
      "cell_type": "markdown",
      "metadata": {
        "id": "B7FFv1qgUsDE"
      },
      "source": [
        "**Classification Report**"
      ]
    },
    {
      "cell_type": "code",
      "execution_count": null,
      "metadata": {
        "colab": {
          "base_uri": "https://localhost:8080/"
        },
        "id": "csAQ5yx7p99g",
        "outputId": "1f4ed990-3274-43b1-987e-059f23ba4011"
      },
      "outputs": [
        {
          "output_type": "stream",
          "name": "stdout",
          "text": [
            "              precision    recall  f1-score   support\n",
            "\n",
            "           0       0.83      1.00      0.91        10\n",
            "           1       1.00      0.80      0.89        10\n",
            "\n",
            "    accuracy                           0.90        20\n",
            "   macro avg       0.92      0.90      0.90        20\n",
            "weighted avg       0.92      0.90      0.90        20\n",
            "\n"
          ]
        }
      ],
      "source": [
        "from sklearn.metrics import classification_report\n",
        "#displaying classification report\n",
        "print(classification_report(y_test, y_pred))"
      ]
    },
    {
      "cell_type": "markdown",
      "metadata": {
        "id": "WBQelJdwfSM8"
      },
      "source": [
        "###  ROC-AUC - (Receiver Operating Characteristic Curve )\n"
      ]
    },
    {
      "cell_type": "code",
      "execution_count": null,
      "metadata": {
        "colab": {
          "base_uri": "https://localhost:8080/"
        },
        "id": "GClrmSYuqhb-",
        "outputId": "9cde7ca1-e92a-4fb3-8b29-93f374d24598"
      },
      "outputs": [
        {
          "output_type": "stream",
          "name": "stdout",
          "text": [
            "ROC AUC : 0.9000\n",
            "Cross validated ROC AUC : 0.9608\n"
          ]
        }
      ],
      "source": [
        "from sklearn.metrics import roc_auc_score\n",
        "from sklearn.model_selection import cross_val_score\n",
        "from sklearn.svm import SVC\n",
        "\n",
        "# Define the linear SVC\n",
        "linear_svc = SVC(kernel='linear')\n",
        "\n",
        "# Train your linear SVC model using X_train and y_train\n",
        "linear_svc.fit(X_train, y_train)\n",
        "\n",
        "# Calculate ROC AUC\n",
        "ROC_AUC = roc_auc_score(y_test, y_pred)\n",
        "print('ROC AUC : {:.4f}'.format(ROC_AUC))\n",
        "\n",
        "# Calculate cross-validated ROC AUC\n",
        "Cross_validated_ROC_AUC = cross_val_score(linear_svc, X_train, y_train, cv=10, scoring='roc_auc').mean()\n",
        "print('Cross validated ROC AUC : {:.4f}'.format(Cross_validated_ROC_AUC))\n"
      ]
    },
    {
      "cell_type": "markdown",
      "metadata": {
        "id": "PNMvinjhfjqh"
      },
      "source": [
        "**Visualization**"
      ]
    },
    {
      "cell_type": "code",
      "execution_count": null,
      "metadata": {
        "colab": {
          "base_uri": "https://localhost:8080/",
          "height": 410
        },
        "id": "DPbqrDAfsxBY",
        "outputId": "99968777-8960-4c6a-9456-cae7f967ded9"
      },
      "outputs": [
        {
          "output_type": "display_data",
          "data": {
            "text/plain": [
              "<Figure size 600x400 with 1 Axes>"
            ],
            "image/png": "[encoded data removed]"
          },
          "metadata": {}
        }
      ],
      "source": [
        "from sklearn.metrics import roc_curve, roc_auc_score\n",
        "# Plot ROC curve\n",
        "fpr, tpr, thresholds = roc_curve(y_test, y_pred)\n",
        "plt.figure(figsize=(6, 4))\n",
        "plt.plot(fpr, tpr, linewidth=2)\n",
        "plt.plot([0, 1], [0, 1], 'k--')\n",
        "plt.title('ROC curve')\n",
        "plt.xlabel('False Positive Rate')\n",
        "plt.ylabel('True Positive Rate')\n",
        "plt.show()"
      ]
    },
    {
      "cell_type": "markdown",
      "metadata": {
        "id": "08x1TBuKfs1s"
      },
      "source": [
        "### **Stratified k-Fold Cross Validation with shuffle split with linear kerne**l"
      ]
    },
    {
      "cell_type": "code",
      "execution_count": null,
      "metadata": {
        "colab": {
          "base_uri": "https://localhost:8080/"
        },
        "id": "Ue2I5LH3v2Tp",
        "outputId": "4934397e-c7c7-4c87-b149-356ae5531bec"
      },
      "outputs": [
        {
          "output_type": "stream",
          "name": "stdout",
          "text": [
            "Stratified cross-validation scores with linear kernel:\n",
            "\n",
            "[0.85 0.8  1.   0.85 0.95]\n",
            "Average stratified cross-validation score with linear kernel:0.8900\n"
          ]
        }
      ],
      "source": [
        "from sklearn.model_selection import KFold\n",
        "kfold=KFold(n_splits=5, shuffle=True, random_state=0)\n",
        "linear_svc=SVC(kernel='linear')\n",
        "linear_scores = cross_val_score(linear_svc, X, y, cv=kfold)\n",
        "print('Stratified cross-validation scores with linear kernel:\\n\\n{}'.format(linear_scores))\n",
        "\n",
        "print('Average stratified cross-validation score with linear kernel:{:.4f}'.format(linear_scores.mean()))\n"
      ]
    },
    {
      "cell_type": "markdown",
      "metadata": {
        "id": "LkVsEXskUwfy"
      },
      "source": [
        "**Hyper Parameter Tuning Using Grid Search**\n"
      ]
    },
    {
      "cell_type": "code",
      "execution_count": null,
      "metadata": {
        "colab": {
          "base_uri": "https://localhost:8080/",
          "height": 1000
        },
        "id": "_iff-0PrwR0A",
        "outputId": "f52137ca-83b0-4bd3-c6d2-398634b9da51"
      },
      "outputs": [
        {
          "output_type": "stream",
          "name": "stdout",
          "text": [
            "Fitting 5 folds for each of 49 candidates, totalling 245 fits\n",
            "[CV] END .................................C=1, kernel=linear; total time=   0.0s\n",
            "[CV] END .................................C=1, kernel=linear; total time=   0.0s\n",
            "[CV] END .................................C=1, kernel=linear; total time=   0.0s\n",
            "[CV] END .................................C=1, kernel=linear; total time=   0.0s\n",
            "[CV] END .................................C=1, kernel=linear; total time=   0.0s\n",
            "[CV] END ................................C=10, kernel=linear; total time=   0.1s\n",
            "[CV] END ................................C=10, kernel=linear; total time=   0.1s\n",
            "[CV] END ................................C=10, kernel=linear; total time=   0.8s\n",
            "[CV] END ................................C=10, kernel=linear; total time=   0.0s\n",
            "[CV] END ................................C=10, kernel=linear; total time=   0.1s\n",
            "[CV] END ...............................C=100, kernel=linear; total time=   0.9s\n",
            "[CV] END ...............................C=100, kernel=linear; total time=   0.9s\n",
            "[CV] END ...............................C=100, kernel=linear; total time=   1.3s\n",
            "[CV] END ...............................C=100, kernel=linear; total time=   5.5s\n",
            "[CV] END ...............................C=100, kernel=linear; total time=   0.1s\n",
            "[CV] END ..............................C=1000, kernel=linear; total time=   4.7s\n",
            "[CV] END ..............................C=1000, kernel=linear; total time=   3.6s\n",
            "[CV] END ..............................C=1000, kernel=linear; total time=   2.9s\n",
            "[CV] END ..............................C=1000, kernel=linear; total time=  10.0s\n",
            "[CV] END ..............................C=1000, kernel=linear; total time=   0.1s\n",
            "[CV] END .........................C=1, gamma=0.1, kernel=rbf; total time=   0.0s\n",
            "[CV] END .........................C=1, gamma=0.1, kernel=rbf; total time=   0.0s\n",
            "[CV] END .........................C=1, gamma=0.1, kernel=rbf; total time=   0.0s\n",
            "[CV] END .........................C=1, gamma=0.1, kernel=rbf; total time=   0.0s\n",
            "[CV] END .........................C=1, gamma=0.1, kernel=rbf; total time=   0.0s\n",
            "[CV] END .........................C=1, gamma=0.2, kernel=rbf; total time=   0.0s\n",
            "[CV] END .........................C=1, gamma=0.2, kernel=rbf; total time=   0.0s\n",
            "[CV] END .........................C=1, gamma=0.2, kernel=rbf; total time=   0.0s\n",
            "[CV] END .........................C=1, gamma=0.2, kernel=rbf; total time=   0.0s\n",
            "[CV] END .........................C=1, gamma=0.2, kernel=rbf; total time=   0.0s\n",
            "[CV] END .........................C=1, gamma=0.3, kernel=rbf; total time=   0.0s\n",
            "[CV] END .........................C=1, gamma=0.3, kernel=rbf; total time=   0.0s\n",
            "[CV] END .........................C=1, gamma=0.3, kernel=rbf; total time=   0.0s\n",
            "[CV] END .........................C=1, gamma=0.3, kernel=rbf; total time=   0.0s\n",
            "[CV] END .........................C=1, gamma=0.3, kernel=rbf; total time=   0.0s\n",
            "[CV] END .........................C=1, gamma=0.4, kernel=rbf; total time=   0.0s\n",
            "[CV] END .........................C=1, gamma=0.4, kernel=rbf; total time=   0.0s\n",
            "[CV] END .........................C=1, gamma=0.4, kernel=rbf; total time=   0.0s\n",
            "[CV] END .........................C=1, gamma=0.4, kernel=rbf; total time=   0.0s\n",
            "[CV] END .........................C=1, gamma=0.4, kernel=rbf; total time=   0.0s\n",
            "[CV] END .........................C=1, gamma=0.5, kernel=rbf; total time=   0.0s\n",
            "[CV] END .........................C=1, gamma=0.5, kernel=rbf; total time=   0.0s\n",
            "[CV] END .........................C=1, gamma=0.5, kernel=rbf; total time=   0.0s\n",
            "[CV] END .........................C=1, gamma=0.5, kernel=rbf; total time=   0.0s\n",
            "[CV] END .........................C=1, gamma=0.5, kernel=rbf; total time=   0.0s\n",
            "[CV] END .........................C=1, gamma=0.6, kernel=rbf; total time=   0.0s\n",
            "[CV] END .........................C=1, gamma=0.6, kernel=rbf; total time=   0.0s\n",
            "[CV] END .........................C=1, gamma=0.6, kernel=rbf; total time=   0.0s\n",
            "[CV] END .........................C=1, gamma=0.6, kernel=rbf; total time=   0.0s\n",
            "[CV] END .........................C=1, gamma=0.6, kernel=rbf; total time=   0.0s\n",
            "[CV] END .........................C=1, gamma=0.7, kernel=rbf; total time=   0.0s\n",
            "[CV] END .........................C=1, gamma=0.7, kernel=rbf; total time=   0.0s\n",
            "[CV] END .........................C=1, gamma=0.7, kernel=rbf; total time=   0.0s\n",
            "[CV] END .........................C=1, gamma=0.7, kernel=rbf; total time=   0.0s\n",
            "[CV] END .........................C=1, gamma=0.7, kernel=rbf; total time=   0.0s\n",
            "[CV] END .........................C=1, gamma=0.8, kernel=rbf; total time=   0.0s\n",
            "[CV] END .........................C=1, gamma=0.8, kernel=rbf; total time=   0.0s\n",
            "[CV] END .........................C=1, gamma=0.8, kernel=rbf; total time=   0.0s\n",
            "[CV] END .........................C=1, gamma=0.8, kernel=rbf; total time=   0.0s\n",
            "[CV] END .........................C=1, gamma=0.8, kernel=rbf; total time=   0.0s\n",
            "[CV] END .........................C=1, gamma=0.9, kernel=rbf; total time=   0.0s\n",
            "[CV] END .........................C=1, gamma=0.9, kernel=rbf; total time=   0.0s\n",
            "[CV] END .........................C=1, gamma=0.9, kernel=rbf; total time=   0.0s\n",
            "[CV] END .........................C=1, gamma=0.9, kernel=rbf; total time=   0.0s\n",
            "[CV] END .........................C=1, gamma=0.9, kernel=rbf; total time=   0.0s\n",
            "[CV] END ........................C=10, gamma=0.1, kernel=rbf; total time=   0.0s\n",
            "[CV] END ........................C=10, gamma=0.1, kernel=rbf; total time=   0.0s\n",
            "[CV] END ........................C=10, gamma=0.1, kernel=rbf; total time=   0.0s\n",
            "[CV] END ........................C=10, gamma=0.1, kernel=rbf; total time=   0.0s\n",
            "[CV] END ........................C=10, gamma=0.1, kernel=rbf; total time=   0.0s\n",
            "[CV] END ........................C=10, gamma=0.2, kernel=rbf; total time=   0.0s\n",
            "[CV] END ........................C=10, gamma=0.2, kernel=rbf; total time=   0.0s\n",
            "[CV] END ........................C=10, gamma=0.2, kernel=rbf; total time=   0.0s\n",
            "[CV] END ........................C=10, gamma=0.2, kernel=rbf; total time=   0.0s\n",
            "[CV] END ........................C=10, gamma=0.2, kernel=rbf; total time=   0.0s\n",
            "[CV] END ........................C=10, gamma=0.3, kernel=rbf; total time=   0.0s\n",
            "[CV] END ........................C=10, gamma=0.3, kernel=rbf; total time=   0.0s\n",
            "[CV] END ........................C=10, gamma=0.3, kernel=rbf; total time=   0.0s\n",
            "[CV] END ........................C=10, gamma=0.3, kernel=rbf; total time=   0.0s\n",
            "[CV] END ........................C=10, gamma=0.3, kernel=rbf; total time=   0.0s\n",
            "[CV] END ........................C=10, gamma=0.4, kernel=rbf; total time=   0.0s\n",
            "[CV] END ........................C=10, gamma=0.4, kernel=rbf; total time=   0.0s\n",
            "[CV] END ........................C=10, gamma=0.4, kernel=rbf; total time=   0.0s\n",
            "[CV] END ........................C=10, gamma=0.4, kernel=rbf; total time=   0.0s\n",
            "[CV] END ........................C=10, gamma=0.4, kernel=rbf; total time=   0.0s\n",
            "[CV] END ........................C=10, gamma=0.5, kernel=rbf; total time=   0.0s\n",
            "[CV] END ........................C=10, gamma=0.5, kernel=rbf; total time=   0.0s\n",
            "[CV] END ........................C=10, gamma=0.5, kernel=rbf; total time=   0.0s\n",
            "[CV] END ........................C=10, gamma=0.5, kernel=rbf; total time=   0.0s\n",
            "[CV] END ........................C=10, gamma=0.5, kernel=rbf; total time=   0.0s\n",
            "[CV] END ........................C=10, gamma=0.6, kernel=rbf; total time=   0.0s\n",
            "[CV] END ........................C=10, gamma=0.6, kernel=rbf; total time=   0.0s\n",
            "[CV] END ........................C=10, gamma=0.6, kernel=rbf; total time=   0.0s\n",
            "[CV] END ........................C=10, gamma=0.6, kernel=rbf; total time=   0.0s\n",
            "[CV] END ........................C=10, gamma=0.6, kernel=rbf; total time=   0.0s\n",
            "[CV] END ........................C=10, gamma=0.7, kernel=rbf; total time=   0.0s\n",
            "[CV] END ........................C=10, gamma=0.7, kernel=rbf; total time=   0.0s\n",
            "[CV] END ........................C=10, gamma=0.7, kernel=rbf; total time=   0.0s\n",
            "[CV] END ........................C=10, gamma=0.7, kernel=rbf; total time=   0.0s\n",
            "[CV] END ........................C=10, gamma=0.7, kernel=rbf; total time=   0.0s\n",
            "[CV] END ........................C=10, gamma=0.8, kernel=rbf; total time=   0.0s\n",
            "[CV] END ........................C=10, gamma=0.8, kernel=rbf; total time=   0.0s\n",
            "[CV] END ........................C=10, gamma=0.8, kernel=rbf; total time=   0.0s\n",
            "[CV] END ........................C=10, gamma=0.8, kernel=rbf; total time=   0.0s\n",
            "[CV] END ........................C=10, gamma=0.8, kernel=rbf; total time=   0.0s\n",
            "[CV] END ........................C=10, gamma=0.9, kernel=rbf; total time=   0.0s\n",
            "[CV] END ........................C=10, gamma=0.9, kernel=rbf; total time=   0.0s\n",
            "[CV] END ........................C=10, gamma=0.9, kernel=rbf; total time=   0.0s\n",
            "[CV] END ........................C=10, gamma=0.9, kernel=rbf; total time=   0.0s\n",
            "[CV] END ........................C=10, gamma=0.9, kernel=rbf; total time=   0.0s\n",
            "[CV] END .......................C=100, gamma=0.1, kernel=rbf; total time=   0.0s\n",
            "[CV] END .......................C=100, gamma=0.1, kernel=rbf; total time=   0.0s\n",
            "[CV] END .......................C=100, gamma=0.1, kernel=rbf; total time=   0.0s\n",
            "[CV] END .......................C=100, gamma=0.1, kernel=rbf; total time=   0.0s\n",
            "[CV] END .......................C=100, gamma=0.1, kernel=rbf; total time=   0.0s\n",
            "[CV] END .......................C=100, gamma=0.2, kernel=rbf; total time=   0.0s\n",
            "[CV] END .......................C=100, gamma=0.2, kernel=rbf; total time=   0.0s\n",
            "[CV] END .......................C=100, gamma=0.2, kernel=rbf; total time=   0.0s\n",
            "[CV] END .......................C=100, gamma=0.2, kernel=rbf; total time=   0.0s\n",
            "[CV] END .......................C=100, gamma=0.2, kernel=rbf; total time=   0.0s\n",
            "[CV] END .......................C=100, gamma=0.3, kernel=rbf; total time=   0.0s\n",
            "[CV] END .......................C=100, gamma=0.3, kernel=rbf; total time=   0.0s\n",
            "[CV] END .......................C=100, gamma=0.3, kernel=rbf; total time=   0.0s\n",
            "[CV] END .......................C=100, gamma=0.3, kernel=rbf; total time=   0.0s\n",
            "[CV] END .......................C=100, gamma=0.3, kernel=rbf; total time=   0.0s\n",
            "[CV] END .......................C=100, gamma=0.4, kernel=rbf; total time=   0.0s\n",
            "[CV] END .......................C=100, gamma=0.4, kernel=rbf; total time=   0.0s\n",
            "[CV] END .......................C=100, gamma=0.4, kernel=rbf; total time=   0.0s\n",
            "[CV] END .......................C=100, gamma=0.4, kernel=rbf; total time=   0.0s\n",
            "[CV] END .......................C=100, gamma=0.4, kernel=rbf; total time=   0.0s\n",
            "[CV] END .......................C=100, gamma=0.5, kernel=rbf; total time=   0.0s\n",
            "[CV] END .......................C=100, gamma=0.5, kernel=rbf; total time=   0.0s\n",
            "[CV] END .......................C=100, gamma=0.5, kernel=rbf; total time=   0.0s\n",
            "[CV] END .......................C=100, gamma=0.5, kernel=rbf; total time=   0.0s\n",
            "[CV] END .......................C=100, gamma=0.5, kernel=rbf; total time=   0.0s\n",
            "[CV] END .......................C=100, gamma=0.6, kernel=rbf; total time=   0.0s\n",
            "[CV] END .......................C=100, gamma=0.6, kernel=rbf; total time=   0.0s\n",
            "[CV] END .......................C=100, gamma=0.6, kernel=rbf; total time=   0.0s\n",
            "[CV] END .......................C=100, gamma=0.6, kernel=rbf; total time=   0.0s\n",
            "[CV] END .......................C=100, gamma=0.6, kernel=rbf; total time=   0.0s\n",
            "[CV] END .......................C=100, gamma=0.7, kernel=rbf; total time=   0.0s\n",
            "[CV] END .......................C=100, gamma=0.7, kernel=rbf; total time=   0.0s\n",
            "[CV] END .......................C=100, gamma=0.7, kernel=rbf; total time=   0.0s\n",
            "[CV] END .......................C=100, gamma=0.7, kernel=rbf; total time=   0.0s\n",
            "[CV] END .......................C=100, gamma=0.7, kernel=rbf; total time=   0.0s\n",
            "[CV] END .......................C=100, gamma=0.8, kernel=rbf; total time=   0.0s\n",
            "[CV] END .......................C=100, gamma=0.8, kernel=rbf; total time=   0.0s\n",
            "[CV] END .......................C=100, gamma=0.8, kernel=rbf; total time=   0.0s\n",
            "[CV] END .......................C=100, gamma=0.8, kernel=rbf; total time=   0.0s\n",
            "[CV] END .......................C=100, gamma=0.8, kernel=rbf; total time=   0.0s\n",
            "[CV] END .......................C=100, gamma=0.9, kernel=rbf; total time=   0.0s\n",
            "[CV] END .......................C=100, gamma=0.9, kernel=rbf; total time=   0.0s\n",
            "[CV] END .......................C=100, gamma=0.9, kernel=rbf; total time=   0.0s\n",
            "[CV] END .......................C=100, gamma=0.9, kernel=rbf; total time=   0.0s\n",
            "[CV] END .......................C=100, gamma=0.9, kernel=rbf; total time=   0.0s\n",
            "[CV] END ......................C=1000, gamma=0.1, kernel=rbf; total time=   0.0s\n",
            "[CV] END ......................C=1000, gamma=0.1, kernel=rbf; total time=   0.0s\n",
            "[CV] END ......................C=1000, gamma=0.1, kernel=rbf; total time=   0.0s\n",
            "[CV] END ......................C=1000, gamma=0.1, kernel=rbf; total time=   0.0s\n",
            "[CV] END ......................C=1000, gamma=0.1, kernel=rbf; total time=   0.0s\n",
            "[CV] END ......................C=1000, gamma=0.2, kernel=rbf; total time=   0.0s\n",
            "[CV] END ......................C=1000, gamma=0.2, kernel=rbf; total time=   0.0s\n",
            "[CV] END ......................C=1000, gamma=0.2, kernel=rbf; total time=   0.0s\n",
            "[CV] END ......................C=1000, gamma=0.2, kernel=rbf; total time=   0.0s\n",
            "[CV] END ......................C=1000, gamma=0.2, kernel=rbf; total time=   0.0s\n",
            "[CV] END ......................C=1000, gamma=0.3, kernel=rbf; total time=   0.0s\n",
            "[CV] END ......................C=1000, gamma=0.3, kernel=rbf; total time=   0.0s\n",
            "[CV] END ......................C=1000, gamma=0.3, kernel=rbf; total time=   0.0s\n",
            "[CV] END ......................C=1000, gamma=0.3, kernel=rbf; total time=   0.0s\n",
            "[CV] END ......................C=1000, gamma=0.3, kernel=rbf; total time=   0.0s\n",
            "[CV] END ......................C=1000, gamma=0.4, kernel=rbf; total time=   0.0s\n",
            "[CV] END ......................C=1000, gamma=0.4, kernel=rbf; total time=   0.0s\n",
            "[CV] END ......................C=1000, gamma=0.4, kernel=rbf; total time=   0.0s\n",
            "[CV] END ......................C=1000, gamma=0.4, kernel=rbf; total time=   0.0s\n",
            "[CV] END ......................C=1000, gamma=0.4, kernel=rbf; total time=   0.0s\n",
            "[CV] END ......................C=1000, gamma=0.5, kernel=rbf; total time=   0.0s\n",
            "[CV] END ......................C=1000, gamma=0.5, kernel=rbf; total time=   0.0s\n",
            "[CV] END ......................C=1000, gamma=0.5, kernel=rbf; total time=   0.0s\n",
            "[CV] END ......................C=1000, gamma=0.5, kernel=rbf; total time=   0.0s\n",
            "[CV] END ......................C=1000, gamma=0.5, kernel=rbf; total time=   0.0s\n",
            "[CV] END ......................C=1000, gamma=0.6, kernel=rbf; total time=   0.0s\n",
            "[CV] END ......................C=1000, gamma=0.6, kernel=rbf; total time=   0.0s\n",
            "[CV] END ......................C=1000, gamma=0.6, kernel=rbf; total time=   0.0s\n",
            "[CV] END ......................C=1000, gamma=0.6, kernel=rbf; total time=   0.0s\n",
            "[CV] END ......................C=1000, gamma=0.6, kernel=rbf; total time=   0.0s\n",
            "[CV] END ......................C=1000, gamma=0.7, kernel=rbf; total time=   0.0s\n",
            "[CV] END ......................C=1000, gamma=0.7, kernel=rbf; total time=   0.0s\n",
            "[CV] END ......................C=1000, gamma=0.7, kernel=rbf; total time=   0.0s\n",
            "[CV] END ......................C=1000, gamma=0.7, kernel=rbf; total time=   0.0s\n",
            "[CV] END ......................C=1000, gamma=0.7, kernel=rbf; total time=   0.0s\n",
            "[CV] END ......................C=1000, gamma=0.8, kernel=rbf; total time=   0.0s\n",
            "[CV] END ......................C=1000, gamma=0.8, kernel=rbf; total time=   0.0s\n",
            "[CV] END ......................C=1000, gamma=0.8, kernel=rbf; total time=   0.0s\n",
            "[CV] END ......................C=1000, gamma=0.8, kernel=rbf; total time=   0.0s\n",
            "[CV] END ......................C=1000, gamma=0.8, kernel=rbf; total time=   0.0s\n",
            "[CV] END ......................C=1000, gamma=0.9, kernel=rbf; total time=   0.0s\n",
            "[CV] END ......................C=1000, gamma=0.9, kernel=rbf; total time=   0.0s\n",
            "[CV] END ......................C=1000, gamma=0.9, kernel=rbf; total time=   0.0s\n",
            "[CV] END ......................C=1000, gamma=0.9, kernel=rbf; total time=   0.0s\n",
            "[CV] END ......................C=1000, gamma=0.9, kernel=rbf; total time=   0.0s\n",
            "[CV] END .............C=1, degree=2, gamma=0.01, kernel=poly; total time=   0.0s\n",
            "[CV] END .............C=1, degree=2, gamma=0.01, kernel=poly; total time=   0.0s\n",
            "[CV] END .............C=1, degree=2, gamma=0.01, kernel=poly; total time=   0.0s\n",
            "[CV] END .............C=1, degree=2, gamma=0.01, kernel=poly; total time=   0.0s\n",
            "[CV] END .............C=1, degree=2, gamma=0.01, kernel=poly; total time=   0.0s\n",
            "[CV] END .............C=1, degree=3, gamma=0.01, kernel=poly; total time=   4.9s\n",
            "[CV] END .............C=1, degree=3, gamma=0.01, kernel=poly; total time=   8.8s\n",
            "[CV] END .............C=1, degree=3, gamma=0.01, kernel=poly; total time=   6.2s\n",
            "[CV] END .............C=1, degree=3, gamma=0.01, kernel=poly; total time=  42.4s\n",
            "[CV] END .............C=1, degree=3, gamma=0.01, kernel=poly; total time=   0.8s\n",
            "[CV] END .............C=1, degree=4, gamma=0.01, kernel=poly; total time=  22.3s\n",
            "[CV] END .............C=1, degree=4, gamma=0.01, kernel=poly; total time= 1.2min\n",
            "[CV] END .............C=1, degree=4, gamma=0.01, kernel=poly; total time= 1.8min\n",
            "[CV] END .............C=1, degree=4, gamma=0.01, kernel=poly; total time=  36.7s\n",
            "[CV] END .............C=1, degree=4, gamma=0.01, kernel=poly; total time=  27.8s\n",
            "[CV] END ............C=10, degree=2, gamma=0.01, kernel=poly; total time=   0.8s\n",
            "[CV] END ............C=10, degree=2, gamma=0.01, kernel=poly; total time=   0.2s\n",
            "[CV] END ............C=10, degree=2, gamma=0.01, kernel=poly; total time=   0.9s\n",
            "[CV] END ............C=10, degree=2, gamma=0.01, kernel=poly; total time=   0.9s\n",
            "[CV] END ............C=10, degree=2, gamma=0.01, kernel=poly; total time=   0.1s\n",
            "[CV] END ............C=10, degree=3, gamma=0.01, kernel=poly; total time=  12.5s\n",
            "[CV] END ............C=10, degree=3, gamma=0.01, kernel=poly; total time=  11.9s\n",
            "[CV] END ............C=10, degree=3, gamma=0.01, kernel=poly; total time=  41.9s\n",
            "[CV] END ............C=10, degree=3, gamma=0.01, kernel=poly; total time=  13.7s\n",
            "[CV] END ............C=10, degree=3, gamma=0.01, kernel=poly; total time=   7.1s\n",
            "[CV] END ............C=10, degree=4, gamma=0.01, kernel=poly; total time=  59.6s\n",
            "[CV] END ............C=10, degree=4, gamma=0.01, kernel=poly; total time=  48.7s\n",
            "[CV] END ............C=10, degree=4, gamma=0.01, kernel=poly; total time=  58.9s\n",
            "[CV] END ............C=10, degree=4, gamma=0.01, kernel=poly; total time= 1.0min\n",
            "[CV] END ............C=10, degree=4, gamma=0.01, kernel=poly; total time=  33.0s\n",
            "[CV] END ...........C=100, degree=2, gamma=0.01, kernel=poly; total time=  13.6s\n",
            "[CV] END ...........C=100, degree=2, gamma=0.01, kernel=poly; total time=   1.5s\n",
            "[CV] END ...........C=100, degree=2, gamma=0.01, kernel=poly; total time=   1.9s\n",
            "[CV] END ...........C=100, degree=2, gamma=0.01, kernel=poly; total time=   1.6s\n",
            "[CV] END ...........C=100, degree=2, gamma=0.01, kernel=poly; total time=   0.3s\n",
            "[CV] END ...........C=100, degree=3, gamma=0.01, kernel=poly; total time= 1.0min\n",
            "[CV] END ...........C=100, degree=3, gamma=0.01, kernel=poly; total time=  15.2s\n",
            "[CV] END ...........C=100, degree=3, gamma=0.01, kernel=poly; total time=  28.9s\n",
            "[CV] END ...........C=100, degree=3, gamma=0.01, kernel=poly; total time=  25.5s\n",
            "[CV] END ...........C=100, degree=3, gamma=0.01, kernel=poly; total time=  16.2s\n",
            "[CV] END ...........C=100, degree=4, gamma=0.01, kernel=poly; total time= 1.6min\n",
            "[CV] END ...........C=100, degree=4, gamma=0.01, kernel=poly; total time= 1.6min\n",
            "[CV] END ...........C=100, degree=4, gamma=0.01, kernel=poly; total time= 1.0min\n",
            "[CV] END ...........C=100, degree=4, gamma=0.01, kernel=poly; total time= 1.8min\n",
            "[CV] END ...........C=100, degree=4, gamma=0.01, kernel=poly; total time=  37.0s\n"
          ]
        },
        {
          "output_type": "execute_result",
          "data": {
            "text/plain": [
              "GridSearchCV(cv=5, estimator=SVC(),\n",
              "             param_grid=[{'C': [1, 10, 100, 1000], 'kernel': ['linear']},\n",
              "                         {'C': [1, 10, 100, 1000],\n",
              "                          'gamma': [0.1, 0.2, 0.3, 0.4, 0.5, 0.6, 0.7, 0.8,\n",
              "                                    0.9],\n",
              "                          'kernel': ['rbf']},\n",
              "                         {'C': [1, 10, 100], 'degree': [2, 3, 4],\n",
              "                          'gamma': [0.01], 'kernel': ['poly']}],\n",
              "             scoring='accuracy', verbose=2)"
            ],
            "text/html": [
              "<style>#sk-container-id-2 {color: black;background-color: white;}#sk-container-id-2 pre{padding: 0;}#sk-container-id-2 div.sk-toggleable {background-color: white;}#sk-container-id-2 label.sk-toggleable__label {cursor: pointer;display: block;width: 100%;margin-bottom: 0;padding: 0.3em;box-sizing: border-box;text-align: center;}#sk-container-id-2 label.sk-toggleable__label-arrow:before {content: \"▸\";float: left;margin-right: 0.25em;color: #696969;}#sk-container-id-2 label.sk-toggleable__label-arrow:hover:before {color: black;}#sk-container-id-2 div.sk-estimator:hover label.sk-toggleable__label-arrow:before {color: black;}#sk-container-id-2 div.sk-toggleable__content {max-height: 0;max-width: 0;overflow: hidden;text-align: left;background-color: #f0f8ff;}#sk-container-id-2 div.sk-toggleable__content pre {margin: 0.2em;color: black;border-radius: 0.25em;background-color: #f0f8ff;}#sk-container-id-2 input.sk-toggleable__control:checked~div.sk-toggleable__content {max-height: 200px;max-width: 100%;overflow: auto;}#sk-container-id-2 input.sk-toggleable__control:checked~label.sk-toggleable__label-arrow:before {content: \"▾\";}#sk-container-id-2 div.sk-estimator input.sk-toggleable__control:checked~label.sk-toggleable__label {background-color: #d4ebff;}#sk-container-id-2 div.sk-label input.sk-toggleable__control:checked~label.sk-toggleable__label {background-color: #d4ebff;}#sk-container-id-2 input.sk-hidden--visually {border: 0;clip: rect(1px 1px 1px 1px);clip: rect(1px, 1px, 1px, 1px);height: 1px;margin: -1px;overflow: hidden;padding: 0;position: absolute;width: 1px;}#sk-container-id-2 div.sk-estimator {font-family: monospace;background-color: #f0f8ff;border: 1px dotted black;border-radius: 0.25em;box-sizing: border-box;margin-bottom: 0.5em;}#sk-container-id-2 div.sk-estimator:hover {background-color: #d4ebff;}#sk-container-id-2 div.sk-parallel-item::after {content: \"\";width: 100%;border-bottom: 1px solid gray;flex-grow: 1;}#sk-container-id-2 div.sk-label:hover label.sk-toggleable__label {background-color: #d4ebff;}#sk-container-id-2 div.sk-serial::before {content: \"\";position: absolute;border-left: 1px solid gray;box-sizing: border-box;top: 0;bottom: 0;left: 50%;z-index: 0;}#sk-container-id-2 div.sk-serial {display: flex;flex-direction: column;align-items: center;background-color: white;padding-right: 0.2em;padding-left: 0.2em;position: relative;}#sk-container-id-2 div.sk-item {position: relative;z-index: 1;}#sk-container-id-2 div.sk-parallel {display: flex;align-items: stretch;justify-content: center;background-color: white;position: relative;}#sk-container-id-2 div.sk-item::before, #sk-container-id-2 div.sk-parallel-item::before {content: \"\";position: absolute;border-left: 1px solid gray;box-sizing: border-box;top: 0;bottom: 0;left: 50%;z-index: -1;}#sk-container-id-2 div.sk-parallel-item {display: flex;flex-direction: column;z-index: 1;position: relative;background-color: white;}#sk-container-id-2 div.sk-parallel-item:first-child::after {align-self: flex-end;width: 50%;}#sk-container-id-2 div.sk-parallel-item:last-child::after {align-self: flex-start;width: 50%;}#sk-container-id-2 div.sk-parallel-item:only-child::after {width: 0;}#sk-container-id-2 div.sk-dashed-wrapped {border: 1px dashed gray;margin: 0 0.4em 0.5em 0.4em;box-sizing: border-box;padding-bottom: 0.4em;background-color: white;}#sk-container-id-2 div.sk-label label {font-family: monospace;font-weight: bold;display: inline-block;line-height: 1.2em;}#sk-container-id-2 div.sk-label-container {text-align: center;}#sk-container-id-2 div.sk-container {/* jupyter's `normalize.less` sets `[hidden] { display: none; }` but bootstrap.min.css set `[hidden] { display: none !important; }` so we also need the `!important` here to be able to override the default hidden behavior on the sphinx rendered scikit-learn.org. See: https://github.com/scikit-learn/scikit-learn/issues/21755 */display: inline-block !important;position: relative;}#sk-container-id-2 div.sk-text-repr-fallback {display: none;}</style><div id=\"sk-container-id-2\" class=\"sk-top-container\"><div class=\"sk-text-repr-fallback\"><pre>GridSearchCV(cv=5, estimator=SVC(),\n",
              "             param_grid=[{&#x27;C&#x27;: [1, 10, 100, 1000], &#x27;kernel&#x27;: [&#x27;linear&#x27;]},\n",
              "                         {&#x27;C&#x27;: [1, 10, 100, 1000],\n",
              "                          &#x27;gamma&#x27;: [0.1, 0.2, 0.3, 0.4, 0.5, 0.6, 0.7, 0.8,\n",
              "                                    0.9],\n",
              "                          &#x27;kernel&#x27;: [&#x27;rbf&#x27;]},\n",
              "                         {&#x27;C&#x27;: [1, 10, 100], &#x27;degree&#x27;: [2, 3, 4],\n",
              "                          &#x27;gamma&#x27;: [0.01], &#x27;kernel&#x27;: [&#x27;poly&#x27;]}],\n",
              "             scoring=&#x27;accuracy&#x27;, verbose=2)</pre><b>In a Jupyter environment, please rerun this cell to show the HTML representation or trust the notebook. <br />On GitHub, the HTML representation is unable to render, please try loading this page with nbviewer.org.</b></div><div class=\"sk-container\" hidden><div class=\"sk-item sk-dashed-wrapped\"><div class=\"sk-label-container\"><div class=\"sk-label sk-toggleable\"><input class=\"sk-toggleable__control sk-hidden--visually\" id=\"sk-estimator-id-2\" type=\"checkbox\" ><label for=\"sk-estimator-id-2\" class=\"sk-toggleable__label sk-toggleable__label-arrow\">GridSearchCV</label><div class=\"sk-toggleable__content\"><pre>GridSearchCV(cv=5, estimator=SVC(),\n",
              "             param_grid=[{&#x27;C&#x27;: [1, 10, 100, 1000], &#x27;kernel&#x27;: [&#x27;linear&#x27;]},\n",
              "                         {&#x27;C&#x27;: [1, 10, 100, 1000],\n",
              "                          &#x27;gamma&#x27;: [0.1, 0.2, 0.3, 0.4, 0.5, 0.6, 0.7, 0.8,\n",
              "                                    0.9],\n",
              "                          &#x27;kernel&#x27;: [&#x27;rbf&#x27;]},\n",
              "                         {&#x27;C&#x27;: [1, 10, 100], &#x27;degree&#x27;: [2, 3, 4],\n",
              "                          &#x27;gamma&#x27;: [0.01], &#x27;kernel&#x27;: [&#x27;poly&#x27;]}],\n",
              "             scoring=&#x27;accuracy&#x27;, verbose=2)</pre></div></div></div><div class=\"sk-parallel\"><div class=\"sk-parallel-item\"><div class=\"sk-item\"><div class=\"sk-label-container\"><div class=\"sk-label sk-toggleable\"><input class=\"sk-toggleable__control sk-hidden--visually\" id=\"sk-estimator-id-3\" type=\"checkbox\" ><label for=\"sk-estimator-id-3\" class=\"sk-toggleable__label sk-toggleable__label-arrow\">estimator: SVC</label><div class=\"sk-toggleable__content\"><pre>SVC()</pre></div></div></div><div class=\"sk-serial\"><div class=\"sk-item\"><div class=\"sk-estimator sk-toggleable\"><input class=\"sk-toggleable__control sk-hidden--visually\" id=\"sk-estimator-id-4\" type=\"checkbox\" ><label for=\"sk-estimator-id-4\" class=\"sk-toggleable__label sk-toggleable__label-arrow\">SVC</label><div class=\"sk-toggleable__content\"><pre>SVC()</pre></div></div></div></div></div></div></div></div></div></div>"
            ]
          },
          "metadata": {},
          "execution_count": 26
        }
      ],
      "source": [
        "from sklearn.model_selection import GridSearchCV\n",
        "# import SVC classifier\n",
        "from sklearn.svm import SVC\n",
        "# instantiate classifier with default hyperparameters with kernel=rbf, C=1.0 and gamma=auto\n",
        "svc=SVC()\n",
        "# declare parameters for hyperparameter tuning\n",
        "parameters = [ {'C':[1, 10, 100, 1000], 'kernel':['linear']},\n",
        "{'C':[1, 10, 100, 1000], 'kernel':['rbf'], 'gamma':[0.1, 0.2, 0.3, 0.4, 0.5, 0.6, 0.7, 0.8, 0.9]},\n",
        "{'C':[1, 10, 100], 'kernel':['poly'], 'degree': [2,3,4] ,'gamma':\n",
        "[0.01]}]\n",
        "\n",
        "#performing gridsearch\n",
        "grid_search = GridSearchCV(estimator = svc,param_grid = parameters,scoring = 'accuracy',cv = 5,verbose=2)\n",
        "grid_search.fit(X_train, y_train)"
      ]
    },
    {
      "cell_type": "markdown",
      "metadata": {
        "id": "L_ud9uOff8EW"
      },
      "source": [
        "### **displaying best parameters,score,estimator**"
      ]
    },
    {
      "cell_type": "code",
      "execution_count": null,
      "metadata": {
        "id": "lyOyUTbCxRn_",
        "colab": {
          "base_uri": "https://localhost:8080/"
        },
        "outputId": "174917d2-bf7d-4eaf-a2e8-a74c48f314eb"
      },
      "outputs": [
        {
          "output_type": "stream",
          "name": "stdout",
          "text": [
            "GridSearch CV best score : 0.9375\n",
            "\n",
            "\n",
            "Parameters that give the best results : \n",
            "\n",
            " {'C': 1, 'kernel': 'linear'}\n",
            "\n",
            "\n",
            "Estimator that was chosen by the search : \n",
            "\n",
            " SVC(C=1, kernel='linear')\n"
          ]
        }
      ],
      "source": [
        "# best score achieved during the GridSearchCV\n",
        "print('GridSearch CV best score : {:.4f}\\n\\n'.format(grid_search.best_score_))\n",
        "# print parameters that give the best results\n",
        "print('Parameters that give the best results :','\\n\\n', (grid_search.best_params_))\n",
        "# print estimator that was chosen by the GridSearch\n",
        "print('\\n\\nEstimator that was chosen by the search :','\\n\\n', (grid_search.best_estimator_))"
      ]
    }
  ],
  "metadata": {
    "colab": {
      "provenance": [],
      "authorship_tag": "ABX9TyM+B5+ATcuC2wcL8kdJwyQE",
      "include_colab_link": true
    },
    "kernelspec": {
      "display_name": "Python 3",
      "name": "python3"
    },
    "language_info": {
      "name": "python"
    }
  },
  "nbformat": 4,
  "nbformat_minor": 0
}