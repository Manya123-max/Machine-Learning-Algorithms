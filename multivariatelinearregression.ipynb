{
  "nbformat": 4,
  "nbformat_minor": 0,
  "metadata": {
    "colab": {
      "provenance": []
    },
    "kernelspec": {
      "name": "python3",
      "display_name": "Python 3"
    },
    "language_info": {
      "name": "python"
    }
  },
  "cells": [
    {
      "cell_type": "code",
      "execution_count": null,
      "metadata": {
        "id": "g3IDFgkJeBEK"
      },
      "outputs": [],
      "source": [
        "#importing the libraries\n",
        "import numpy as np\n",
        "import matplotlib.pyplot as plt\n",
        "import pandas as pd\n",
        "import seaborn as sns\n",
        "import sklearn as skl"
      ]
    },
    {
      "cell_type": "code",
      "source": [
        "#importing the dataset\n",
        "dataset=pd.read_csv('/content/Multivariate_Linear_Regression.csv')\n",
        "print(dataset)"
      ],
      "metadata": {
        "colab": {
          "base_uri": "https://localhost:8080/"
        },
        "id": "JJyMIOnnAALI",
        "outputId": "890bf482-ae92-4200-e38d-ce120d0daafa"
      },
      "execution_count": null,
      "outputs": [
        {
          "output_type": "stream",
          "name": "stdout",
          "text": [
            "             X1         X2        X3         X4           y\n",
            "0     20.631730  12.867703  8.395460  13.990905  189.031908\n",
            "1      4.101116   5.433219  3.563688   7.586737   65.410833\n",
            "2     11.924915  -4.457952  4.307833  -3.869729   34.669369\n",
            "3     33.079571  13.541840  0.573275   5.720989  189.053144\n",
            "4     23.595950  14.390700  2.435688  28.890003  215.060877\n",
            "...         ...        ...       ...        ...         ...\n",
            "4995  34.957819  12.133620 -4.530844   1.458013  177.207858\n",
            "4996  41.573404  18.242280  4.724725   6.538582  295.463522\n",
            "4997  15.128376   7.109396  5.293913  -3.501484  126.802408\n",
            "4998  -4.791663  29.005545 -4.566243  18.247600   90.613662\n",
            "4999   0.188991  21.316331  6.174126   5.524740  103.556223\n",
            "\n",
            "[5000 rows x 5 columns]\n"
          ]
        }
      ]
    },
    {
      "cell_type": "code",
      "source": [
        "dataset.head(10)"
      ],
      "metadata": {
        "colab": {
          "base_uri": "https://localhost:8080/",
          "height": 363
        },
        "id": "Gh6C0rYFAFLa",
        "outputId": "c594f3d5-e4be-49c6-df9d-85b2856161a8"
      },
      "execution_count": null,
      "outputs": [
        {
          "output_type": "execute_result",
          "data": {
            "text/plain": [
              "          X1         X2         X3         X4           y\n",
              "0  20.631730  12.867703   8.395460  13.990905  189.031908\n",
              "1   4.101116   5.433219   3.563688   7.586737   65.410833\n",
              "2  11.924915  -4.457952   4.307833  -3.869729   34.669369\n",
              "3  33.079571  13.541840   0.573275   5.720989  189.053144\n",
              "4  23.595950  14.390700   2.435688  28.890003  215.060877\n",
              "5  46.254685   9.541961  13.150003  15.310407  314.309704\n",
              "6  29.777814  31.386578   4.465882   8.527147  264.308270\n",
              "7  28.604324  14.096900  -3.123978  23.236881  202.554278\n",
              "8  10.338116   5.995014  14.162629  25.726974  159.486723\n",
              "9   9.939408  11.312036   4.826665  25.614143  131.868001"
            ],
            "text/html": [
              "\n",
              "  <div id=\"df-b8aacde1-27b3-4282-a9a3-8ac1eb073bb2\" class=\"colab-df-container\">\n",
              "    <div>\n",
              "<style scoped>\n",
              "    .dataframe tbody tr th:only-of-type {\n",
              "        vertical-align: middle;\n",
              "    }\n",
              "\n",
              "    .dataframe tbody tr th {\n",
              "        vertical-align: top;\n",
              "    }\n",
              "\n",
              "    .dataframe thead th {\n",
              "        text-align: right;\n",
              "    }\n",
              "</style>\n",
              "<table border=\"1\" class=\"dataframe\">\n",
              "  <thead>\n",
              "    <tr style=\"text-align: right;\">\n",
              "      <th></th>\n",
              "      <th>X1</th>\n",
              "      <th>X2</th>\n",
              "      <th>X3</th>\n",
              "      <th>X4</th>\n",
              "      <th>y</th>\n",
              "    </tr>\n",
              "  </thead>\n",
              "  <tbody>\n",
              "    <tr>\n",
              "      <th>0</th>\n",
              "      <td>20.631730</td>\n",
              "      <td>12.867703</td>\n",
              "      <td>8.395460</td>\n",
              "      <td>13.990905</td>\n",
              "      <td>189.031908</td>\n",
              "    </tr>\n",
              "    <tr>\n",
              "      <th>1</th>\n",
              "      <td>4.101116</td>\n",
              "      <td>5.433219</td>\n",
              "      <td>3.563688</td>\n",
              "      <td>7.586737</td>\n",
              "      <td>65.410833</td>\n",
              "    </tr>\n",
              "    <tr>\n",
              "      <th>2</th>\n",
              "      <td>11.924915</td>\n",
              "      <td>-4.457952</td>\n",
              "      <td>4.307833</td>\n",
              "      <td>-3.869729</td>\n",
              "      <td>34.669369</td>\n",
              "    </tr>\n",
              "    <tr>\n",
              "      <th>3</th>\n",
              "      <td>33.079571</td>\n",
              "      <td>13.541840</td>\n",
              "      <td>0.573275</td>\n",
              "      <td>5.720989</td>\n",
              "      <td>189.053144</td>\n",
              "    </tr>\n",
              "    <tr>\n",
              "      <th>4</th>\n",
              "      <td>23.595950</td>\n",
              "      <td>14.390700</td>\n",
              "      <td>2.435688</td>\n",
              "      <td>28.890003</td>\n",
              "      <td>215.060877</td>\n",
              "    </tr>\n",
              "    <tr>\n",
              "      <th>5</th>\n",
              "      <td>46.254685</td>\n",
              "      <td>9.541961</td>\n",
              "      <td>13.150003</td>\n",
              "      <td>15.310407</td>\n",
              "      <td>314.309704</td>\n",
              "    </tr>\n",
              "    <tr>\n",
              "      <th>6</th>\n",
              "      <td>29.777814</td>\n",
              "      <td>31.386578</td>\n",
              "      <td>4.465882</td>\n",
              "      <td>8.527147</td>\n",
              "      <td>264.308270</td>\n",
              "    </tr>\n",
              "    <tr>\n",
              "      <th>7</th>\n",
              "      <td>28.604324</td>\n",
              "      <td>14.096900</td>\n",
              "      <td>-3.123978</td>\n",
              "      <td>23.236881</td>\n",
              "      <td>202.554278</td>\n",
              "    </tr>\n",
              "    <tr>\n",
              "      <th>8</th>\n",
              "      <td>10.338116</td>\n",
              "      <td>5.995014</td>\n",
              "      <td>14.162629</td>\n",
              "      <td>25.726974</td>\n",
              "      <td>159.486723</td>\n",
              "    </tr>\n",
              "    <tr>\n",
              "      <th>9</th>\n",
              "      <td>9.939408</td>\n",
              "      <td>11.312036</td>\n",
              "      <td>4.826665</td>\n",
              "      <td>25.614143</td>\n",
              "      <td>131.868001</td>\n",
              "    </tr>\n",
              "  </tbody>\n",
              "</table>\n",
              "</div>\n",
              "    <div class=\"colab-df-buttons\">\n",
              "\n",
              "  <div class=\"colab-df-container\">\n",
              "    <button class=\"colab-df-convert\" onclick=\"convertToInteractive('df-b8aacde1-27b3-4282-a9a3-8ac1eb073bb2')\"\n",
              "            title=\"Convert this dataframe to an interactive table.\"\n",
              "            style=\"display:none;\">\n",
              "\n",
              "  <svg xmlns=\"http://www.w3.org/2000/svg\" height=\"24px\" viewBox=\"0 -960 960 960\">\n",
              "    <path d=\"M120-120v-720h720v720H120Zm60-500h600v-160H180v160Zm220 220h160v-160H400v160Zm0 220h160v-160H400v160ZM180-400h160v-160H180v160Zm440 0h160v-160H620v160ZM180-180h160v-160H180v160Zm440 0h160v-160H620v160Z\"/>\n",
              "  </svg>\n",
              "    </button>\n",
              "\n",
              "  <style>\n",
              "    .colab-df-container {\n",
              "      display:flex;\n",
              "      gap: 12px;\n",
              "    }\n",
              "\n",
              "    .colab-df-convert {\n",
              "      background-color: #E8F0FE;\n",
              "      border: none;\n",
              "      border-radius: 50%;\n",
              "      cursor: pointer;\n",
              "      display: none;\n",
              "      fill: #1967D2;\n",
              "      height: 32px;\n",
              "      padding: 0 0 0 0;\n",
              "      width: 32px;\n",
              "    }\n",
              "\n",
              "    .colab-df-convert:hover {\n",
              "      background-color: #E2EBFA;\n",
              "      box-shadow: 0px 1px 2px rgba(60, 64, 67, 0.3), 0px 1px 3px 1px rgba(60, 64, 67, 0.15);\n",
              "      fill: #174EA6;\n",
              "    }\n",
              "\n",
              "    .colab-df-buttons div {\n",
              "      margin-bottom: 4px;\n",
              "    }\n",
              "\n",
              "    [theme=dark] .colab-df-convert {\n",
              "      background-color: #3B4455;\n",
              "      fill: #D2E3FC;\n",
              "    }\n",
              "\n",
              "    [theme=dark] .colab-df-convert:hover {\n",
              "      background-color: #434B5C;\n",
              "      box-shadow: 0px 1px 3px 1px rgba(0, 0, 0, 0.15);\n",
              "      filter: drop-shadow(0px 1px 2px rgba(0, 0, 0, 0.3));\n",
              "      fill: #FFFFFF;\n",
              "    }\n",
              "  </style>\n",
              "\n",
              "    <script>\n",
              "      const buttonEl =\n",
              "        document.querySelector('#df-b8aacde1-27b3-4282-a9a3-8ac1eb073bb2 button.colab-df-convert');\n",
              "      buttonEl.style.display =\n",
              "        google.colab.kernel.accessAllowed ? 'block' : 'none';\n",
              "\n",
              "      async function convertToInteractive(key) {\n",
              "        const element = document.querySelector('#df-b8aacde1-27b3-4282-a9a3-8ac1eb073bb2');\n",
              "        const dataTable =\n",
              "          await google.colab.kernel.invokeFunction('convertToInteractive',\n",
              "                                                    [key], {});\n",
              "        if (!dataTable) return;\n",
              "\n",
              "        const docLinkHtml = 'Like what you see? Visit the ' +\n",
              "          '<a target=\"_blank\" href=https://colab.research.google.com/notebooks/data_table.ipynb>data table notebook</a>'\n",
              "          + ' to learn more about interactive tables.';\n",
              "        element.innerHTML = '';\n",
              "        dataTable['output_type'] = 'display_data';\n",
              "        await google.colab.output.renderOutput(dataTable, element);\n",
              "        const docLink = document.createElement('div');\n",
              "        docLink.innerHTML = docLinkHtml;\n",
              "        element.appendChild(docLink);\n",
              "      }\n",
              "    </script>\n",
              "  </div>\n",
              "\n",
              "\n",
              "<div id=\"df-78e8e21b-edfa-423a-aedd-380cb67dc7b6\">\n",
              "  <button class=\"colab-df-quickchart\" onclick=\"quickchart('df-78e8e21b-edfa-423a-aedd-380cb67dc7b6')\"\n",
              "            title=\"Suggest charts\"\n",
              "            style=\"display:none;\">\n",
              "\n",
              "<svg xmlns=\"http://www.w3.org/2000/svg\" height=\"24px\"viewBox=\"0 0 24 24\"\n",
              "     width=\"24px\">\n",
              "    <g>\n",
              "        <path d=\"M19 3H5c-1.1 0-2 .9-2 2v14c0 1.1.9 2 2 2h14c1.1 0 2-.9 2-2V5c0-1.1-.9-2-2-2zM9 17H7v-7h2v7zm4 0h-2V7h2v10zm4 0h-2v-4h2v4z\"/>\n",
              "    </g>\n",
              "</svg>\n",
              "  </button>\n",
              "\n",
              "<style>\n",
              "  .colab-df-quickchart {\n",
              "      --bg-color: #E8F0FE;\n",
              "      --fill-color: #1967D2;\n",
              "      --hover-bg-color: #E2EBFA;\n",
              "      --hover-fill-color: #174EA6;\n",
              "      --disabled-fill-color: #AAA;\n",
              "      --disabled-bg-color: #DDD;\n",
              "  }\n",
              "\n",
              "  [theme=dark] .colab-df-quickchart {\n",
              "      --bg-color: #3B4455;\n",
              "      --fill-color: #D2E3FC;\n",
              "      --hover-bg-color: #434B5C;\n",
              "      --hover-fill-color: #FFFFFF;\n",
              "      --disabled-bg-color: #3B4455;\n",
              "      --disabled-fill-color: #666;\n",
              "  }\n",
              "\n",
              "  .colab-df-quickchart {\n",
              "    background-color: var(--bg-color);\n",
              "    border: none;\n",
              "    border-radius: 50%;\n",
              "    cursor: pointer;\n",
              "    display: none;\n",
              "    fill: var(--fill-color);\n",
              "    height: 32px;\n",
              "    padding: 0;\n",
              "    width: 32px;\n",
              "  }\n",
              "\n",
              "  .colab-df-quickchart:hover {\n",
              "    background-color: var(--hover-bg-color);\n",
              "    box-shadow: 0 1px 2px rgba(60, 64, 67, 0.3), 0 1px 3px 1px rgba(60, 64, 67, 0.15);\n",
              "    fill: var(--button-hover-fill-color);\n",
              "  }\n",
              "\n",
              "  .colab-df-quickchart-complete:disabled,\n",
              "  .colab-df-quickchart-complete:disabled:hover {\n",
              "    background-color: var(--disabled-bg-color);\n",
              "    fill: var(--disabled-fill-color);\n",
              "    box-shadow: none;\n",
              "  }\n",
              "\n",
              "  .colab-df-spinner {\n",
              "    border: 2px solid var(--fill-color);\n",
              "    border-color: transparent;\n",
              "    border-bottom-color: var(--fill-color);\n",
              "    animation:\n",
              "      spin 1s steps(1) infinite;\n",
              "  }\n",
              "\n",
              "  @keyframes spin {\n",
              "    0% {\n",
              "      border-color: transparent;\n",
              "      border-bottom-color: var(--fill-color);\n",
              "      border-left-color: var(--fill-color);\n",
              "    }\n",
              "    20% {\n",
              "      border-color: transparent;\n",
              "      border-left-color: var(--fill-color);\n",
              "      border-top-color: var(--fill-color);\n",
              "    }\n",
              "    30% {\n",
              "      border-color: transparent;\n",
              "      border-left-color: var(--fill-color);\n",
              "      border-top-color: var(--fill-color);\n",
              "      border-right-color: var(--fill-color);\n",
              "    }\n",
              "    40% {\n",
              "      border-color: transparent;\n",
              "      border-right-color: var(--fill-color);\n",
              "      border-top-color: var(--fill-color);\n",
              "    }\n",
              "    60% {\n",
              "      border-color: transparent;\n",
              "      border-right-color: var(--fill-color);\n",
              "    }\n",
              "    80% {\n",
              "      border-color: transparent;\n",
              "      border-right-color: var(--fill-color);\n",
              "      border-bottom-color: var(--fill-color);\n",
              "    }\n",
              "    90% {\n",
              "      border-color: transparent;\n",
              "      border-bottom-color: var(--fill-color);\n",
              "    }\n",
              "  }\n",
              "</style>\n",
              "\n",
              "  <script>\n",
              "    async function quickchart(key) {\n",
              "      const quickchartButtonEl =\n",
              "        document.querySelector('#' + key + ' button');\n",
              "      quickchartButtonEl.disabled = true;  // To prevent multiple clicks.\n",
              "      quickchartButtonEl.classList.add('colab-df-spinner');\n",
              "      try {\n",
              "        const charts = await google.colab.kernel.invokeFunction(\n",
              "            'suggestCharts', [key], {});\n",
              "      } catch (error) {\n",
              "        console.error('Error during call to suggestCharts:', error);\n",
              "      }\n",
              "      quickchartButtonEl.classList.remove('colab-df-spinner');\n",
              "      quickchartButtonEl.classList.add('colab-df-quickchart-complete');\n",
              "    }\n",
              "    (() => {\n",
              "      let quickchartButtonEl =\n",
              "        document.querySelector('#df-78e8e21b-edfa-423a-aedd-380cb67dc7b6 button');\n",
              "      quickchartButtonEl.style.display =\n",
              "        google.colab.kernel.accessAllowed ? 'block' : 'none';\n",
              "    })();\n",
              "  </script>\n",
              "</div>\n",
              "\n",
              "    </div>\n",
              "  </div>\n"
            ],
            "application/vnd.google.colaboratory.intrinsic+json": {
              "type": "dataframe",
              "variable_name": "dataset",
              "summary": "{\n  \"name\": \"dataset\",\n  \"rows\": 5000,\n  \"fields\": [\n    {\n      \"column\": \"X1\",\n      \"properties\": {\n        \"dtype\": \"number\",\n        \"std\": 15.817221545813215,\n        \"min\": -4.976894517076708,\n        \"max\": 49.99819641663387,\n        \"num_unique_values\": 5000,\n        \"samples\": [\n          17.575161017041196,\n          23.82745554428434,\n          47.62132462515195\n        ],\n        \"semantic_type\": \"\",\n        \"description\": \"\"\n      }\n    },\n    {\n      \"column\": \"X2\",\n      \"properties\": {\n        \"dtype\": \"number\",\n        \"std\": 11.59906732663034,\n        \"min\": -4.999481563053303,\n        \"max\": 34.99432666993418,\n        \"num_unique_values\": 5000,\n        \"samples\": [\n          21.019833518403072,\n          1.4132843997530298,\n          -3.085056167001916\n        ],\n        \"semantic_type\": \"\",\n        \"description\": \"\"\n      }\n    },\n    {\n      \"column\": \"X3\",\n      \"properties\": {\n        \"dtype\": \"number\",\n        \"std\": 5.726316417649397,\n        \"min\": -4.9965288533620384,\n        \"max\": 14.995766200112854,\n        \"num_unique_values\": 5000,\n        \"samples\": [\n          6.627547966992768,\n          3.1750187744973104,\n          1.010798609483734\n        ],\n        \"semantic_type\": \"\",\n        \"description\": \"\"\n      }\n    },\n    {\n      \"column\": \"X4\",\n      \"properties\": {\n        \"dtype\": \"number\",\n        \"std\": 10.171455059286442,\n        \"min\": -4.9998507465959925,\n        \"max\": 29.999219339924338,\n        \"num_unique_values\": 5000,\n        \"samples\": [\n          21.359791358728963,\n          3.4973396829037835,\n          25.46187294205933\n        ],\n        \"semantic_type\": \"\",\n        \"description\": \"\"\n      }\n    },\n    {\n      \"column\": \"y\",\n      \"properties\": {\n        \"dtype\": \"number\",\n        \"std\": 86.73774347765368,\n        \"min\": -52.207437758972986,\n        \"max\": 424.7860901601336,\n        \"num_unique_values\": 5000,\n        \"samples\": [\n          196.1165655202641,\n          140.96310377556853,\n          216.30357377958623\n        ],\n        \"semantic_type\": \"\",\n        \"description\": \"\"\n      }\n    }\n  ]\n}"
            }
          },
          "metadata": {},
          "execution_count": 6
        }
      ]
    },
    {
      "cell_type": "code",
      "source": [
        "dataset.describe()"
      ],
      "metadata": {
        "colab": {
          "base_uri": "https://localhost:8080/",
          "height": 300
        },
        "id": "hQtwD3QMB9mj",
        "outputId": "56985f4c-c636-45e2-ac4c-f61bb2d6e066"
      },
      "execution_count": null,
      "outputs": [
        {
          "output_type": "execute_result",
          "data": {
            "text/plain": [
              "                X1           X2           X3           X4            y\n",
              "count  5000.000000  5000.000000  5000.000000  5000.000000  5000.000000\n",
              "mean     22.663415    15.083334     4.966898    12.624664   194.586527\n",
              "std      15.817222    11.599067     5.726316    10.171455    86.737743\n",
              "min      -4.976895    -4.999482    -4.996529    -4.999851   -52.207438\n",
              "25%       8.908293     5.139366    -0.055639     3.877419   131.157467\n",
              "50%      22.535634    15.171626     4.997043    12.832065   194.676329\n",
              "75%      36.587648    25.233339     9.893794    21.527947   258.002962\n",
              "max      49.998196    34.994327    14.995766    29.999219   424.786090"
            ],
            "text/html": [
              "\n",
              "  <div id=\"df-415c1b6b-9c4e-4698-85ea-53259705453f\" class=\"colab-df-container\">\n",
              "    <div>\n",
              "<style scoped>\n",
              "    .dataframe tbody tr th:only-of-type {\n",
              "        vertical-align: middle;\n",
              "    }\n",
              "\n",
              "    .dataframe tbody tr th {\n",
              "        vertical-align: top;\n",
              "    }\n",
              "\n",
              "    .dataframe thead th {\n",
              "        text-align: right;\n",
              "    }\n",
              "</style>\n",
              "<table border=\"1\" class=\"dataframe\">\n",
              "  <thead>\n",
              "    <tr style=\"text-align: right;\">\n",
              "      <th></th>\n",
              "      <th>X1</th>\n",
              "      <th>X2</th>\n",
              "      <th>X3</th>\n",
              "      <th>X4</th>\n",
              "      <th>y</th>\n",
              "    </tr>\n",
              "  </thead>\n",
              "  <tbody>\n",
              "    <tr>\n",
              "      <th>count</th>\n",
              "      <td>5000.000000</td>\n",
              "      <td>5000.000000</td>\n",
              "      <td>5000.000000</td>\n",
              "      <td>5000.000000</td>\n",
              "      <td>5000.000000</td>\n",
              "    </tr>\n",
              "    <tr>\n",
              "      <th>mean</th>\n",
              "      <td>22.663415</td>\n",
              "      <td>15.083334</td>\n",
              "      <td>4.966898</td>\n",
              "      <td>12.624664</td>\n",
              "      <td>194.586527</td>\n",
              "    </tr>\n",
              "    <tr>\n",
              "      <th>std</th>\n",
              "      <td>15.817222</td>\n",
              "      <td>11.599067</td>\n",
              "      <td>5.726316</td>\n",
              "      <td>10.171455</td>\n",
              "      <td>86.737743</td>\n",
              "    </tr>\n",
              "    <tr>\n",
              "      <th>min</th>\n",
              "      <td>-4.976895</td>\n",
              "      <td>-4.999482</td>\n",
              "      <td>-4.996529</td>\n",
              "      <td>-4.999851</td>\n",
              "      <td>-52.207438</td>\n",
              "    </tr>\n",
              "    <tr>\n",
              "      <th>25%</th>\n",
              "      <td>8.908293</td>\n",
              "      <td>5.139366</td>\n",
              "      <td>-0.055639</td>\n",
              "      <td>3.877419</td>\n",
              "      <td>131.157467</td>\n",
              "    </tr>\n",
              "    <tr>\n",
              "      <th>50%</th>\n",
              "      <td>22.535634</td>\n",
              "      <td>15.171626</td>\n",
              "      <td>4.997043</td>\n",
              "      <td>12.832065</td>\n",
              "      <td>194.676329</td>\n",
              "    </tr>\n",
              "    <tr>\n",
              "      <th>75%</th>\n",
              "      <td>36.587648</td>\n",
              "      <td>25.233339</td>\n",
              "      <td>9.893794</td>\n",
              "      <td>21.527947</td>\n",
              "      <td>258.002962</td>\n",
              "    </tr>\n",
              "    <tr>\n",
              "      <th>max</th>\n",
              "      <td>49.998196</td>\n",
              "      <td>34.994327</td>\n",
              "      <td>14.995766</td>\n",
              "      <td>29.999219</td>\n",
              "      <td>424.786090</td>\n",
              "    </tr>\n",
              "  </tbody>\n",
              "</table>\n",
              "</div>\n",
              "    <div class=\"colab-df-buttons\">\n",
              "\n",
              "  <div class=\"colab-df-container\">\n",
              "    <button class=\"colab-df-convert\" onclick=\"convertToInteractive('df-415c1b6b-9c4e-4698-85ea-53259705453f')\"\n",
              "            title=\"Convert this dataframe to an interactive table.\"\n",
              "            style=\"display:none;\">\n",
              "\n",
              "  <svg xmlns=\"http://www.w3.org/2000/svg\" height=\"24px\" viewBox=\"0 -960 960 960\">\n",
              "    <path d=\"M120-120v-720h720v720H120Zm60-500h600v-160H180v160Zm220 220h160v-160H400v160Zm0 220h160v-160H400v160ZM180-400h160v-160H180v160Zm440 0h160v-160H620v160ZM180-180h160v-160H180v160Zm440 0h160v-160H620v160Z\"/>\n",
              "  </svg>\n",
              "    </button>\n",
              "\n",
              "  <style>\n",
              "    .colab-df-container {\n",
              "      display:flex;\n",
              "      gap: 12px;\n",
              "    }\n",
              "\n",
              "    .colab-df-convert {\n",
              "      background-color: #E8F0FE;\n",
              "      border: none;\n",
              "      border-radius: 50%;\n",
              "      cursor: pointer;\n",
              "      display: none;\n",
              "      fill: #1967D2;\n",
              "      height: 32px;\n",
              "      padding: 0 0 0 0;\n",
              "      width: 32px;\n",
              "    }\n",
              "\n",
              "    .colab-df-convert:hover {\n",
              "      background-color: #E2EBFA;\n",
              "      box-shadow: 0px 1px 2px rgba(60, 64, 67, 0.3), 0px 1px 3px 1px rgba(60, 64, 67, 0.15);\n",
              "      fill: #174EA6;\n",
              "    }\n",
              "\n",
              "    .colab-df-buttons div {\n",
              "      margin-bottom: 4px;\n",
              "    }\n",
              "\n",
              "    [theme=dark] .colab-df-convert {\n",
              "      background-color: #3B4455;\n",
              "      fill: #D2E3FC;\n",
              "    }\n",
              "\n",
              "    [theme=dark] .colab-df-convert:hover {\n",
              "      background-color: #434B5C;\n",
              "      box-shadow: 0px 1px 3px 1px rgba(0, 0, 0, 0.15);\n",
              "      filter: drop-shadow(0px 1px 2px rgba(0, 0, 0, 0.3));\n",
              "      fill: #FFFFFF;\n",
              "    }\n",
              "  </style>\n",
              "\n",
              "    <script>\n",
              "      const buttonEl =\n",
              "        document.querySelector('#df-415c1b6b-9c4e-4698-85ea-53259705453f button.colab-df-convert');\n",
              "      buttonEl.style.display =\n",
              "        google.colab.kernel.accessAllowed ? 'block' : 'none';\n",
              "\n",
              "      async function convertToInteractive(key) {\n",
              "        const element = document.querySelector('#df-415c1b6b-9c4e-4698-85ea-53259705453f');\n",
              "        const dataTable =\n",
              "          await google.colab.kernel.invokeFunction('convertToInteractive',\n",
              "                                                    [key], {});\n",
              "        if (!dataTable) return;\n",
              "\n",
              "        const docLinkHtml = 'Like what you see? Visit the ' +\n",
              "          '<a target=\"_blank\" href=https://colab.research.google.com/notebooks/data_table.ipynb>data table notebook</a>'\n",
              "          + ' to learn more about interactive tables.';\n",
              "        element.innerHTML = '';\n",
              "        dataTable['output_type'] = 'display_data';\n",
              "        await google.colab.output.renderOutput(dataTable, element);\n",
              "        const docLink = document.createElement('div');\n",
              "        docLink.innerHTML = docLinkHtml;\n",
              "        element.appendChild(docLink);\n",
              "      }\n",
              "    </script>\n",
              "  </div>\n",
              "\n",
              "\n",
              "<div id=\"df-2699ed7f-6282-43ff-9f19-932a767f7dda\">\n",
              "  <button class=\"colab-df-quickchart\" onclick=\"quickchart('df-2699ed7f-6282-43ff-9f19-932a767f7dda')\"\n",
              "            title=\"Suggest charts\"\n",
              "            style=\"display:none;\">\n",
              "\n",
              "<svg xmlns=\"http://www.w3.org/2000/svg\" height=\"24px\"viewBox=\"0 0 24 24\"\n",
              "     width=\"24px\">\n",
              "    <g>\n",
              "        <path d=\"M19 3H5c-1.1 0-2 .9-2 2v14c0 1.1.9 2 2 2h14c1.1 0 2-.9 2-2V5c0-1.1-.9-2-2-2zM9 17H7v-7h2v7zm4 0h-2V7h2v10zm4 0h-2v-4h2v4z\"/>\n",
              "    </g>\n",
              "</svg>\n",
              "  </button>\n",
              "\n",
              "<style>\n",
              "  .colab-df-quickchart {\n",
              "      --bg-color: #E8F0FE;\n",
              "      --fill-color: #1967D2;\n",
              "      --hover-bg-color: #E2EBFA;\n",
              "      --hover-fill-color: #174EA6;\n",
              "      --disabled-fill-color: #AAA;\n",
              "      --disabled-bg-color: #DDD;\n",
              "  }\n",
              "\n",
              "  [theme=dark] .colab-df-quickchart {\n",
              "      --bg-color: #3B4455;\n",
              "      --fill-color: #D2E3FC;\n",
              "      --hover-bg-color: #434B5C;\n",
              "      --hover-fill-color: #FFFFFF;\n",
              "      --disabled-bg-color: #3B4455;\n",
              "      --disabled-fill-color: #666;\n",
              "  }\n",
              "\n",
              "  .colab-df-quickchart {\n",
              "    background-color: var(--bg-color);\n",
              "    border: none;\n",
              "    border-radius: 50%;\n",
              "    cursor: pointer;\n",
              "    display: none;\n",
              "    fill: var(--fill-color);\n",
              "    height: 32px;\n",
              "    padding: 0;\n",
              "    width: 32px;\n",
              "  }\n",
              "\n",
              "  .colab-df-quickchart:hover {\n",
              "    background-color: var(--hover-bg-color);\n",
              "    box-shadow: 0 1px 2px rgba(60, 64, 67, 0.3), 0 1px 3px 1px rgba(60, 64, 67, 0.15);\n",
              "    fill: var(--button-hover-fill-color);\n",
              "  }\n",
              "\n",
              "  .colab-df-quickchart-complete:disabled,\n",
              "  .colab-df-quickchart-complete:disabled:hover {\n",
              "    background-color: var(--disabled-bg-color);\n",
              "    fill: var(--disabled-fill-color);\n",
              "    box-shadow: none;\n",
              "  }\n",
              "\n",
              "  .colab-df-spinner {\n",
              "    border: 2px solid var(--fill-color);\n",
              "    border-color: transparent;\n",
              "    border-bottom-color: var(--fill-color);\n",
              "    animation:\n",
              "      spin 1s steps(1) infinite;\n",
              "  }\n",
              "\n",
              "  @keyframes spin {\n",
              "    0% {\n",
              "      border-color: transparent;\n",
              "      border-bottom-color: var(--fill-color);\n",
              "      border-left-color: var(--fill-color);\n",
              "    }\n",
              "    20% {\n",
              "      border-color: transparent;\n",
              "      border-left-color: var(--fill-color);\n",
              "      border-top-color: var(--fill-color);\n",
              "    }\n",
              "    30% {\n",
              "      border-color: transparent;\n",
              "      border-left-color: var(--fill-color);\n",
              "      border-top-color: var(--fill-color);\n",
              "      border-right-color: var(--fill-color);\n",
              "    }\n",
              "    40% {\n",
              "      border-color: transparent;\n",
              "      border-right-color: var(--fill-color);\n",
              "      border-top-color: var(--fill-color);\n",
              "    }\n",
              "    60% {\n",
              "      border-color: transparent;\n",
              "      border-right-color: var(--fill-color);\n",
              "    }\n",
              "    80% {\n",
              "      border-color: transparent;\n",
              "      border-right-color: var(--fill-color);\n",
              "      border-bottom-color: var(--fill-color);\n",
              "    }\n",
              "    90% {\n",
              "      border-color: transparent;\n",
              "      border-bottom-color: var(--fill-color);\n",
              "    }\n",
              "  }\n",
              "</style>\n",
              "\n",
              "  <script>\n",
              "    async function quickchart(key) {\n",
              "      const quickchartButtonEl =\n",
              "        document.querySelector('#' + key + ' button');\n",
              "      quickchartButtonEl.disabled = true;  // To prevent multiple clicks.\n",
              "      quickchartButtonEl.classList.add('colab-df-spinner');\n",
              "      try {\n",
              "        const charts = await google.colab.kernel.invokeFunction(\n",
              "            'suggestCharts', [key], {});\n",
              "      } catch (error) {\n",
              "        console.error('Error during call to suggestCharts:', error);\n",
              "      }\n",
              "      quickchartButtonEl.classList.remove('colab-df-spinner');\n",
              "      quickchartButtonEl.classList.add('colab-df-quickchart-complete');\n",
              "    }\n",
              "    (() => {\n",
              "      let quickchartButtonEl =\n",
              "        document.querySelector('#df-2699ed7f-6282-43ff-9f19-932a767f7dda button');\n",
              "      quickchartButtonEl.style.display =\n",
              "        google.colab.kernel.accessAllowed ? 'block' : 'none';\n",
              "    })();\n",
              "  </script>\n",
              "</div>\n",
              "\n",
              "    </div>\n",
              "  </div>\n"
            ],
            "application/vnd.google.colaboratory.intrinsic+json": {
              "type": "dataframe",
              "summary": "{\n  \"name\": \"dataset\",\n  \"rows\": 8,\n  \"fields\": [\n    {\n      \"column\": \"X1\",\n      \"properties\": {\n        \"dtype\": \"number\",\n        \"std\": 1760.1918353453827,\n        \"min\": -4.976894517076708,\n        \"max\": 5000.0,\n        \"num_unique_values\": 8,\n        \"samples\": [\n          22.66341471468192,\n          22.53563383831443,\n          5000.0\n        ],\n        \"semantic_type\": \"\",\n        \"description\": \"\"\n      }\n    },\n    {\n      \"column\": \"X2\",\n      \"properties\": {\n        \"dtype\": \"number\",\n        \"std\": 1762.645002243388,\n        \"min\": -4.999481563053303,\n        \"max\": 5000.0,\n        \"num_unique_values\": 8,\n        \"samples\": [\n          15.083333656781114,\n          15.171626361495694,\n          5000.0\n        ],\n        \"semantic_type\": \"\",\n        \"description\": \"\"\n      }\n    },\n    {\n      \"column\": \"X3\",\n      \"properties\": {\n        \"dtype\": \"number\",\n        \"std\": 1765.9826410778367,\n        \"min\": -4.9965288533620384,\n        \"max\": 5000.0,\n        \"num_unique_values\": 8,\n        \"samples\": [\n          4.966898390942482,\n          4.997043134006932,\n          5000.0\n        ],\n        \"semantic_type\": \"\",\n        \"description\": \"\"\n      }\n    },\n    {\n      \"column\": \"X4\",\n      \"properties\": {\n        \"dtype\": \"number\",\n        \"std\": 1763.4529676922546,\n        \"min\": -4.9998507465959925,\n        \"max\": 5000.0,\n        \"num_unique_values\": 8,\n        \"samples\": [\n          12.624663785121388,\n          12.832065160768344,\n          5000.0\n        ],\n        \"semantic_type\": \"\",\n        \"description\": \"\"\n      }\n    },\n    {\n      \"column\": \"y\",\n      \"properties\": {\n        \"dtype\": \"number\",\n        \"std\": 1710.7453819434684,\n        \"min\": -52.207437758972986,\n        \"max\": 5000.0,\n        \"num_unique_values\": 8,\n        \"samples\": [\n          194.586527406577,\n          194.67632926955022,\n          5000.0\n        ],\n        \"semantic_type\": \"\",\n        \"description\": \"\"\n      }\n    }\n  ]\n}"
            }
          },
          "metadata": {},
          "execution_count": 7
        }
      ]
    },
    {
      "cell_type": "code",
      "source": [
        "dataset.dtypes"
      ],
      "metadata": {
        "colab": {
          "base_uri": "https://localhost:8080/"
        },
        "id": "v_cJpUJHCL9z",
        "outputId": "ccc4f233-b38a-466e-dce2-3015ee6daf84"
      },
      "execution_count": null,
      "outputs": [
        {
          "output_type": "execute_result",
          "data": {
            "text/plain": [
              "X1    float64\n",
              "X2    float64\n",
              "X3    float64\n",
              "X4    float64\n",
              "y     float64\n",
              "dtype: object"
            ]
          },
          "metadata": {},
          "execution_count": 8
        }
      ]
    },
    {
      "cell_type": "code",
      "source": [
        "dataset.info()"
      ],
      "metadata": {
        "colab": {
          "base_uri": "https://localhost:8080/"
        },
        "id": "6xnHbnmPCN5u",
        "outputId": "ee277f20-87b5-4b8e-a20b-0f84c714128e"
      },
      "execution_count": null,
      "outputs": [
        {
          "output_type": "stream",
          "name": "stdout",
          "text": [
            "<class 'pandas.core.frame.DataFrame'>\n",
            "RangeIndex: 5000 entries, 0 to 4999\n",
            "Data columns (total 5 columns):\n",
            " #   Column  Non-Null Count  Dtype  \n",
            "---  ------  --------------  -----  \n",
            " 0   X1      5000 non-null   float64\n",
            " 1   X2      5000 non-null   float64\n",
            " 2   X3      5000 non-null   float64\n",
            " 3   X4      5000 non-null   float64\n",
            " 4   y       5000 non-null   float64\n",
            "dtypes: float64(5)\n",
            "memory usage: 195.4 KB\n"
          ]
        }
      ]
    },
    {
      "cell_type": "code",
      "source": [
        "dataset.duplicated().sum()"
      ],
      "metadata": {
        "colab": {
          "base_uri": "https://localhost:8080/"
        },
        "id": "C4HkXJ1PCRgQ",
        "outputId": "bfd83994-4f03-4b36-fc90-86a24ca6e23c"
      },
      "execution_count": null,
      "outputs": [
        {
          "output_type": "execute_result",
          "data": {
            "text/plain": [
              "0"
            ]
          },
          "metadata": {},
          "execution_count": 10
        }
      ]
    },
    {
      "cell_type": "code",
      "source": [
        "dataset.isnull().sum()"
      ],
      "metadata": {
        "colab": {
          "base_uri": "https://localhost:8080/"
        },
        "id": "utyNdcBWDM24",
        "outputId": "8b024486-6d9c-4690-8158-cd9a6f4a3b79"
      },
      "execution_count": null,
      "outputs": [
        {
          "output_type": "execute_result",
          "data": {
            "text/plain": [
              "X1    0\n",
              "X2    0\n",
              "X3    0\n",
              "X4    0\n",
              "y     0\n",
              "dtype: int64"
            ]
          },
          "metadata": {},
          "execution_count": 11
        }
      ]
    },
    {
      "cell_type": "code",
      "source": [
        "# Visualize outliers with boxplot\n",
        "import seaborn as sns\n",
        "import matplotlib.pyplot as plt\n",
        "\n",
        "plt.figure(figsize=(10, 6))\n",
        "sns.boxplot(data=dataset.select_dtypes(include=['float64']))\n",
        "plt.title('Boxplot of Numerical Features')\n",
        "plt.xticks(rotation=45)\n",
        "plt.show()"
      ],
      "metadata": {
        "colab": {
          "base_uri": "https://localhost:8080/",
          "height": 553
        },
        "id": "SyikuvryQBdT",
        "outputId": "fa2f1af0-960d-45e4-9ee9-f52f150d54c4"
      },
      "execution_count": null,
      "outputs": [
        {
          "output_type": "display_data",
          "data": {
            "text/plain": [
              "<Figure size 1000x600 with 1 Axes>"
            ],
            "image/png": "[encoded data removed]"
          },
          "metadata": {}
        }
      ]
    },
    {
      "cell_type": "code",
      "source": [
        "# Scale the features\n",
        "from sklearn.preprocessing import StandardScaler\n",
        "scaler = StandardScaler()\n",
        "dataset[['X1', 'X2', 'X3', 'X4']] = scaler.fit_transform(dataset[['X1', 'X2', 'X3', 'X4']])\n"
      ],
      "metadata": {
        "id": "ac21deYZQ-Ny"
      },
      "execution_count": null,
      "outputs": []
    },
    {
      "cell_type": "code",
      "source": [
        "corr=dataset.corr()\n",
        "print(corr)"
      ],
      "metadata": {
        "colab": {
          "base_uri": "https://localhost:8080/"
        },
        "id": "BsFk-3Gbtk77",
        "outputId": "17478d57-6528-4a40-ee1b-b20e359a0c11"
      },
      "execution_count": null,
      "outputs": [
        {
          "output_type": "stream",
          "name": "stdout",
          "text": [
            "          X1        X2        X3        X4         y\n",
            "X1  1.000000 -0.003326  0.002384  0.002559  0.791217\n",
            "X2 -0.003326  1.000000  0.015286 -0.015690  0.491728\n",
            "X3  0.002384  0.015286  1.000000 -0.007669  0.309604\n",
            "X4  0.002559 -0.015690 -0.007669  1.000000  0.138912\n",
            "y   0.791217  0.491728  0.309604  0.138912  1.000000\n"
          ]
        }
      ]
    },
    {
      "cell_type": "code",
      "source": [
        "sns.heatmap(corr,annot=True)"
      ],
      "metadata": {
        "colab": {
          "base_uri": "https://localhost:8080/",
          "height": 452
        },
        "id": "0zPG_jbzutI7",
        "outputId": "f5de9adb-ca84-4dee-edb2-23d6dd09a4b1"
      },
      "execution_count": null,
      "outputs": [
        {
          "output_type": "execute_result",
          "data": {
            "text/plain": [
              "<Axes: >"
            ]
          },
          "metadata": {},
          "execution_count": 15
        },
        {
          "output_type": "display_data",
          "data": {
            "text/plain": [
              "<Figure size 640x480 with 2 Axes>"
            ],
            "image/png": "[encoded data removed]"
          },
          "metadata": {}
        }
      ]
    },
    {
      "cell_type": "code",
      "source": [
        "# Extract features (X) and target variable (y)\n",
        "X = dataset[['X1', 'X2', 'X3', 'X4']].values\n",
        "y = dataset['y'].values\n",
        "print(X)\n",
        "print(y)\n"
      ],
      "metadata": {
        "colab": {
          "base_uri": "https://localhost:8080/"
        },
        "id": "NlaIc0vSRxk9",
        "outputId": "b2c02770-4ffe-4fe6-ae24-2bcdfee352a9"
      },
      "execution_count": null,
      "outputs": [
        {
          "output_type": "stream",
          "name": "stdout",
          "text": [
            "[[-0.12846048 -0.19103711  0.59879757  0.13433456]\n",
            " [-1.17366726 -0.83205657 -0.2450705  -0.49535007]\n",
            " [-0.67897981 -1.68489751 -0.11510556 -1.62179766]\n",
            " ...\n",
            " [-0.47642956 -0.68753246  0.05711308 -1.58559031]\n",
            " [-1.73594478  1.20040715 -1.66496116  0.55287057]\n",
            " [-1.42102527  0.53742428  0.21084204 -0.69809416]]\n",
            "[189.03190793  65.4108333   34.66936859 ... 126.80240758  90.61366184\n",
            " 103.55622308]\n"
          ]
        }
      ]
    },
    {
      "cell_type": "code",
      "source": [
        "# Initialize parameters\n",
        "a0, a1, a2, a3,a4 = 0, 0, 0, 0, 0# Initialize all parameters to 0\n",
        "alpha = 0.01  # Learning rate\n",
        "epochs = 1000  # Number of iterations\n",
        "\n",
        "# Perform Gradient Descent\n",
        "for _ in range(epochs):\n",
        "    # Predict\n",
        "    y_pred = a0 + a1*X[:,0] + a2*X[:,1] + a3*X[:,2] + a4*X[:,3]\n",
        "\n",
        "    # Calculate error\n",
        "    errors = y_pred - y\n",
        "\n",
        "    # Calculate cost\n",
        "    cost = np.mean(errors ** 2) / 2\n",
        "\n",
        "    # Calculate gradients\n",
        "    gradient_a0 = np.mean(errors)\n",
        "    gradient_a1 = np.mean(errors * X[:,0])\n",
        "    gradient_a2 = np.mean(errors * X[:,1])\n",
        "    gradient_a3 = np.mean(errors * X[:,2])\n",
        "    gradient_a4 = np.mean(errors * X[:,3])\n",
        "\n",
        "\n",
        "    # Update parameters\n",
        "    a0 -= alpha * gradient_a0\n",
        "    a1 -= alpha * gradient_a1\n",
        "    a2 -= alpha * gradient_a2\n",
        "    a3 -= alpha * gradient_a3\n",
        "    a4 -= alpha * gradient_a4\n",
        "\n",
        "\n",
        "    # Print cost every 100 epochs\n",
        "    if (_ + 1) % 100 == 0:\n",
        "        print(f\"Cost after {_ + 1} epochs: {cost}\")\n",
        "\n",
        "# Print the multiple linear regression equation\n",
        "equation = f\"y = {a0} + {a1} * X1 + {a2} * X2 + {a3} * X3 + {a4} * x4\"\n",
        "print(\"Multiple Linear Regression Equation:\")\n",
        "print(equation)\n"
      ],
      "metadata": {
        "colab": {
          "base_uri": "https://localhost:8080/"
        },
        "id": "8NzoRuvNRViC",
        "outputId": "746c1c68-4520-41a9-eb21-7d6cb8301c05"
      },
      "execution_count": null,
      "outputs": [
        {
          "output_type": "stream",
          "name": "stdout",
          "text": [
            "Cost after 100 epochs: 3159.4521108001145\n",
            "Cost after 200 epochs: 481.49835144582084\n",
            "Cost after 300 epochs: 122.76752321484042\n",
            "Cost after 400 epochs: 74.70872191613219\n",
            "Cost after 500 epochs: 68.269766280458\n",
            "Cost after 600 epochs: 67.40699451662022\n",
            "Cost after 700 epochs: 67.29137951157531\n",
            "Cost after 800 epochs: 67.2758852767357\n",
            "Cost after 900 epochs: 67.2738086250998\n",
            "Cost after 1000 epochs: 67.27353027284674\n",
            "Multiple Linear Regression Equation:\n",
            "y = 194.57812686345952 + 68.66558325063143 * X1 + 42.67401517104904 * X2 + 26.13253490842781 * X3 + 12.74111858874598 * x4\n"
          ]
        }
      ]
    },
    {
      "cell_type": "code",
      "source": [
        "import numpy as np\n",
        "import pandas as pd\n",
        "from sklearn.model_selection import train_test_split\n",
        "from sklearn.linear_model import LinearRegression\n",
        "from sklearn.preprocessing import StandardScaler\n",
        "\n",
        "# Importing the dataset\n",
        "dataset = pd.read_csv('/content/Multivariate_Linear_Regression.csv')\n",
        "\n",
        "# Scale the features\n",
        "scaler = StandardScaler()\n",
        "dataset[['X1', 'X2', 'X3', 'X4']] = scaler.fit_transform(dataset[['X1', 'X2', 'X3', 'X4']])\n",
        "\n",
        "# Extract features (X) and target variable (y)\n",
        "X = dataset[['X1', 'X2', 'X3', 'X4']].values\n",
        "y = dataset['y'].values\n",
        "\n",
        "# Splitting the dataset into the Training set and Test set\n",
        "X_train, X_test, y_train, y_test = train_test_split(X, y, test_size=0.2, random_state=42)\n",
        "\n",
        "# Fitting Multiple Linear Regression to the Training set\n",
        "regressor = LinearRegression()\n",
        "regressor.fit(X_train, y_train)\n",
        "\n",
        "# Print the coefficients\n",
        "print(\"Intercept:\", regressor.intercept_)\n",
        "print(\"Coefficients:\", regressor.coef_)\n",
        "\n",
        "# Predicting the Test set results\n",
        "y_pred = regressor.predict(X_test)\n",
        "\n",
        "# Print the multiple linear regression equation\n",
        "equation = f\"y = {regressor.intercept_} + \"\n",
        "for i, coef in enumerate(regressor.coef_):\n",
        "    equation += f\"{coef} * X{i+1} + \"\n",
        "equation = equation[:-3]  # Remove the last ' + '\n",
        "print(\"Multiple Linear Regression Equation:\")\n",
        "print(equation)\n"
      ],
      "metadata": {
        "colab": {
          "base_uri": "https://localhost:8080/"
        },
        "id": "2vN7aRKoSGbn",
        "outputId": "7df41142-c15e-4800-adbf-64867e763eb5"
      },
      "execution_count": null,
      "outputs": [
        {
          "output_type": "stream",
          "name": "stdout",
          "text": [
            "Intercept: 194.58516640236388\n",
            "Coefficients: [68.5765142  42.75124133 26.14377499 12.90720418]\n",
            "Multiple Linear Regression Equation:\n",
            "y = 194.58516640236388 + 68.576514199503 * X1 + 42.75124133307972 * X2 + 26.143774985746198 * X3 + 12.907204178562594 * X4\n"
          ]
        }
      ]
    },
    {
      "cell_type": "code",
      "source": [
        "import matplotlib.pyplot as plt\n",
        "\n",
        "# Plotting the actual vs. predicted values for the test set\n",
        "plt.figure(figsize=(8, 6))\n",
        "plt.scatter(y_test, y_pred, color='blue', label='Actual vs. Predicted')\n",
        "plt.plot([min(y_test), max(y_test)], [min(y_test), max(y_test)], color='red', linestyle='--', label='Ideal Line')\n",
        "plt.title('Actual vs. Predicted (Test Set)')\n",
        "plt.xlabel('Actual Values')\n",
        "plt.ylabel('Predicted Values')\n",
        "plt.legend()\n",
        "plt.grid(True)\n",
        "plt.show()\n"
      ],
      "metadata": {
        "colab": {
          "base_uri": "https://localhost:8080/",
          "height": 564
        },
        "id": "37pwFVAHS6P-",
        "outputId": "5d803fa1-f286-4899-9b04-b56b3c816f8e"
      },
      "execution_count": null,
      "outputs": [
        {
          "output_type": "display_data",
          "data": {
            "text/plain": [
              "<Figure size 800x600 with 1 Axes>"
            ],
            "image/png": "[encoded data removed]"
          },
          "metadata": {}
        }
      ]
    }
  ]
}