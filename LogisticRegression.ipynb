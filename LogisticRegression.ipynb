{
  "nbformat": 4,
  "nbformat_minor": 0,
  "metadata": {
    "colab": {
      "provenance": [],
      "include_colab_link": true
    },
    "kernelspec": {
      "name": "python3",
      "display_name": "Python 3"
    },
    "language_info": {
      "name": "python"
    }
  },
  "cells": [
    {
      "cell_type": "markdown",
      "metadata": {
        "id": "view-in-github",
        "colab_type": "text"
      },
      "source": [
        "<a href=\"https://colab.research.google.com/github/Manya123-max/Machine-Learning-Algorithms/blob/main/LogisticRegression.ipynb\" target=\"_parent\"><img src=\"https://colab.research.google.com/assets/colab-badge.svg\" alt=\"Open In Colab\"/></a>"
      ]
    },
    {
      "cell_type": "markdown",
      "source": [
        "### **Importing important libraries**"
      ],
      "metadata": {
        "id": "MmootvVjAJHE"
      }
    },
    {
      "cell_type": "code",
      "execution_count": null,
      "metadata": {
        "id": "k1-rKJkdHmrX"
      },
      "outputs": [],
      "source": [
        "import numpy as np\n",
        "import matplotlib.pyplot as plt\n",
        "from sklearn.linear_model import LogisticRegression\n",
        "import pandas as pd"
      ]
    },
    {
      "cell_type": "markdown",
      "source": [
        "### **Importing dataset**"
      ],
      "metadata": {
        "id": "GIMFOtuQAXox"
      }
    },
    {
      "cell_type": "code",
      "source": [
        "dataframe = pd.read_csv('/content/house price prediction.csv')\n",
        "print(dataframe)"
      ],
      "metadata": {
        "id": "7CMdmpEVv7br",
        "colab": {
          "base_uri": "https://localhost:8080/"
        },
        "outputId": "ffd88831-a621-402d-a32b-fb3ee12e013b"
      },
      "execution_count": null,
      "outputs": [
        {
          "output_type": "stream",
          "name": "stdout",
          "text": [
            "         Area  BHK  Bathroom      Furnishing  \\\n",
            "0    800.0000    3       2.0  Semi-Furnished   \n",
            "1    750.0000    2       2.0  Semi-Furnished   \n",
            "2    950.0000    2       2.0       Furnished   \n",
            "3    600.0000    2       2.0  Semi-Furnished   \n",
            "4    650.0000    2       2.0  Semi-Furnished   \n",
            "5   1300.0000    4       3.0  Semi-Furnished   \n",
            "6   1350.0000    4       3.0  Semi-Furnished   \n",
            "7    650.0000    2       2.0  Semi-Furnished   \n",
            "8    985.0000    3       3.0     Unfurnished   \n",
            "9   1300.0000    4       4.0  Semi-Furnished   \n",
            "10  1100.0000    3       2.0  Semi-Furnished   \n",
            "11   870.0000    3       2.0  Semi-Furnished   \n",
            "12   630.0000    2       2.0  Semi-Furnished   \n",
            "13   660.0000    2       2.0  Semi-Furnished   \n",
            "14   344.4448    2       2.0  Semi-Furnished   \n",
            "15   660.0000    2       2.0  Semi-Furnished   \n",
            "16   550.0000    2       2.0  Semi-Furnished   \n",
            "17  1100.0000    4       3.0  Semi-Furnished   \n",
            "18  1150.0000    3       3.0  Semi-Furnished   \n",
            "19   650.0000    2       2.0  Semi-Furnished   \n",
            "20   850.0000    2       2.0  Semi-Furnished   \n",
            "21   900.0000    3       2.0  Semi-Furnished   \n",
            "22   430.5560    1       1.0       Furnished   \n",
            "23   900.0000    2       2.0  Semi-Furnished   \n",
            "24   914.9315    2       2.0  Semi-Furnished   \n",
            "25  1100.0000    3       3.0       Furnished   \n",
            "26   800.0000    3       2.0  Semi-Furnished   \n",
            "27   500.0000    1       1.0  Semi-Furnished   \n",
            "28    28.0000    2       2.0       Furnished   \n",
            "29  2160.0000    4       4.0       Furnished   \n",
            "30  1500.0000    1       NaN     Unfurnished   \n",
            "31   800.0000    2       2.0     Unfurnished   \n",
            "32   900.0000    2       2.0     Unfurnished   \n",
            "33  1080.0000    3       2.0  Semi-Furnished   \n",
            "34   750.0000    2       2.0     Unfurnished   \n",
            "35  1450.0000    3       3.0  Semi-Furnished   \n",
            "36   900.0000    2       2.0  Semi-Furnished   \n",
            "37   810.0000    2       2.0  Semi-Furnished   \n",
            "38  1350.0000    3       4.0     Unfurnished   \n",
            "39  1710.0000    3       3.0  Semi-Furnished   \n",
            "40  1650.0000    3       3.0  Semi-Furnished   \n",
            "41  1280.0000    2       2.0       Furnished   \n",
            "42  1260.0000    3       3.0  Semi-Furnished   \n",
            "43  1130.0000    2       2.0     Unfurnished   \n",
            "44   600.0000    2       2.0  Semi-Furnished   \n",
            "45   850.0000    2       2.0  Semi-Furnished   \n",
            "46  1500.0000    3       3.0  Semi-Furnished   \n",
            "47   900.0000    2       2.0  Semi-Furnished   \n",
            "48  1000.0000    3       3.0  Semi-Furnished   \n",
            "\n",
            "                                             Locality  Parking     Price  \\\n",
            "0                                    Rohini Sector 25      1.0   6500000   \n",
            "1              J R Designers Floors, Rohini Sector 24      1.0   5000000   \n",
            "2                 Citizen Apartment, Rohini Sector 13      1.0  15500000   \n",
            "3                                    Rohini Sector 24      1.0   4200000   \n",
            "4   Rohini Sector 24 carpet area 650 sqft status R...      1.0   6200000   \n",
            "5                                    Rohini Sector 24      1.0  15500000   \n",
            "6                                    Rohini Sector 24      1.0  10000000   \n",
            "7                       Delhi Homes, Rohini Sector 24      1.0   4000000   \n",
            "8                                    Rohini Sector 21      1.0   6800000   \n",
            "9                                    Rohini Sector 22      1.0  15000000   \n",
            "10                                   Rohini Sector 20      1.0   6200000   \n",
            "11                                   Rohini Sector 25      1.0   7700000   \n",
            "12                                   Rohini Sector 24      1.0   5500000   \n",
            "13                                   Rohini Sector 24      1.0   5000000   \n",
            "14  Rohini Sector 8 How Auctions work? The borrowe...      1.0   3310000   \n",
            "15  Rohini Sector 25 carpet area 660 sqft status R...      1.0   4700000   \n",
            "16                                   Rohini Sector 22      1.0   4500000   \n",
            "17                                   Rohini Sector 16      1.0  17000000   \n",
            "18                                   Rohini Sector 14      1.0  25000000   \n",
            "19                                   Rohini Sector 24      1.0   6000000   \n",
            "20                   Mayur Apartment, Rohini Sector 9      1.0  11000000   \n",
            "21                                Vijay Vihar, Rohini      5.0   4500000   \n",
            "22  Rohini Sector 18 carpet area 40 sqm status Rea...      2.0   5300000   \n",
            "23                             Prashant Vihar, Rohini      1.0  10500000   \n",
            "24                                    Rohini Sector 5      1.0  12000000   \n",
            "25                                   Rohini Sector 20      1.0   7000000   \n",
            "26                                   Rohini Sector 25      1.0   7000000   \n",
            "27              Sanskriti Apartment, Rohini Sector 28      1.0   3400000   \n",
            "28                                   Rohini Sector 25      1.0   5000000   \n",
            "29                                   Rohini Sector 19      1.0  21000000   \n",
            "30                                     Lajpat Nagar 2      NaN  13500000   \n",
            "31                                     Lajpat Nagar 1      1.0  15000000   \n",
            "32                                       Lajpat Nagar      1.0  10500000   \n",
            "33                         Vikram Vihar, Lajpat Nagar      1.0  22500000   \n",
            "34                                     Lajpat Nagar 4      1.0  13600000   \n",
            "35                                     Lajpat Nagar 3      2.0  30000000   \n",
            "36                                       Lajpat Nagar      1.0  13500000   \n",
            "37  Dayanand Colony, Lajpat Nagar How Auctions wor...      1.0   8910000   \n",
            "38                                       Lajpat Nagar      1.0  25000000   \n",
            "39                                     Lajpat Nagar 2      4.0  26000000   \n",
            "40                                       Lajpat Nagar      1.0  30000000   \n",
            "41                                       Lajpat Nagar      1.0  12500000   \n",
            "42                                     Lajpat Nagar 3      1.0  21000000   \n",
            "43                                     Lajpat Nagar 4      1.0   7800000   \n",
            "44                          Amar Colony, Lajpat Nagar      1.0  11500000   \n",
            "45                                     Lajpat Nagar 1      1.0  11500000   \n",
            "46                                     Lajpat Nagar 2      2.0  26000000   \n",
            "47                          Amar Colony, Lajpat Nagar      2.0  13000000   \n",
            "48                         Vikram Vihar, Lajpat Nagar      1.0  22000000   \n",
            "\n",
            "           Status   Transaction           Type  Per_Sqft  \n",
            "0   Ready_to_move  New_Property  Builder_Floor     33544  \n",
            "1   Ready_to_move  New_Property      Apartment      6667  \n",
            "2   Ready_to_move        Resale      Apartment      6667  \n",
            "3   Ready_to_move        Resale  Builder_Floor      6667  \n",
            "4   Ready_to_move  New_Property  Builder_Floor      6667  \n",
            "5   Ready_to_move  New_Property  Builder_Floor      6667  \n",
            "6   Ready_to_move        Resale  Builder_Floor      6667  \n",
            "7   Ready_to_move  New_Property      Apartment      6154  \n",
            "8    Almost_ready  New_Property  Builder_Floor      6154  \n",
            "9   Ready_to_move  New_Property  Builder_Floor      6154  \n",
            "10  Ready_to_move  New_Property  Builder_Floor      6154  \n",
            "11  Ready_to_move  New_Property  Builder_Floor      6154  \n",
            "12  Ready_to_move  New_Property  Builder_Floor      6154  \n",
            "13  Ready_to_move        Resale  Builder_Floor      6154  \n",
            "14  Ready_to_move        Resale  Builder_Floor      6154  \n",
            "15  Ready_to_move  New_Property  Builder_Floor      6154  \n",
            "16  Ready_to_move  New_Property  Builder_Floor      6154  \n",
            "17  Ready_to_move  New_Property  Builder_Floor      6154  \n",
            "18  Ready_to_move        Resale      Apartment      6154  \n",
            "19  Ready_to_move        Resale  Builder_Floor      6154  \n",
            "20  Ready_to_move        Resale      Apartment      6154  \n",
            "21  Ready_to_move        Resale  Builder_Floor      6154  \n",
            "22  Ready_to_move        Resale      Apartment      6154  \n",
            "23  Ready_to_move        Resale      Apartment      6154  \n",
            "24  Ready_to_move        Resale  Builder_Floor      6154  \n",
            "25  Ready_to_move  New_Property  Builder_Floor      6364  \n",
            "26  Ready_to_move        Resale  Builder_Floor      8750  \n",
            "27  Ready_to_move        Resale      Apartment      8750  \n",
            "28  Ready_to_move  New_Property      Apartment      8750  \n",
            "29  Ready_to_move  New_Property  Builder_Floor      9722  \n",
            "30  Ready_to_move        Resale      Apartment      4546  \n",
            "31  Ready_to_move  New_Property  Builder_Floor     66576  \n",
            "32  Ready_to_move  New_Property  Builder_Floor     74563  \n",
            "33  Ready_to_move  New_Property  Builder_Floor     76764  \n",
            "34  Ready_to_move  New_Property  Builder_Floor     44346  \n",
            "35  Ready_to_move  New_Property  Builder_Floor     34567  \n",
            "36  Ready_to_move  New_Property      Apartment     23244  \n",
            "37  Ready_to_move        Resale  Builder_Floor     13214  \n",
            "38  Ready_to_move        Resale      Apartment      4533  \n",
            "39  Ready_to_move  New_Property  Builder_Floor      6545  \n",
            "40  Ready_to_move        Resale  Builder_Floor      6754  \n",
            "41  Ready_to_move        Resale  Builder_Floor      8655  \n",
            "42  Ready_to_move        Resale  Builder_Floor     68678  \n",
            "43  Ready_to_move        Resale  Builder_Floor      8765  \n",
            "44  Ready_to_move  New_Property  Builder_Floor     23455  \n",
            "45  Ready_to_move        Resale  Builder_Floor      1312  \n",
            "46  Ready_to_move  New_Property  Builder_Floor      2335  \n",
            "47  Ready_to_move  New_Property  Builder_Floor     14444  \n",
            "48  Ready_to_move  New_Property  Builder_Floor     22000  \n"
          ]
        }
      ]
    },
    {
      "cell_type": "markdown",
      "source": [
        "### **Spliting Target column and Feature column**"
      ],
      "metadata": {
        "id": "-WNSctAJAg4o"
      }
    },
    {
      "cell_type": "code",
      "source": [
        "X = np.array(dataframe['Area']).reshape(-1,1)\n",
        "y= np.array(dataframe['Price'])\n",
        "print(X)\n",
        "print(y)"
      ],
      "metadata": {
        "colab": {
          "base_uri": "https://localhost:8080/"
        },
        "id": "qvzPGoBHw5wU",
        "outputId": "bc53279b-9922-4017-8405-adee5f3d8e81"
      },
      "execution_count": null,
      "outputs": [
        {
          "output_type": "stream",
          "name": "stdout",
          "text": [
            "[[ 800.    ]\n",
            " [ 750.    ]\n",
            " [ 950.    ]\n",
            " [ 600.    ]\n",
            " [ 650.    ]\n",
            " [1300.    ]\n",
            " [1350.    ]\n",
            " [ 650.    ]\n",
            " [ 985.    ]\n",
            " [1300.    ]\n",
            " [1100.    ]\n",
            " [ 870.    ]\n",
            " [ 630.    ]\n",
            " [ 660.    ]\n",
            " [ 344.4448]\n",
            " [ 660.    ]\n",
            " [ 550.    ]\n",
            " [1100.    ]\n",
            " [1150.    ]\n",
            " [ 650.    ]\n",
            " [ 850.    ]\n",
            " [ 900.    ]\n",
            " [ 430.556 ]\n",
            " [ 900.    ]\n",
            " [ 914.9315]\n",
            " [1100.    ]\n",
            " [ 800.    ]\n",
            " [ 500.    ]\n",
            " [  28.    ]\n",
            " [2160.    ]\n",
            " [1500.    ]\n",
            " [ 800.    ]\n",
            " [ 900.    ]\n",
            " [1080.    ]\n",
            " [ 750.    ]\n",
            " [1450.    ]\n",
            " [ 900.    ]\n",
            " [ 810.    ]\n",
            " [1350.    ]\n",
            " [1710.    ]\n",
            " [1650.    ]\n",
            " [1280.    ]\n",
            " [1260.    ]\n",
            " [1130.    ]\n",
            " [ 600.    ]\n",
            " [ 850.    ]\n",
            " [1500.    ]\n",
            " [ 900.    ]\n",
            " [1000.    ]]\n",
            "[ 6500000  5000000 15500000  4200000  6200000 15500000 10000000  4000000\n",
            "  6800000 15000000  6200000  7700000  5500000  5000000  3310000  4700000\n",
            "  4500000 17000000 25000000  6000000 11000000  4500000  5300000 10500000\n",
            " 12000000  7000000  7000000  3400000  5000000 21000000 13500000 15000000\n",
            " 10500000 22500000 13600000 30000000 13500000  8910000 25000000 26000000\n",
            " 30000000 12500000 21000000  7800000 11500000 11500000 26000000 13000000\n",
            " 22000000]\n"
          ]
        }
      ]
    },
    {
      "cell_type": "markdown",
      "source": [
        "### **Fitting Logistic regression**"
      ],
      "metadata": {
        "id": "qrTo1DNXA1Eu"
      }
    },
    {
      "cell_type": "code",
      "source": [
        "logistic_reg = LogisticRegression()\n",
        "logistic_reg.fit(X, y)"
      ],
      "metadata": {
        "colab": {
          "base_uri": "https://localhost:8080/",
          "height": 213
        },
        "id": "dbUAStULx0Ph",
        "outputId": "ff43e05f-3a60-458c-8014-9e7cd2d6443f"
      },
      "execution_count": null,
      "outputs": [
        {
          "output_type": "stream",
          "name": "stderr",
          "text": [
            "/usr/local/lib/python3.10/dist-packages/sklearn/linear_model/_logistic.py:458: ConvergenceWarning: lbfgs failed to converge (status=1):\n",
            "STOP: TOTAL NO. of ITERATIONS REACHED LIMIT.\n",
            "\n",
            "Increase the number of iterations (max_iter) or scale the data as shown in:\n",
            "    https://scikit-learn.org/stable/modules/preprocessing.html\n",
            "Please also refer to the documentation for alternative solver options:\n",
            "    https://scikit-learn.org/stable/modules/linear_model.html#logistic-regression\n",
            "  n_iter_i = _check_optimize_result(\n"
          ]
        },
        {
          "output_type": "execute_result",
          "data": {
            "text/plain": [
              "LogisticRegression()"
            ],
            "text/html": [
              "<style>#sk-container-id-1 {color: black;background-color: white;}#sk-container-id-1 pre{padding: 0;}#sk-container-id-1 div.sk-toggleable {background-color: white;}#sk-container-id-1 label.sk-toggleable__label {cursor: pointer;display: block;width: 100%;margin-bottom: 0;padding: 0.3em;box-sizing: border-box;text-align: center;}#sk-container-id-1 label.sk-toggleable__label-arrow:before {content: \"▸\";float: left;margin-right: 0.25em;color: #696969;}#sk-container-id-1 label.sk-toggleable__label-arrow:hover:before {color: black;}#sk-container-id-1 div.sk-estimator:hover label.sk-toggleable__label-arrow:before {color: black;}#sk-container-id-1 div.sk-toggleable__content {max-height: 0;max-width: 0;overflow: hidden;text-align: left;background-color: #f0f8ff;}#sk-container-id-1 div.sk-toggleable__content pre {margin: 0.2em;color: black;border-radius: 0.25em;background-color: #f0f8ff;}#sk-container-id-1 input.sk-toggleable__control:checked~div.sk-toggleable__content {max-height: 200px;max-width: 100%;overflow: auto;}#sk-container-id-1 input.sk-toggleable__control:checked~label.sk-toggleable__label-arrow:before {content: \"▾\";}#sk-container-id-1 div.sk-estimator input.sk-toggleable__control:checked~label.sk-toggleable__label {background-color: #d4ebff;}#sk-container-id-1 div.sk-label input.sk-toggleable__control:checked~label.sk-toggleable__label {background-color: #d4ebff;}#sk-container-id-1 input.sk-hidden--visually {border: 0;clip: rect(1px 1px 1px 1px);clip: rect(1px, 1px, 1px, 1px);height: 1px;margin: -1px;overflow: hidden;padding: 0;position: absolute;width: 1px;}#sk-container-id-1 div.sk-estimator {font-family: monospace;background-color: #f0f8ff;border: 1px dotted black;border-radius: 0.25em;box-sizing: border-box;margin-bottom: 0.5em;}#sk-container-id-1 div.sk-estimator:hover {background-color: #d4ebff;}#sk-container-id-1 div.sk-parallel-item::after {content: \"\";width: 100%;border-bottom: 1px solid gray;flex-grow: 1;}#sk-container-id-1 div.sk-label:hover label.sk-toggleable__label {background-color: #d4ebff;}#sk-container-id-1 div.sk-serial::before {content: \"\";position: absolute;border-left: 1px solid gray;box-sizing: border-box;top: 0;bottom: 0;left: 50%;z-index: 0;}#sk-container-id-1 div.sk-serial {display: flex;flex-direction: column;align-items: center;background-color: white;padding-right: 0.2em;padding-left: 0.2em;position: relative;}#sk-container-id-1 div.sk-item {position: relative;z-index: 1;}#sk-container-id-1 div.sk-parallel {display: flex;align-items: stretch;justify-content: center;background-color: white;position: relative;}#sk-container-id-1 div.sk-item::before, #sk-container-id-1 div.sk-parallel-item::before {content: \"\";position: absolute;border-left: 1px solid gray;box-sizing: border-box;top: 0;bottom: 0;left: 50%;z-index: -1;}#sk-container-id-1 div.sk-parallel-item {display: flex;flex-direction: column;z-index: 1;position: relative;background-color: white;}#sk-container-id-1 div.sk-parallel-item:first-child::after {align-self: flex-end;width: 50%;}#sk-container-id-1 div.sk-parallel-item:last-child::after {align-self: flex-start;width: 50%;}#sk-container-id-1 div.sk-parallel-item:only-child::after {width: 0;}#sk-container-id-1 div.sk-dashed-wrapped {border: 1px dashed gray;margin: 0 0.4em 0.5em 0.4em;box-sizing: border-box;padding-bottom: 0.4em;background-color: white;}#sk-container-id-1 div.sk-label label {font-family: monospace;font-weight: bold;display: inline-block;line-height: 1.2em;}#sk-container-id-1 div.sk-label-container {text-align: center;}#sk-container-id-1 div.sk-container {/* jupyter's `normalize.less` sets `[hidden] { display: none; }` but bootstrap.min.css set `[hidden] { display: none !important; }` so we also need the `!important` here to be able to override the default hidden behavior on the sphinx rendered scikit-learn.org. See: https://github.com/scikit-learn/scikit-learn/issues/21755 */display: inline-block !important;position: relative;}#sk-container-id-1 div.sk-text-repr-fallback {display: none;}</style><div id=\"sk-container-id-1\" class=\"sk-top-container\"><div class=\"sk-text-repr-fallback\"><pre>LogisticRegression()</pre><b>In a Jupyter environment, please rerun this cell to show the HTML representation or trust the notebook. <br />On GitHub, the HTML representation is unable to render, please try loading this page with nbviewer.org.</b></div><div class=\"sk-container\" hidden><div class=\"sk-item\"><div class=\"sk-estimator sk-toggleable\"><input class=\"sk-toggleable__control sk-hidden--visually\" id=\"sk-estimator-id-1\" type=\"checkbox\" checked><label for=\"sk-estimator-id-1\" class=\"sk-toggleable__label sk-toggleable__label-arrow\">LogisticRegression</label><div class=\"sk-toggleable__content\"><pre>LogisticRegression()</pre></div></div></div></div></div>"
            ]
          },
          "metadata": {},
          "execution_count": 5
        }
      ]
    },
    {
      "cell_type": "markdown",
      "source": [
        "### **Prediction value**"
      ],
      "metadata": {
        "id": "DI0o8AnGy3rt"
      }
    },
    {
      "cell_type": "code",
      "source": [
        "predicted = logistic_reg.predict(np.array([2]).reshape(-1,1))\n",
        "print(predicted)"
      ],
      "metadata": {
        "colab": {
          "base_uri": "https://localhost:8080/"
        },
        "id": "A7dcMxG3yUwC",
        "outputId": "65867060-3cb8-4c3e-e604-6ca6b9ba233c"
      },
      "execution_count": null,
      "outputs": [
        {
          "output_type": "stream",
          "name": "stdout",
          "text": [
            "[3310000]\n"
          ]
        }
      ]
    },
    {
      "cell_type": "markdown",
      "source": [
        "### **Function Explained**"
      ],
      "metadata": {
        "id": "gUmWfpFiBIcX"
      }
    },
    {
      "cell_type": "code",
      "source": [
        "log_odds = logistic_reg.coef_\n",
        "odds = np.exp(log_odds)\n",
        "\n",
        "print(odds)"
      ],
      "metadata": {
        "id": "tMEgOh0Ry6k5",
        "colab": {
          "base_uri": "https://localhost:8080/"
        },
        "outputId": "4d5a10c8-6e32-41cd-e392-fb184a6db1e6"
      },
      "execution_count": null,
      "outputs": [
        {
          "output_type": "stream",
          "name": "stdout",
          "text": [
            "[[0.97109251]\n",
            " [0.98342096]\n",
            " [0.99160862]\n",
            " [0.98912139]\n",
            " [0.988261  ]\n",
            " [0.99208623]\n",
            " [0.97728416]\n",
            " [0.97861981]\n",
            " [0.99063926]\n",
            " [0.99160862]\n",
            " [0.99823349]\n",
            " [0.99801616]\n",
            " [1.00424104]\n",
            " [1.00199583]\n",
            " [1.00056429]\n",
            " [1.00815061]\n",
            " [0.99839971]\n",
            " [1.01310127]\n",
            " [0.99956104]\n",
            " [0.99986767]\n",
            " [0.988261  ]\n",
            " [1.00205834]\n",
            " [1.01161947]\n",
            " [1.00157097]\n",
            " [1.01134818]\n",
            " [0.99604725]\n",
            " [1.00614885]\n",
            " [1.00884187]\n",
            " [1.00739393]\n",
            " [1.02489961]\n",
            " [1.00468104]\n",
            " [1.00687604]\n",
            " [1.01290259]\n",
            " [1.02272194]\n",
            " [1.02142258]]\n"
          ]
        }
      ]
    },
    {
      "cell_type": "markdown",
      "source": [
        "###**Sigmoid function**"
      ],
      "metadata": {
        "id": "97Obd4G3Bxk_"
      }
    },
    {
      "cell_type": "code",
      "source": [
        "def sigmoid(x):\n",
        "    return 1 / (1 + np.exp(-x))\n",
        "    print(sigmoid)\n",
        "result = sigmoid(0)\n",
        "print(result)"
      ],
      "metadata": {
        "id": "w9jtbib-wTz1",
        "colab": {
          "base_uri": "https://localhost:8080/"
        },
        "outputId": "3aeb17c6-45e2-4681-f862-d42344500f1e"
      },
      "execution_count": null,
      "outputs": [
        {
          "output_type": "stream",
          "name": "stdout",
          "text": [
            "0.5\n"
          ]
        }
      ]
    },
    {
      "cell_type": "markdown",
      "source": [
        "### **Plotting logistic regression**"
      ],
      "metadata": {
        "id": "DzEQlYOFCkWa"
      }
    },
    {
      "cell_type": "code",
      "source": [
        "import numpy as np\n",
        "import matplotlib.pyplot as plt\n",
        "\n",
        "X = np.linspace(-5, 5, 10000)\n",
        "y = np.sinh(X)\n",
        "\n",
        "def sigmoid(X):\n",
        "    return 1 / (1 + np.exp(-X))\n",
        "\n",
        "y_sigmoid = sigmoid(y)\n",
        "\n",
        "# Plot the original and transformed data\n",
        "plt.figure(figsize=(8, 6))\n",
        "plt.plot(X, y, label='Original Data', color='blue')\n",
        "plt.plot(X, y_sigmoid, label='Sigmoid Transformed Data', color='red')\n",
        "plt.xlabel('X')\n",
        "plt.ylabel('Y')\n",
        "plt.title('Sigmoid Transformation of Data')\n",
        "plt.legend()\n",
        "plt.grid(True)\n",
        "plt.show()\n"
      ],
      "metadata": {
        "colab": {
          "base_uri": "https://localhost:8080/",
          "height": 564
        },
        "id": "SbBG4I4_wv3y",
        "outputId": "68404aad-f2e0-4b4d-f036-0eca6c3b1934"
      },
      "execution_count": null,
      "outputs": [
        {
          "output_type": "display_data",
          "data": {
            "text/plain": [
              "<Figure size 800x600 with 1 Axes>"
            ],
            "image/png": "[encoded data removed]"
          },
          "metadata": {}
        }
      ]
    }
  ]
}