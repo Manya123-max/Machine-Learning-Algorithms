{
  "nbformat": 4,
  "nbformat_minor": 0,
  "metadata": {
    "colab": {
      "provenance": [],
      "authorship_tag": "ABX9TyMHPXS7tE9qSdN4uZF3KRmS",
      "include_colab_link": true
    },
    "kernelspec": {
      "name": "python3",
      "display_name": "Python 3"
    },
    "language_info": {
      "name": "python"
    }
  },
  "cells": [
    {
      "cell_type": "markdown",
      "metadata": {
        "id": "view-in-github",
        "colab_type": "text"
      },
      "source": [
        "<a href=\"https://colab.research.google.com/github/Manya123-max/Machine-Learning-Algorithms/blob/main/NaiveBayesMultinomial.ipynb\" target=\"_parent\"><img src=\"https://colab.research.google.com/assets/colab-badge.svg\" alt=\"Open In Colab\"/></a>"
      ]
    },
    {
      "cell_type": "code",
      "execution_count": null,
      "metadata": {
        "id": "xN7P-gPNZOcE"
      },
      "outputs": [],
      "source": [
        "# Step 1: Import necessary libraries\n",
        "import pandas as pd\n",
        "import numpy as np\n",
        "from sklearn.model_selection import train_test_split\n",
        "from sklearn.naive_bayes import MultinomialNB\n",
        "from sklearn.metrics import accuracy_score, confusion_matrix, classification_report\n",
        "from sklearn.preprocessing import MinMaxScaler\n",
        "import seaborn as sns\n",
        "import matplotlib.pyplot as plt"
      ]
    },
    {
      "cell_type": "code",
      "source": [
        "#Importing the data file in dataframe formate\n",
        "data=pd.read_csv('/content/apple.csv')\n",
        "print(data)"
      ],
      "metadata": {
        "colab": {
          "base_uri": "https://localhost:8080/"
        },
        "id": "XYNpDm77miTK",
        "outputId": "3350f537-b20f-485c-ed55-b236b0e456c3"
      },
      "execution_count": null,
      "outputs": [
        {
          "output_type": "stream",
          "name": "stdout",
          "text": [
            "      A_id      Size    Weight  Sweetness  Crunchiness  Juiciness  Ripeness  \\\n",
            "0        0 -3.970049 -2.512336   5.346330    -1.012009   1.844900  0.329840   \n",
            "1        1 -1.195217 -2.839257   3.664059     1.588232   0.853286  0.867530   \n",
            "2        2 -0.292024 -1.351282  -1.738429    -0.342616   2.838636 -0.038033   \n",
            "3        3 -0.657196 -2.271627   1.324874    -0.097875   3.637970 -3.413761   \n",
            "4        4  1.364217 -1.296612  -0.384658    -0.553006   3.030874 -1.303849   \n",
            "...    ...       ...       ...        ...          ...        ...       ...   \n",
            "3995  3995  0.059386 -1.067408  -3.714549     0.473052   1.697986  2.244055   \n",
            "3996  3996 -0.293118  1.949253  -0.204020    -0.640196   0.024523 -1.087900   \n",
            "3997  3997 -2.634515 -2.138247  -2.440461     0.657223   2.199709  4.763859   \n",
            "3998  3998 -4.008004 -1.779337   2.366397    -0.200329   2.161435  0.214488   \n",
            "3999  3999  0.278540 -1.715505   0.121217    -1.154075   1.266677 -0.776571   \n",
            "\n",
            "       Acidity Quality  \n",
            "0    -0.491590    good  \n",
            "1    -0.722809    good  \n",
            "2     2.621636     bad  \n",
            "3     0.790723    good  \n",
            "4     0.501984    good  \n",
            "...        ...     ...  \n",
            "3995  0.137784     bad  \n",
            "3996  1.854235    good  \n",
            "3997 -1.334611     bad  \n",
            "3998 -2.229720    good  \n",
            "3999  1.599796    good  \n",
            "\n",
            "[4000 rows x 9 columns]\n"
          ]
        }
      ]
    },
    {
      "cell_type": "code",
      "source": [
        "data.head(10)"
      ],
      "metadata": {
        "colab": {
          "base_uri": "https://localhost:8080/",
          "height": 363
        },
        "id": "RoJwKsTX-xr3",
        "outputId": "8a9d62a0-cae2-47e5-e192-807b441f39cc"
      },
      "execution_count": null,
      "outputs": [
        {
          "output_type": "execute_result",
          "data": {
            "text/plain": [
              "   A_id      Size    Weight  Sweetness  Crunchiness  Juiciness  Ripeness  \\\n",
              "0     0 -3.970049 -2.512336   5.346330    -1.012009   1.844900  0.329840   \n",
              "1     1 -1.195217 -2.839257   3.664059     1.588232   0.853286  0.867530   \n",
              "2     2 -0.292024 -1.351282  -1.738429    -0.342616   2.838636 -0.038033   \n",
              "3     3 -0.657196 -2.271627   1.324874    -0.097875   3.637970 -3.413761   \n",
              "4     4  1.364217 -1.296612  -0.384658    -0.553006   3.030874 -1.303849   \n",
              "5     5 -3.425400 -1.409082  -1.913511    -0.555775  -3.853071  1.914616   \n",
              "6     6  1.331606  1.635956   0.875974    -1.677798   3.106344 -1.847417   \n",
              "7     7 -1.995462 -0.428958   1.530644    -0.742972   0.158834  0.974438   \n",
              "8     8 -3.867632 -3.734514   0.986429    -1.207655   2.292873  4.080921   \n",
              "9     9 -0.727983 -0.442820  -4.092223     0.597513   0.393714  1.620857   \n",
              "\n",
              "    Acidity Quality  \n",
              "0 -0.491590    good  \n",
              "1 -0.722809    good  \n",
              "2  2.621636     bad  \n",
              "3  0.790723    good  \n",
              "4  0.501984    good  \n",
              "5 -2.981523     bad  \n",
              "6  2.414171    good  \n",
              "7 -1.470125    good  \n",
              "8 -4.871905     bad  \n",
              "9  2.185608     bad  "
            ],
            "text/html": [
              "\n",
              "  <div id=\"df-4b12f0ca-609a-4163-bfc2-60621c0e8942\" class=\"colab-df-container\">\n",
              "    <div>\n",
              "<style scoped>\n",
              "    .dataframe tbody tr th:only-of-type {\n",
              "        vertical-align: middle;\n",
              "    }\n",
              "\n",
              "    .dataframe tbody tr th {\n",
              "        vertical-align: top;\n",
              "    }\n",
              "\n",
              "    .dataframe thead th {\n",
              "        text-align: right;\n",
              "    }\n",
              "</style>\n",
              "<table border=\"1\" class=\"dataframe\">\n",
              "  <thead>\n",
              "    <tr style=\"text-align: right;\">\n",
              "      <th></th>\n",
              "      <th>A_id</th>\n",
              "      <th>Size</th>\n",
              "      <th>Weight</th>\n",
              "      <th>Sweetness</th>\n",
              "      <th>Crunchiness</th>\n",
              "      <th>Juiciness</th>\n",
              "      <th>Ripeness</th>\n",
              "      <th>Acidity</th>\n",
              "      <th>Quality</th>\n",
              "    </tr>\n",
              "  </thead>\n",
              "  <tbody>\n",
              "    <tr>\n",
              "      <th>0</th>\n",
              "      <td>0</td>\n",
              "      <td>-3.970049</td>\n",
              "      <td>-2.512336</td>\n",
              "      <td>5.346330</td>\n",
              "      <td>-1.012009</td>\n",
              "      <td>1.844900</td>\n",
              "      <td>0.329840</td>\n",
              "      <td>-0.491590</td>\n",
              "      <td>good</td>\n",
              "    </tr>\n",
              "    <tr>\n",
              "      <th>1</th>\n",
              "      <td>1</td>\n",
              "      <td>-1.195217</td>\n",
              "      <td>-2.839257</td>\n",
              "      <td>3.664059</td>\n",
              "      <td>1.588232</td>\n",
              "      <td>0.853286</td>\n",
              "      <td>0.867530</td>\n",
              "      <td>-0.722809</td>\n",
              "      <td>good</td>\n",
              "    </tr>\n",
              "    <tr>\n",
              "      <th>2</th>\n",
              "      <td>2</td>\n",
              "      <td>-0.292024</td>\n",
              "      <td>-1.351282</td>\n",
              "      <td>-1.738429</td>\n",
              "      <td>-0.342616</td>\n",
              "      <td>2.838636</td>\n",
              "      <td>-0.038033</td>\n",
              "      <td>2.621636</td>\n",
              "      <td>bad</td>\n",
              "    </tr>\n",
              "    <tr>\n",
              "      <th>3</th>\n",
              "      <td>3</td>\n",
              "      <td>-0.657196</td>\n",
              "      <td>-2.271627</td>\n",
              "      <td>1.324874</td>\n",
              "      <td>-0.097875</td>\n",
              "      <td>3.637970</td>\n",
              "      <td>-3.413761</td>\n",
              "      <td>0.790723</td>\n",
              "      <td>good</td>\n",
              "    </tr>\n",
              "    <tr>\n",
              "      <th>4</th>\n",
              "      <td>4</td>\n",
              "      <td>1.364217</td>\n",
              "      <td>-1.296612</td>\n",
              "      <td>-0.384658</td>\n",
              "      <td>-0.553006</td>\n",
              "      <td>3.030874</td>\n",
              "      <td>-1.303849</td>\n",
              "      <td>0.501984</td>\n",
              "      <td>good</td>\n",
              "    </tr>\n",
              "    <tr>\n",
              "      <th>5</th>\n",
              "      <td>5</td>\n",
              "      <td>-3.425400</td>\n",
              "      <td>-1.409082</td>\n",
              "      <td>-1.913511</td>\n",
              "      <td>-0.555775</td>\n",
              "      <td>-3.853071</td>\n",
              "      <td>1.914616</td>\n",
              "      <td>-2.981523</td>\n",
              "      <td>bad</td>\n",
              "    </tr>\n",
              "    <tr>\n",
              "      <th>6</th>\n",
              "      <td>6</td>\n",
              "      <td>1.331606</td>\n",
              "      <td>1.635956</td>\n",
              "      <td>0.875974</td>\n",
              "      <td>-1.677798</td>\n",
              "      <td>3.106344</td>\n",
              "      <td>-1.847417</td>\n",
              "      <td>2.414171</td>\n",
              "      <td>good</td>\n",
              "    </tr>\n",
              "    <tr>\n",
              "      <th>7</th>\n",
              "      <td>7</td>\n",
              "      <td>-1.995462</td>\n",
              "      <td>-0.428958</td>\n",
              "      <td>1.530644</td>\n",
              "      <td>-0.742972</td>\n",
              "      <td>0.158834</td>\n",
              "      <td>0.974438</td>\n",
              "      <td>-1.470125</td>\n",
              "      <td>good</td>\n",
              "    </tr>\n",
              "    <tr>\n",
              "      <th>8</th>\n",
              "      <td>8</td>\n",
              "      <td>-3.867632</td>\n",
              "      <td>-3.734514</td>\n",
              "      <td>0.986429</td>\n",
              "      <td>-1.207655</td>\n",
              "      <td>2.292873</td>\n",
              "      <td>4.080921</td>\n",
              "      <td>-4.871905</td>\n",
              "      <td>bad</td>\n",
              "    </tr>\n",
              "    <tr>\n",
              "      <th>9</th>\n",
              "      <td>9</td>\n",
              "      <td>-0.727983</td>\n",
              "      <td>-0.442820</td>\n",
              "      <td>-4.092223</td>\n",
              "      <td>0.597513</td>\n",
              "      <td>0.393714</td>\n",
              "      <td>1.620857</td>\n",
              "      <td>2.185608</td>\n",
              "      <td>bad</td>\n",
              "    </tr>\n",
              "  </tbody>\n",
              "</table>\n",
              "</div>\n",
              "    <div class=\"colab-df-buttons\">\n",
              "\n",
              "  <div class=\"colab-df-container\">\n",
              "    <button class=\"colab-df-convert\" onclick=\"convertToInteractive('df-4b12f0ca-609a-4163-bfc2-60621c0e8942')\"\n",
              "            title=\"Convert this dataframe to an interactive table.\"\n",
              "            style=\"display:none;\">\n",
              "\n",
              "  <svg xmlns=\"http://www.w3.org/2000/svg\" height=\"24px\" viewBox=\"0 -960 960 960\">\n",
              "    <path d=\"M120-120v-720h720v720H120Zm60-500h600v-160H180v160Zm220 220h160v-160H400v160Zm0 220h160v-160H400v160ZM180-400h160v-160H180v160Zm440 0h160v-160H620v160ZM180-180h160v-160H180v160Zm440 0h160v-160H620v160Z\"/>\n",
              "  </svg>\n",
              "    </button>\n",
              "\n",
              "  <style>\n",
              "    .colab-df-container {\n",
              "      display:flex;\n",
              "      gap: 12px;\n",
              "    }\n",
              "\n",
              "    .colab-df-convert {\n",
              "      background-color: #E8F0FE;\n",
              "      border: none;\n",
              "      border-radius: 50%;\n",
              "      cursor: pointer;\n",
              "      display: none;\n",
              "      fill: #1967D2;\n",
              "      height: 32px;\n",
              "      padding: 0 0 0 0;\n",
              "      width: 32px;\n",
              "    }\n",
              "\n",
              "    .colab-df-convert:hover {\n",
              "      background-color: #E2EBFA;\n",
              "      box-shadow: 0px 1px 2px rgba(60, 64, 67, 0.3), 0px 1px 3px 1px rgba(60, 64, 67, 0.15);\n",
              "      fill: #174EA6;\n",
              "    }\n",
              "\n",
              "    .colab-df-buttons div {\n",
              "      margin-bottom: 4px;\n",
              "    }\n",
              "\n",
              "    [theme=dark] .colab-df-convert {\n",
              "      background-color: #3B4455;\n",
              "      fill: #D2E3FC;\n",
              "    }\n",
              "\n",
              "    [theme=dark] .colab-df-convert:hover {\n",
              "      background-color: #434B5C;\n",
              "      box-shadow: 0px 1px 3px 1px rgba(0, 0, 0, 0.15);\n",
              "      filter: drop-shadow(0px 1px 2px rgba(0, 0, 0, 0.3));\n",
              "      fill: #FFFFFF;\n",
              "    }\n",
              "  </style>\n",
              "\n",
              "    <script>\n",
              "      const buttonEl =\n",
              "        document.querySelector('#df-4b12f0ca-609a-4163-bfc2-60621c0e8942 button.colab-df-convert');\n",
              "      buttonEl.style.display =\n",
              "        google.colab.kernel.accessAllowed ? 'block' : 'none';\n",
              "\n",
              "      async function convertToInteractive(key) {\n",
              "        const element = document.querySelector('#df-4b12f0ca-609a-4163-bfc2-60621c0e8942');\n",
              "        const dataTable =\n",
              "          await google.colab.kernel.invokeFunction('convertToInteractive',\n",
              "                                                    [key], {});\n",
              "        if (!dataTable) return;\n",
              "\n",
              "        const docLinkHtml = 'Like what you see? Visit the ' +\n",
              "          '<a target=\"_blank\" href=https://colab.research.google.com/notebooks/data_table.ipynb>data table notebook</a>'\n",
              "          + ' to learn more about interactive tables.';\n",
              "        element.innerHTML = '';\n",
              "        dataTable['output_type'] = 'display_data';\n",
              "        await google.colab.output.renderOutput(dataTable, element);\n",
              "        const docLink = document.createElement('div');\n",
              "        docLink.innerHTML = docLinkHtml;\n",
              "        element.appendChild(docLink);\n",
              "      }\n",
              "    </script>\n",
              "  </div>\n",
              "\n",
              "\n",
              "<div id=\"df-6dceb151-1a23-4dfa-a56d-b9e6907bb27a\">\n",
              "  <button class=\"colab-df-quickchart\" onclick=\"quickchart('df-6dceb151-1a23-4dfa-a56d-b9e6907bb27a')\"\n",
              "            title=\"Suggest charts\"\n",
              "            style=\"display:none;\">\n",
              "\n",
              "<svg xmlns=\"http://www.w3.org/2000/svg\" height=\"24px\"viewBox=\"0 0 24 24\"\n",
              "     width=\"24px\">\n",
              "    <g>\n",
              "        <path d=\"M19 3H5c-1.1 0-2 .9-2 2v14c0 1.1.9 2 2 2h14c1.1 0 2-.9 2-2V5c0-1.1-.9-2-2-2zM9 17H7v-7h2v7zm4 0h-2V7h2v10zm4 0h-2v-4h2v4z\"/>\n",
              "    </g>\n",
              "</svg>\n",
              "  </button>\n",
              "\n",
              "<style>\n",
              "  .colab-df-quickchart {\n",
              "      --bg-color: #E8F0FE;\n",
              "      --fill-color: #1967D2;\n",
              "      --hover-bg-color: #E2EBFA;\n",
              "      --hover-fill-color: #174EA6;\n",
              "      --disabled-fill-color: #AAA;\n",
              "      --disabled-bg-color: #DDD;\n",
              "  }\n",
              "\n",
              "  [theme=dark] .colab-df-quickchart {\n",
              "      --bg-color: #3B4455;\n",
              "      --fill-color: #D2E3FC;\n",
              "      --hover-bg-color: #434B5C;\n",
              "      --hover-fill-color: #FFFFFF;\n",
              "      --disabled-bg-color: #3B4455;\n",
              "      --disabled-fill-color: #666;\n",
              "  }\n",
              "\n",
              "  .colab-df-quickchart {\n",
              "    background-color: var(--bg-color);\n",
              "    border: none;\n",
              "    border-radius: 50%;\n",
              "    cursor: pointer;\n",
              "    display: none;\n",
              "    fill: var(--fill-color);\n",
              "    height: 32px;\n",
              "    padding: 0;\n",
              "    width: 32px;\n",
              "  }\n",
              "\n",
              "  .colab-df-quickchart:hover {\n",
              "    background-color: var(--hover-bg-color);\n",
              "    box-shadow: 0 1px 2px rgba(60, 64, 67, 0.3), 0 1px 3px 1px rgba(60, 64, 67, 0.15);\n",
              "    fill: var(--button-hover-fill-color);\n",
              "  }\n",
              "\n",
              "  .colab-df-quickchart-complete:disabled,\n",
              "  .colab-df-quickchart-complete:disabled:hover {\n",
              "    background-color: var(--disabled-bg-color);\n",
              "    fill: var(--disabled-fill-color);\n",
              "    box-shadow: none;\n",
              "  }\n",
              "\n",
              "  .colab-df-spinner {\n",
              "    border: 2px solid var(--fill-color);\n",
              "    border-color: transparent;\n",
              "    border-bottom-color: var(--fill-color);\n",
              "    animation:\n",
              "      spin 1s steps(1) infinite;\n",
              "  }\n",
              "\n",
              "  @keyframes spin {\n",
              "    0% {\n",
              "      border-color: transparent;\n",
              "      border-bottom-color: var(--fill-color);\n",
              "      border-left-color: var(--fill-color);\n",
              "    }\n",
              "    20% {\n",
              "      border-color: transparent;\n",
              "      border-left-color: var(--fill-color);\n",
              "      border-top-color: var(--fill-color);\n",
              "    }\n",
              "    30% {\n",
              "      border-color: transparent;\n",
              "      border-left-color: var(--fill-color);\n",
              "      border-top-color: var(--fill-color);\n",
              "      border-right-color: var(--fill-color);\n",
              "    }\n",
              "    40% {\n",
              "      border-color: transparent;\n",
              "      border-right-color: var(--fill-color);\n",
              "      border-top-color: var(--fill-color);\n",
              "    }\n",
              "    60% {\n",
              "      border-color: transparent;\n",
              "      border-right-color: var(--fill-color);\n",
              "    }\n",
              "    80% {\n",
              "      border-color: transparent;\n",
              "      border-right-color: var(--fill-color);\n",
              "      border-bottom-color: var(--fill-color);\n",
              "    }\n",
              "    90% {\n",
              "      border-color: transparent;\n",
              "      border-bottom-color: var(--fill-color);\n",
              "    }\n",
              "  }\n",
              "</style>\n",
              "\n",
              "  <script>\n",
              "    async function quickchart(key) {\n",
              "      const quickchartButtonEl =\n",
              "        document.querySelector('#' + key + ' button');\n",
              "      quickchartButtonEl.disabled = true;  // To prevent multiple clicks.\n",
              "      quickchartButtonEl.classList.add('colab-df-spinner');\n",
              "      try {\n",
              "        const charts = await google.colab.kernel.invokeFunction(\n",
              "            'suggestCharts', [key], {});\n",
              "      } catch (error) {\n",
              "        console.error('Error during call to suggestCharts:', error);\n",
              "      }\n",
              "      quickchartButtonEl.classList.remove('colab-df-spinner');\n",
              "      quickchartButtonEl.classList.add('colab-df-quickchart-complete');\n",
              "    }\n",
              "    (() => {\n",
              "      let quickchartButtonEl =\n",
              "        document.querySelector('#df-6dceb151-1a23-4dfa-a56d-b9e6907bb27a button');\n",
              "      quickchartButtonEl.style.display =\n",
              "        google.colab.kernel.accessAllowed ? 'block' : 'none';\n",
              "    })();\n",
              "  </script>\n",
              "</div>\n",
              "\n",
              "    </div>\n",
              "  </div>\n"
            ],
            "application/vnd.google.colaboratory.intrinsic+json": {
              "type": "dataframe",
              "variable_name": "data",
              "summary": "{\n  \"name\": \"data\",\n  \"rows\": 4000,\n  \"fields\": [\n    {\n      \"column\": \"A_id\",\n      \"properties\": {\n        \"dtype\": \"number\",\n        \"std\": 1154,\n        \"min\": 0,\n        \"max\": 3999,\n        \"num_unique_values\": 4000,\n        \"samples\": [\n          555,\n          3491,\n          527\n        ],\n        \"semantic_type\": \"\",\n        \"description\": \"\"\n      }\n    },\n    {\n      \"column\": \"Size\",\n      \"properties\": {\n        \"dtype\": \"number\",\n        \"std\": 1.928058688854979,\n        \"min\": -7.151703059,\n        \"max\": 6.406366899,\n        \"num_unique_values\": 4000,\n        \"samples\": [\n          3.099410637,\n          1.439787602,\n          1.20678634\n        ],\n        \"semantic_type\": \"\",\n        \"description\": \"\"\n      }\n    },\n    {\n      \"column\": \"Weight\",\n      \"properties\": {\n        \"dtype\": \"number\",\n        \"std\": 1.6025072141517547,\n        \"min\": -7.149847675,\n        \"max\": 5.79071359,\n        \"num_unique_values\": 4000,\n        \"samples\": [\n          -1.691560679,\n          -0.223976263,\n          -0.508979201\n        ],\n        \"semantic_type\": \"\",\n        \"description\": \"\"\n      }\n    },\n    {\n      \"column\": \"Sweetness\",\n      \"properties\": {\n        \"dtype\": \"number\",\n        \"std\": 1.943440658920452,\n        \"min\": -6.894485494,\n        \"max\": 6.374915513,\n        \"num_unique_values\": 4000,\n        \"samples\": [\n          -3.679364,\n          -0.061448613,\n          1.736206944\n        ],\n        \"semantic_type\": \"\",\n        \"description\": \"\"\n      }\n    },\n    {\n      \"column\": \"Crunchiness\",\n      \"properties\": {\n        \"dtype\": \"number\",\n        \"std\": 1.402757204211963,\n        \"min\": -6.055057805,\n        \"max\": 7.619851801,\n        \"num_unique_values\": 4000,\n        \"samples\": [\n          0.963605627,\n          1.412704629,\n          1.301010753\n        ],\n        \"semantic_type\": \"\",\n        \"description\": \"\"\n      }\n    },\n    {\n      \"column\": \"Juiciness\",\n      \"properties\": {\n        \"dtype\": \"number\",\n        \"std\": 1.9302856730942946,\n        \"min\": -5.961897048,\n        \"max\": 7.364402864,\n        \"num_unique_values\": 4000,\n        \"samples\": [\n          0.538102393,\n          0.885640988,\n          -0.556148589\n        ],\n        \"semantic_type\": \"\",\n        \"description\": \"\"\n      }\n    },\n    {\n      \"column\": \"Ripeness\",\n      \"properties\": {\n        \"dtype\": \"number\",\n        \"std\": 1.8744267757033417,\n        \"min\": -5.864598918,\n        \"max\": 7.237836684,\n        \"num_unique_values\": 4000,\n        \"samples\": [\n          1.660099378,\n          -2.191810607,\n          -1.332051678\n        ],\n        \"semantic_type\": \"\",\n        \"description\": \"\"\n      }\n    },\n    {\n      \"column\": \"Acidity\",\n      \"properties\": {\n        \"dtype\": \"number\",\n        \"std\": 2.110269636420919,\n        \"min\": -7.010538475,\n        \"max\": 7.404736238,\n        \"num_unique_values\": 4000,\n        \"samples\": [\n          -0.544761148,\n          1.952776768,\n          1.009155619\n        ],\n        \"semantic_type\": \"\",\n        \"description\": \"\"\n      }\n    },\n    {\n      \"column\": \"Quality\",\n      \"properties\": {\n        \"dtype\": \"category\",\n        \"num_unique_values\": 2,\n        \"samples\": [\n          \"bad\",\n          \"good\"\n        ],\n        \"semantic_type\": \"\",\n        \"description\": \"\"\n      }\n    }\n  ]\n}"
            }
          },
          "metadata": {},
          "execution_count": 8
        }
      ]
    },
    {
      "cell_type": "code",
      "source": [
        "#performing the labelencoding for the categorical data\n",
        "from sklearn.preprocessing import LabelEncoder\n",
        "label_encoders = {}\n",
        "for column in data.columns:\n",
        "    if data['Quality'].dtype == 'object':\n",
        "        label_encoders['Quality'] = LabelEncoder()\n",
        "\n",
        "# Fit and transform each categorical column\n",
        "for column, encoder in label_encoders.items():\n",
        "    data['Quality'] = encoder.fit_transform(data['Quality'])\n",
        "print(data)"
      ],
      "metadata": {
        "colab": {
          "base_uri": "https://localhost:8080/"
        },
        "id": "cnhiAz6M3dCC",
        "outputId": "eba9c6c6-753f-40dd-81ba-aa8c6a5361f0"
      },
      "execution_count": null,
      "outputs": [
        {
          "output_type": "stream",
          "name": "stdout",
          "text": [
            "      A_id      Size    Weight  Sweetness  Crunchiness  Juiciness  Ripeness  \\\n",
            "0        0 -3.970049 -2.512336   5.346330    -1.012009   1.844900  0.329840   \n",
            "1        1 -1.195217 -2.839257   3.664059     1.588232   0.853286  0.867530   \n",
            "2        2 -0.292024 -1.351282  -1.738429    -0.342616   2.838636 -0.038033   \n",
            "3        3 -0.657196 -2.271627   1.324874    -0.097875   3.637970 -3.413761   \n",
            "4        4  1.364217 -1.296612  -0.384658    -0.553006   3.030874 -1.303849   \n",
            "...    ...       ...       ...        ...          ...        ...       ...   \n",
            "3995  3995  0.059386 -1.067408  -3.714549     0.473052   1.697986  2.244055   \n",
            "3996  3996 -0.293118  1.949253  -0.204020    -0.640196   0.024523 -1.087900   \n",
            "3997  3997 -2.634515 -2.138247  -2.440461     0.657223   2.199709  4.763859   \n",
            "3998  3998 -4.008004 -1.779337   2.366397    -0.200329   2.161435  0.214488   \n",
            "3999  3999  0.278540 -1.715505   0.121217    -1.154075   1.266677 -0.776571   \n",
            "\n",
            "       Acidity  Quality  \n",
            "0    -0.491590        1  \n",
            "1    -0.722809        1  \n",
            "2     2.621636        0  \n",
            "3     0.790723        1  \n",
            "4     0.501984        1  \n",
            "...        ...      ...  \n",
            "3995  0.137784        0  \n",
            "3996  1.854235        1  \n",
            "3997 -1.334611        0  \n",
            "3998 -2.229720        1  \n",
            "3999  1.599796        1  \n",
            "\n",
            "[4000 rows x 9 columns]\n"
          ]
        }
      ]
    },
    {
      "cell_type": "code",
      "source": [
        "data.isnull().sum()"
      ],
      "metadata": {
        "colab": {
          "base_uri": "https://localhost:8080/"
        },
        "id": "gnvXrTwymv7N",
        "outputId": "041bcf9a-7247-4808-f3cc-dd8b12d3ea17"
      },
      "execution_count": null,
      "outputs": [
        {
          "output_type": "execute_result",
          "data": {
            "text/plain": [
              "A_id           0\n",
              "Size           0\n",
              "Weight         0\n",
              "Sweetness      0\n",
              "Crunchiness    0\n",
              "Juiciness      0\n",
              "Ripeness       0\n",
              "Acidity        0\n",
              "Quality        0\n",
              "dtype: int64"
            ]
          },
          "metadata": {},
          "execution_count": 10
        }
      ]
    },
    {
      "cell_type": "code",
      "source": [
        "data.duplicated().sum()"
      ],
      "metadata": {
        "colab": {
          "base_uri": "https://localhost:8080/"
        },
        "id": "jrr3Gr0Em5bN",
        "outputId": "c36efa5e-ff1d-47e0-c556-5bf5cce85201"
      },
      "execution_count": null,
      "outputs": [
        {
          "output_type": "execute_result",
          "data": {
            "text/plain": [
              "0"
            ]
          },
          "metadata": {},
          "execution_count": 11
        }
      ]
    },
    {
      "cell_type": "code",
      "source": [
        "# Create box plots for all attributes\n",
        "plt.figure(figsize=(10, 6))  # Set the figure size\n",
        "data.boxplot()  # Create box plots for all attributes\n",
        "plt.xticks(rotation=90)  # Rotate x-axis labels for better readability\n",
        "plt.title('Box Plot of All Attributes')\n",
        "plt.ylabel('Values')\n",
        "plt.xlabel('Attributes')\n",
        "plt.tight_layout()  # Adjust layout to prevent overlapping labels\n",
        "plt.show()"
      ],
      "metadata": {
        "colab": {
          "base_uri": "https://localhost:8080/",
          "height": 607
        },
        "id": "6PUtQ3PDm9u9",
        "outputId": "617989bc-60e3-44b4-9e4d-000fb282e568"
      },
      "execution_count": null,
      "outputs": [
        {
          "output_type": "display_data",
          "data": {
            "text/plain": [
              "<Figure size 1000x600 with 1 Axes>"
            ],
            "image/png": "[encoded data removed]"
          },
          "metadata": {}
        }
      ]
    },
    {
      "cell_type": "code",
      "source": [
        "# Handling outliers\n",
        "def handle_outliers(data, threshold=3):\n",
        "    numerical_columns = data.select_dtypes(include=np.number).columns\n",
        "    for column in numerical_columns:\n",
        "        z_scores = np.abs((data[column] - data[column].mean()) / data[column].std())\n",
        "        data = data[z_scores < threshold]\n",
        "    return data\n",
        "\n",
        "# Call the function to handle outliers\n",
        "cleaned_data = handle_outliers(data)\n",
        "print(cleaned_data)"
      ],
      "metadata": {
        "colab": {
          "base_uri": "https://localhost:8080/"
        },
        "id": "WgAsC7UE_Fha",
        "outputId": "ec72c22c-7a8e-47d4-cba3-cc903725157d"
      },
      "execution_count": null,
      "outputs": [
        {
          "output_type": "stream",
          "name": "stdout",
          "text": [
            "      A_id      Size    Weight  Sweetness  Crunchiness  Juiciness  Ripeness  \\\n",
            "0        0 -3.970049 -2.512336   5.346330    -1.012009   1.844900  0.329840   \n",
            "1        1 -1.195217 -2.839257   3.664059     1.588232   0.853286  0.867530   \n",
            "2        2 -0.292024 -1.351282  -1.738429    -0.342616   2.838636 -0.038033   \n",
            "3        3 -0.657196 -2.271627   1.324874    -0.097875   3.637970 -3.413761   \n",
            "4        4  1.364217 -1.296612  -0.384658    -0.553006   3.030874 -1.303849   \n",
            "...    ...       ...       ...        ...          ...        ...       ...   \n",
            "3995  3995  0.059386 -1.067408  -3.714549     0.473052   1.697986  2.244055   \n",
            "3996  3996 -0.293118  1.949253  -0.204020    -0.640196   0.024523 -1.087900   \n",
            "3997  3997 -2.634515 -2.138247  -2.440461     0.657223   2.199709  4.763859   \n",
            "3998  3998 -4.008004 -1.779337   2.366397    -0.200329   2.161435  0.214488   \n",
            "3999  3999  0.278540 -1.715505   0.121217    -1.154075   1.266677 -0.776571   \n",
            "\n",
            "       Acidity  Quality  \n",
            "0    -0.491590        1  \n",
            "1    -0.722809        1  \n",
            "2     2.621636        0  \n",
            "3     0.790723        1  \n",
            "4     0.501984        1  \n",
            "...        ...      ...  \n",
            "3995  0.137784        0  \n",
            "3996  1.854235        1  \n",
            "3997 -1.334611        0  \n",
            "3998 -2.229720        1  \n",
            "3999  1.599796        1  \n",
            "\n",
            "[3902 rows x 9 columns]\n"
          ]
        }
      ]
    },
    {
      "cell_type": "code",
      "source": [
        "# Step 4: Perform exploratory data analysis (EDA)\n",
        "print(\"Data Info:\")\n",
        "print(cleaned_data.info())\n",
        "print(\"\\nData Description:\")\n",
        "print(cleaned_data.describe())\n",
        "print(\"\\nClass Distribution:\")\n",
        "print(cleaned_data['Quality'].value_counts())"
      ],
      "metadata": {
        "colab": {
          "base_uri": "https://localhost:8080/"
        },
        "id": "qSjb7wwuQpkS",
        "outputId": "b928c397-5a32-4ff8-fbc3-e304f4868d01"
      },
      "execution_count": null,
      "outputs": [
        {
          "output_type": "stream",
          "name": "stdout",
          "text": [
            "Data Info:\n",
            "<class 'pandas.core.frame.DataFrame'>\n",
            "Index: 3902 entries, 0 to 3999\n",
            "Data columns (total 9 columns):\n",
            " #   Column       Non-Null Count  Dtype  \n",
            "---  ------       --------------  -----  \n",
            " 0   A_id         3902 non-null   int64  \n",
            " 1   Size         3902 non-null   float64\n",
            " 2   Weight       3902 non-null   float64\n",
            " 3   Sweetness    3902 non-null   float64\n",
            " 4   Crunchiness  3902 non-null   float64\n",
            " 5   Juiciness    3902 non-null   float64\n",
            " 6   Ripeness     3902 non-null   float64\n",
            " 7   Acidity      3902 non-null   float64\n",
            " 8   Quality      3902 non-null   int64  \n",
            "dtypes: float64(7), int64(2)\n",
            "memory usage: 304.8 KB\n",
            "None\n",
            "\n",
            "Data Description:\n",
            "              A_id         Size       Weight    Sweetness  Crunchiness  \\\n",
            "count  3902.000000  3902.000000  3902.000000  3902.000000  3902.000000   \n",
            "mean   1996.982573    -0.511782    -0.990527    -0.470001     0.980879   \n",
            "std    1154.349564     1.886113     1.549951     1.909199     1.335021   \n",
            "min       0.000000    -6.099551    -5.746384    -5.958315    -3.127340   \n",
            "25%     997.250000    -1.816121    -1.996117    -1.728661     0.078055   \n",
            "50%    1990.500000    -0.522583    -0.983899    -0.503679     0.994626   \n",
            "75%    2998.750000     0.774813     0.021661     0.790203     1.879485   \n",
            "max    3999.000000     5.225383     3.772173     5.346330     4.937210   \n",
            "\n",
            "         Juiciness     Ripeness      Acidity      Quality  \n",
            "count  3902.000000  3902.000000  3902.000000  3902.000000  \n",
            "mean      0.518817     0.514161     0.073711     0.496925  \n",
            "std       1.880354     1.837482     2.081221     0.500055  \n",
            "min      -4.924983    -4.851519    -5.917900     0.000000  \n",
            "25%      -0.791374    -0.734779    -1.376784     0.000000  \n",
            "50%       0.527427     0.520584     0.020796     0.000000  \n",
            "75%       1.824892     1.769622     1.499764     1.000000  \n",
            "max       6.226448     6.066233     6.348870     1.000000  \n",
            "\n",
            "Class Distribution:\n",
            "Quality\n",
            "0    1963\n",
            "1    1939\n",
            "Name: count, dtype: int64\n"
          ]
        }
      ]
    },
    {
      "cell_type": "code",
      "source": [
        "# Plotting class distribution\n",
        "plt.figure(figsize=(8, 6))\n",
        "sns.countplot(x='Quality', data=cleaned_data)\n",
        "plt.title('Class Distribution')\n",
        "plt.show()\n"
      ],
      "metadata": {
        "colab": {
          "base_uri": "https://localhost:8080/",
          "height": 564
        },
        "id": "sTw1pYHXQ0fH",
        "outputId": "61fdfe4f-c3a2-458f-e48d-c31e432121e7"
      },
      "execution_count": null,
      "outputs": [
        {
          "output_type": "display_data",
          "data": {
            "text/plain": [
              "<Figure size 800x600 with 1 Axes>"
            ],
            "image/png": "[encoded data removed]"
          },
          "metadata": {}
        }
      ]
    },
    {
      "cell_type": "code",
      "source": [
        "# Assuming the label column is named 'quality' and the rest are features\n",
        "X = cleaned_data.drop('Quality', axis=1)\n",
        "y = cleaned_data['Quality']"
      ],
      "metadata": {
        "id": "7WqNr8ROQIGW"
      },
      "execution_count": null,
      "outputs": []
    },
    {
      "cell_type": "code",
      "source": [
        "# Convert negative data to positive data using Min-Max scaling\n",
        "scaler = MinMaxScaler()\n",
        "X_scaled = scaler.fit_transform(X)"
      ],
      "metadata": {
        "id": "Mb5a8kN0UBZV"
      },
      "execution_count": null,
      "outputs": []
    },
    {
      "cell_type": "code",
      "source": [
        "# Step 3: Split the data into training and testing sets\n",
        "X_train, X_test, y_train, y_test = train_test_split(X_scaled, y, test_size=0.2, random_state=42)"
      ],
      "metadata": {
        "id": "XrsqenbOofL1"
      },
      "execution_count": null,
      "outputs": []
    },
    {
      "cell_type": "code",
      "source": [
        "# Step 5: Train the Multinomial Naive Bayes (MNB) model\n",
        "mnb = MultinomialNB()\n",
        "\n",
        "# Step 6: Fit the model\n",
        "mnb.fit(X_train, y_train)"
      ],
      "metadata": {
        "id": "2z0L8z8ngB0C",
        "colab": {
          "base_uri": "https://localhost:8080/",
          "height": 75
        },
        "outputId": "0de45093-fcbe-4172-f407-9507145e6eed"
      },
      "execution_count": null,
      "outputs": [
        {
          "output_type": "execute_result",
          "data": {
            "text/plain": [
              "MultinomialNB()"
            ],
            "text/html": [
              "<style>#sk-container-id-1 {color: black;background-color: white;}#sk-container-id-1 pre{padding: 0;}#sk-container-id-1 div.sk-toggleable {background-color: white;}#sk-container-id-1 label.sk-toggleable__label {cursor: pointer;display: block;width: 100%;margin-bottom: 0;padding: 0.3em;box-sizing: border-box;text-align: center;}#sk-container-id-1 label.sk-toggleable__label-arrow:before {content: \"▸\";float: left;margin-right: 0.25em;color: #696969;}#sk-container-id-1 label.sk-toggleable__label-arrow:hover:before {color: black;}#sk-container-id-1 div.sk-estimator:hover label.sk-toggleable__label-arrow:before {color: black;}#sk-container-id-1 div.sk-toggleable__content {max-height: 0;max-width: 0;overflow: hidden;text-align: left;background-color: #f0f8ff;}#sk-container-id-1 div.sk-toggleable__content pre {margin: 0.2em;color: black;border-radius: 0.25em;background-color: #f0f8ff;}#sk-container-id-1 input.sk-toggleable__control:checked~div.sk-toggleable__content {max-height: 200px;max-width: 100%;overflow: auto;}#sk-container-id-1 input.sk-toggleable__control:checked~label.sk-toggleable__label-arrow:before {content: \"▾\";}#sk-container-id-1 div.sk-estimator input.sk-toggleable__control:checked~label.sk-toggleable__label {background-color: #d4ebff;}#sk-container-id-1 div.sk-label input.sk-toggleable__control:checked~label.sk-toggleable__label {background-color: #d4ebff;}#sk-container-id-1 input.sk-hidden--visually {border: 0;clip: rect(1px 1px 1px 1px);clip: rect(1px, 1px, 1px, 1px);height: 1px;margin: -1px;overflow: hidden;padding: 0;position: absolute;width: 1px;}#sk-container-id-1 div.sk-estimator {font-family: monospace;background-color: #f0f8ff;border: 1px dotted black;border-radius: 0.25em;box-sizing: border-box;margin-bottom: 0.5em;}#sk-container-id-1 div.sk-estimator:hover {background-color: #d4ebff;}#sk-container-id-1 div.sk-parallel-item::after {content: \"\";width: 100%;border-bottom: 1px solid gray;flex-grow: 1;}#sk-container-id-1 div.sk-label:hover label.sk-toggleable__label {background-color: #d4ebff;}#sk-container-id-1 div.sk-serial::before {content: \"\";position: absolute;border-left: 1px solid gray;box-sizing: border-box;top: 0;bottom: 0;left: 50%;z-index: 0;}#sk-container-id-1 div.sk-serial {display: flex;flex-direction: column;align-items: center;background-color: white;padding-right: 0.2em;padding-left: 0.2em;position: relative;}#sk-container-id-1 div.sk-item {position: relative;z-index: 1;}#sk-container-id-1 div.sk-parallel {display: flex;align-items: stretch;justify-content: center;background-color: white;position: relative;}#sk-container-id-1 div.sk-item::before, #sk-container-id-1 div.sk-parallel-item::before {content: \"\";position: absolute;border-left: 1px solid gray;box-sizing: border-box;top: 0;bottom: 0;left: 50%;z-index: -1;}#sk-container-id-1 div.sk-parallel-item {display: flex;flex-direction: column;z-index: 1;position: relative;background-color: white;}#sk-container-id-1 div.sk-parallel-item:first-child::after {align-self: flex-end;width: 50%;}#sk-container-id-1 div.sk-parallel-item:last-child::after {align-self: flex-start;width: 50%;}#sk-container-id-1 div.sk-parallel-item:only-child::after {width: 0;}#sk-container-id-1 div.sk-dashed-wrapped {border: 1px dashed gray;margin: 0 0.4em 0.5em 0.4em;box-sizing: border-box;padding-bottom: 0.4em;background-color: white;}#sk-container-id-1 div.sk-label label {font-family: monospace;font-weight: bold;display: inline-block;line-height: 1.2em;}#sk-container-id-1 div.sk-label-container {text-align: center;}#sk-container-id-1 div.sk-container {/* jupyter's `normalize.less` sets `[hidden] { display: none; }` but bootstrap.min.css set `[hidden] { display: none !important; }` so we also need the `!important` here to be able to override the default hidden behavior on the sphinx rendered scikit-learn.org. See: https://github.com/scikit-learn/scikit-learn/issues/21755 */display: inline-block !important;position: relative;}#sk-container-id-1 div.sk-text-repr-fallback {display: none;}</style><div id=\"sk-container-id-1\" class=\"sk-top-container\"><div class=\"sk-text-repr-fallback\"><pre>MultinomialNB()</pre><b>In a Jupyter environment, please rerun this cell to show the HTML representation or trust the notebook. <br />On GitHub, the HTML representation is unable to render, please try loading this page with nbviewer.org.</b></div><div class=\"sk-container\" hidden><div class=\"sk-item\"><div class=\"sk-estimator sk-toggleable\"><input class=\"sk-toggleable__control sk-hidden--visually\" id=\"sk-estimator-id-1\" type=\"checkbox\" checked><label for=\"sk-estimator-id-1\" class=\"sk-toggleable__label sk-toggleable__label-arrow\">MultinomialNB</label><div class=\"sk-toggleable__content\"><pre>MultinomialNB()</pre></div></div></div></div></div>"
            ]
          },
          "metadata": {},
          "execution_count": 20
        }
      ]
    },
    {
      "cell_type": "code",
      "source": [
        "# Step 7: Evaluate the performance of the model\n",
        "y_pred_train = mnb.predict(X_train)\n",
        "y_pred_test = mnb.predict(X_test)\n",
        "print(y_pred_train)\n",
        "print(y_pred_test)"
      ],
      "metadata": {
        "colab": {
          "base_uri": "https://localhost:8080/"
        },
        "id": "4GnzoZIpVaXZ",
        "outputId": "a2485274-2400-4628-c586-50dacdef0a0e"
      },
      "execution_count": null,
      "outputs": [
        {
          "output_type": "stream",
          "name": "stdout",
          "text": [
            "[0 0 1 ... 1 0 1]\n",
            "[0 1 0 0 1 0 0 0 1 0 0 0 0 0 1 1 1 1 1 1 0 0 0 0 1 1 0 1 1 1 0 0 1 1 0 1 0\n",
            " 0 1 0 0 1 1 0 0 0 0 1 1 0 1 0 0 1 0 0 0 1 0 1 0 1 1 1 0 1 0 1 1 1 1 1 1 0\n",
            " 1 0 0 0 1 0 1 0 0 0 1 0 1 0 1 0 0 1 0 0 1 0 1 1 0 0 0 0 1 0 0 1 0 1 1 0 0\n",
            " 0 1 0 0 0 1 0 1 1 0 1 1 0 0 0 0 0 0 1 0 0 0 0 0 1 0 0 1 1 0 0 0 0 0 0 0 1\n",
            " 0 0 0 1 0 0 0 0 1 0 1 1 1 0 0 0 0 1 0 0 0 1 1 1 0 1 1 0 0 0 0 1 1 0 1 1 1\n",
            " 0 1 0 1 0 1 1 1 1 1 0 1 1 1 1 1 1 1 1 0 1 1 0 0 1 0 1 0 0 1 0 1 0 0 0 0 0\n",
            " 1 0 1 1 0 1 0 0 1 1 1 1 0 1 0 1 0 0 0 1 0 0 1 0 0 0 0 1 1 1 0 0 1 0 1 1 1\n",
            " 1 0 0 0 1 1 0 1 1 0 1 1 1 1 1 1 0 1 0 1 0 0 1 0 0 0 0 0 1 1 0 0 0 0 1 0 1\n",
            " 1 0 1 1 1 0 1 0 0 1 1 0 0 1 0 1 1 0 1 1 1 1 1 1 1 0 1 0 0 0 0 0 0 0 0 1 1\n",
            " 0 0 0 0 1 0 1 1 0 1 1 0 0 0 0 0 1 0 0 0 1 0 1 0 0 0 1 0 1 1 1 0 1 1 1 1 1\n",
            " 1 1 0 0 1 0 1 1 1 0 0 1 0 0 1 1 1 0 0 1 0 0 1 1 0 0 1 1 0 0 1 1 1 0 0 0 1\n",
            " 1 1 0 1 1 0 0 0 1 1 0 0 1 1 1 0 0 1 0 1 0 1 1 0 1 1 1 1 0 1 0 1 0 0 1 0 0\n",
            " 0 0 1 0 1 1 0 1 1 0 1 0 0 1 1 0 1 0 0 1 1 0 1 0 0 1 0 0 1 0 0 0 1 1 1 0 0\n",
            " 1 1 0 1 0 1 0 0 1 0 1 1 0 0 0 0 0 0 0 0 1 1 0 1 0 0 0 0 0 0 0 0 0 1 1 0 1\n",
            " 1 1 1 1 1 1 0 1 1 0 0 0 1 1 0 1 1 0 0 0 1 1 1 0 1 1 1 0 0 0 1 1 1 1 0 1 0\n",
            " 1 0 0 0 1 1 0 0 0 0 1 1 0 1 1 1 1 0 0 1 0 0 0 0 0 0 1 1 1 1 0 0 0 1 0 0 0\n",
            " 1 1 1 1 1 1 0 1 0 0 1 0 0 0 0 0 0 1 1 0 1 0 1 1 1 0 0 0 1 1 0 1 1 1 1 1 0\n",
            " 0 1 0 1 0 1 0 0 0 0 0 1 1 0 1 1 1 0 0 1 1 0 1 1 0 0 1 1 0 1 1 1 0 1 0 0 0\n",
            " 0 0 1 0 1 0 1 1 0 1 1 1 0 0 0 1 1 1 0 1 1 1 0 0 1 0 1 1 1 1 1 1 0 0 1 0 1\n",
            " 0 1 1 1 1 0 0 0 0 0 0 1 0 0 0 0 0 0 1 0 0 0 0 0 1 0 0 0 1 0 0 1 0 0 0 0 0\n",
            " 1 1 0 1 0 0 0 1 0 0 0 0 0 0 0 1 0 1 0 0 1 0 1 0 0 1 0 0 0 0 0 1 1 0 1 0 0\n",
            " 0 1 0 0]\n"
          ]
        }
      ]
    },
    {
      "cell_type": "code",
      "source": [
        "print(\"Training Accuracy: \", accuracy_score(y_train, y_pred_train))\n",
        "print(\"Testing Accuracy: \", accuracy_score(y_test, y_pred_test))"
      ],
      "metadata": {
        "colab": {
          "base_uri": "https://localhost:8080/"
        },
        "id": "eDvvUcZVYgaU",
        "outputId": "eaa8c030-5697-4886-ccd6-c00041febe79"
      },
      "execution_count": null,
      "outputs": [
        {
          "output_type": "stream",
          "name": "stdout",
          "text": [
            "Training Accuracy:  0.6924062800384492\n",
            "Testing Accuracy:  0.6978233034571063\n"
          ]
        }
      ]
    },
    {
      "cell_type": "code",
      "source": [
        "# Step 8: Make predictions using the model\n",
        "predictions = mnb.predict(X_test)\n",
        "print(predictions)"
      ],
      "metadata": {
        "colab": {
          "base_uri": "https://localhost:8080/"
        },
        "id": "95E-WU2b81kf",
        "outputId": "fdca36be-c2f2-42bf-fe2f-a5503b5fc68a"
      },
      "execution_count": null,
      "outputs": [
        {
          "output_type": "stream",
          "name": "stdout",
          "text": [
            "[0 1 0 0 1 0 0 0 1 0 0 0 0 0 1 1 1 1 1 1 0 0 0 0 1 1 0 1 1 1 0 0 1 1 0 1 0\n",
            " 0 1 0 0 1 1 0 0 0 0 1 1 0 1 0 0 1 0 0 0 1 0 1 0 1 1 1 0 1 0 1 1 1 1 1 1 0\n",
            " 1 0 0 0 1 0 1 0 0 0 1 0 1 0 1 0 0 1 0 0 1 0 1 1 0 0 0 0 1 0 0 1 0 1 1 0 0\n",
            " 0 1 0 0 0 1 0 1 1 0 1 1 0 0 0 0 0 0 1 0 0 0 0 0 1 0 0 1 1 0 0 0 0 0 0 0 1\n",
            " 0 0 0 1 0 0 0 0 1 0 1 1 1 0 0 0 0 1 0 0 0 1 1 1 0 1 1 0 0 0 0 1 1 0 1 1 1\n",
            " 0 1 0 1 0 1 1 1 1 1 0 1 1 1 1 1 1 1 1 0 1 1 0 0 1 0 1 0 0 1 0 1 0 0 0 0 0\n",
            " 1 0 1 1 0 1 0 0 1 1 1 1 0 1 0 1 0 0 0 1 0 0 1 0 0 0 0 1 1 1 0 0 1 0 1 1 1\n",
            " 1 0 0 0 1 1 0 1 1 0 1 1 1 1 1 1 0 1 0 1 0 0 1 0 0 0 0 0 1 1 0 0 0 0 1 0 1\n",
            " 1 0 1 1 1 0 1 0 0 1 1 0 0 1 0 1 1 0 1 1 1 1 1 1 1 0 1 0 0 0 0 0 0 0 0 1 1\n",
            " 0 0 0 0 1 0 1 1 0 1 1 0 0 0 0 0 1 0 0 0 1 0 1 0 0 0 1 0 1 1 1 0 1 1 1 1 1\n",
            " 1 1 0 0 1 0 1 1 1 0 0 1 0 0 1 1 1 0 0 1 0 0 1 1 0 0 1 1 0 0 1 1 1 0 0 0 1\n",
            " 1 1 0 1 1 0 0 0 1 1 0 0 1 1 1 0 0 1 0 1 0 1 1 0 1 1 1 1 0 1 0 1 0 0 1 0 0\n",
            " 0 0 1 0 1 1 0 1 1 0 1 0 0 1 1 0 1 0 0 1 1 0 1 0 0 1 0 0 1 0 0 0 1 1 1 0 0\n",
            " 1 1 0 1 0 1 0 0 1 0 1 1 0 0 0 0 0 0 0 0 1 1 0 1 0 0 0 0 0 0 0 0 0 1 1 0 1\n",
            " 1 1 1 1 1 1 0 1 1 0 0 0 1 1 0 1 1 0 0 0 1 1 1 0 1 1 1 0 0 0 1 1 1 1 0 1 0\n",
            " 1 0 0 0 1 1 0 0 0 0 1 1 0 1 1 1 1 0 0 1 0 0 0 0 0 0 1 1 1 1 0 0 0 1 0 0 0\n",
            " 1 1 1 1 1 1 0 1 0 0 1 0 0 0 0 0 0 1 1 0 1 0 1 1 1 0 0 0 1 1 0 1 1 1 1 1 0\n",
            " 0 1 0 1 0 1 0 0 0 0 0 1 1 0 1 1 1 0 0 1 1 0 1 1 0 0 1 1 0 1 1 1 0 1 0 0 0\n",
            " 0 0 1 0 1 0 1 1 0 1 1 1 0 0 0 1 1 1 0 1 1 1 0 0 1 0 1 1 1 1 1 1 0 0 1 0 1\n",
            " 0 1 1 1 1 0 0 0 0 0 0 1 0 0 0 0 0 0 1 0 0 0 0 0 1 0 0 0 1 0 0 1 0 0 0 0 0\n",
            " 1 1 0 1 0 0 0 1 0 0 0 0 0 0 0 1 0 1 0 0 1 0 1 0 0 1 0 0 0 0 0 1 1 0 1 0 0\n",
            " 0 1 0 0]\n"
          ]
        }
      ]
    },
    {
      "cell_type": "code",
      "source": [
        "# Step 9: Create a confusion matrix\n",
        "conf_matrix = confusion_matrix(y_test, predictions)\n",
        "print(\"Confusion Matrix:\\n\", conf_matrix)"
      ],
      "metadata": {
        "colab": {
          "base_uri": "https://localhost:8080/"
        },
        "id": "y_ZPZ5v49HID",
        "outputId": "b2fa8664-2369-4f0b-acdd-5228ef873ab6"
      },
      "execution_count": null,
      "outputs": [
        {
          "output_type": "stream",
          "name": "stdout",
          "text": [
            "Confusion Matrix:\n",
            " [[292 109]\n",
            " [127 253]]\n"
          ]
        }
      ]
    },
    {
      "cell_type": "code",
      "source": [
        "# Plot confusion matrix\n",
        "sns.heatmap(conf_matrix, annot=True, fmt='d', cmap='Blues')\n",
        "plt.xlabel('Predicted Label')\n",
        "plt.ylabel('True Label')\n",
        "plt.title('Confusion Matrix')\n",
        "plt.show()"
      ],
      "metadata": {
        "colab": {
          "base_uri": "https://localhost:8080/",
          "height": 472
        },
        "id": "wMTNJ9G3_0mX",
        "outputId": "310b0c34-1b73-4851-8b20-58a3f0486733"
      },
      "execution_count": null,
      "outputs": [
        {
          "output_type": "display_data",
          "data": {
            "text/plain": [
              "<Figure size 640x480 with 2 Axes>"
            ],
            "image/png": "[encoded data removed]"
          },
          "metadata": {}
        }
      ]
    },
    {
      "cell_type": "code",
      "source": [
        "# Step 10: Visualize results with classification report\n",
        "class_report = classification_report(y_test, predictions, output_dict=True)\n",
        "print(\"Classification Report:\\n\", classification_report(y_test, predictions))"
      ],
      "metadata": {
        "colab": {
          "base_uri": "https://localhost:8080/"
        },
        "id": "nuh6cH1RWPAQ",
        "outputId": "93e2c56a-0eb9-4305-fa4d-673e60c88c8d"
      },
      "execution_count": null,
      "outputs": [
        {
          "output_type": "stream",
          "name": "stdout",
          "text": [
            "Classification Report:\n",
            "               precision    recall  f1-score   support\n",
            "\n",
            "           0       0.70      0.73      0.71       401\n",
            "           1       0.70      0.67      0.68       380\n",
            "\n",
            "    accuracy                           0.70       781\n",
            "   macro avg       0.70      0.70      0.70       781\n",
            "weighted avg       0.70      0.70      0.70       781\n",
            "\n"
          ]
        }
      ]
    },
    {
      "cell_type": "code",
      "source": [
        "# Plotting classification report\n",
        "plt.figure(figsize=(10, 6))\n",
        "sns.heatmap(pd.DataFrame(class_report).iloc[:-1, :].T, annot=True)\n",
        "plt.title('Classification Report')\n",
        "plt.show()\n"
      ],
      "metadata": {
        "colab": {
          "base_uri": "https://localhost:8080/",
          "height": 545
        },
        "id": "LoYAzCyLDiqg",
        "outputId": "7dab419e-440e-4587-8d22-ced6d3ce4114"
      },
      "execution_count": null,
      "outputs": [
        {
          "output_type": "display_data",
          "data": {
            "text/plain": [
              "<Figure size 1000x600 with 2 Axes>"
            ],
            "image/png": "[encoded data removed]"
          },
          "metadata": {}
        }
      ]
    }
  ]
}