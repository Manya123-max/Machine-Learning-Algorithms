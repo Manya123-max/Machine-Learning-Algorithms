{
  "nbformat": 4,
  "nbformat_minor": 0,
  "metadata": {
    "colab": {
      "provenance": [],
      "authorship_tag": "ABX9TyN6bNTLPCN/lW4rqyHnbrJP",
      "include_colab_link": true
    },
    "kernelspec": {
      "name": "python3",
      "display_name": "Python 3"
    },
    "language_info": {
      "name": "python"
    }
  },
  "cells": [
    {
      "cell_type": "markdown",
      "metadata": {
        "id": "view-in-github",
        "colab_type": "text"
      },
      "source": [
        "<a href=\"https://colab.research.google.com/github/Manya123-max/Machine-Learning-Algorithms/blob/main/FINDING__k_value_AND_cluster2.ipynb\" target=\"_parent\"><img src=\"https://colab.research.google.com/assets/colab-badge.svg\" alt=\"Open In Colab\"/></a>"
      ]
    },
    {
      "cell_type": "markdown",
      "source": [
        "## **K-MEANS CLUSTERING**"
      ],
      "metadata": {
        "id": "G2LRceQ-wBkB"
      }
    },
    {
      "cell_type": "code",
      "execution_count": null,
      "metadata": {
        "id": "RWGsawyJAAN4"
      },
      "outputs": [],
      "source": [
        "import numpy as np\n",
        "import pandas as pd\n",
        "import matplotlib.pyplot as plt\n",
        "from sklearn.cluster import KMeans\n",
        "from sklearn import metrics\n",
        "from sklearn.preprocessing import LabelEncoder\n",
        "from sklearn.cluster import KMeans\n",
        "from sklearn.datasets import make_blobs"
      ]
    },
    {
      "cell_type": "code",
      "source": [
        "data= pd.read_csv('/content/MOBILE PRICE PREDICTION.csv')\n",
        "print(data)"
      ],
      "metadata": {
        "colab": {
          "base_uri": "https://localhost:8080/"
        },
        "id": "clPmTBIRAVRz",
        "outputId": "654310a6-85e5-4def-c715-41e53f1061d6"
      },
      "execution_count": null,
      "outputs": [
        {
          "output_type": "stream",
          "name": "stdout",
          "text": [
            "       Brand              Model Storage    RAM  Screen Size (inches)  \\\n",
            "0      Apple      iPhone 13 Pro   128 GB   6 GB                  6.1   \n",
            "1    Samsung   Galaxy S21 Ultra   256 GB  12 GB                  6.8   \n",
            "2    OnePlus              9 Pro   128 GB   8 GB                  6.7   \n",
            "3     Xiaomi  Redmi Note 10 Pro   128 GB   6 GB                 6.67   \n",
            "4     Google            Pixel 6   128 GB   8 GB                  6.4   \n",
            "..       ...                ...      ...    ...                  ...   \n",
            "402  Samsung   Galaxy Note20 5G      128      8                  6.7   \n",
            "403   Xiaomi      Mi 10 Lite 5G      128      6                 6.57   \n",
            "404    Apple  iPhone 12 Pro Max      128      6                  6.7   \n",
            "405     Oppo              Reno3      128      8                  6.4   \n",
            "406  Samsung    Galaxy S10 Lite      128      6                  6.7   \n",
            "\n",
            "            Camera (MP)  Battery Capacity (mAh) Price ($)  \n",
            "0          12 + 12 + 12                    3095       999  \n",
            "1    108 + 10 + 10 + 12                    5000      1199  \n",
            "2       48 + 50 + 8 + 2                    4500       899  \n",
            "3        64 + 8 + 5 + 2                    5020       279  \n",
            "4             50 + 12.2                    4614       799  \n",
            "..                  ...                     ...       ...  \n",
            "402            12+64+12                    4300      1049  \n",
            "403            48+8+2+2                    4160       349  \n",
            "404            12+12+12                    3687      1099  \n",
            "405           48+13+8+2                    4025       429  \n",
            "406             48+12+5                    4500       649  \n",
            "\n",
            "[407 rows x 8 columns]\n"
          ]
        }
      ]
    },
    {
      "cell_type": "code",
      "source": [
        "data.head(10)"
      ],
      "metadata": {
        "colab": {
          "base_uri": "https://localhost:8080/",
          "height": 363
        },
        "id": "wKqo8LZxCPAj",
        "outputId": "5ee48ef9-0ead-4e7a-cb4a-fcd16909be0a"
      },
      "execution_count": null,
      "outputs": [
        {
          "output_type": "execute_result",
          "data": {
            "text/plain": [
              "     Brand              Model Storage    RAM  Screen Size (inches)  \\\n",
              "0    Apple      iPhone 13 Pro   128 GB   6 GB                  6.1   \n",
              "1  Samsung   Galaxy S21 Ultra   256 GB  12 GB                  6.8   \n",
              "2  OnePlus              9 Pro   128 GB   8 GB                  6.7   \n",
              "3   Xiaomi  Redmi Note 10 Pro   128 GB   6 GB                 6.67   \n",
              "4   Google            Pixel 6   128 GB   8 GB                  6.4   \n",
              "5    Apple          iPhone 13   128 GB   4 GB                  6.1   \n",
              "6  Samsung     Galaxy Z Flip3   256 GB   8 GB                  6.7   \n",
              "7   Xiaomi        Poco X3 Pro   128 GB   6 GB                 6.67   \n",
              "8     Oppo      Reno6 Pro+ 5G   128 GB   8 GB                 6.55   \n",
              "9     Vivo           X70 Pro+   256 GB  12 GB                 6.78   \n",
              "\n",
              "          Camera (MP)  Battery Capacity (mAh) Price ($)  \n",
              "0        12 + 12 + 12                    3095       999  \n",
              "1  108 + 10 + 10 + 12                    5000      1199  \n",
              "2     48 + 50 + 8 + 2                    4500       899  \n",
              "3      64 + 8 + 5 + 2                    5020       279  \n",
              "4           50 + 12.2                    4614       799  \n",
              "5             12 + 12                    2815       799  \n",
              "6             12 + 12                    3300       999  \n",
              "7      48 + 8 + 2 + 2                    5160       249  \n",
              "8    50 + 13 + 16 + 2                    4500       699  \n",
              "9    50 + 48 + 12 + 8                    4500      1199  "
            ],
            "text/html": [
              "\n",
              "  <div id=\"df-12bd931f-ea73-4de7-9f33-39c175553fd7\" class=\"colab-df-container\">\n",
              "    <div>\n",
              "<style scoped>\n",
              "    .dataframe tbody tr th:only-of-type {\n",
              "        vertical-align: middle;\n",
              "    }\n",
              "\n",
              "    .dataframe tbody tr th {\n",
              "        vertical-align: top;\n",
              "    }\n",
              "\n",
              "    .dataframe thead th {\n",
              "        text-align: right;\n",
              "    }\n",
              "</style>\n",
              "<table border=\"1\" class=\"dataframe\">\n",
              "  <thead>\n",
              "    <tr style=\"text-align: right;\">\n",
              "      <th></th>\n",
              "      <th>Brand</th>\n",
              "      <th>Model</th>\n",
              "      <th>Storage</th>\n",
              "      <th>RAM</th>\n",
              "      <th>Screen Size (inches)</th>\n",
              "      <th>Camera (MP)</th>\n",
              "      <th>Battery Capacity (mAh)</th>\n",
              "      <th>Price ($)</th>\n",
              "    </tr>\n",
              "  </thead>\n",
              "  <tbody>\n",
              "    <tr>\n",
              "      <th>0</th>\n",
              "      <td>Apple</td>\n",
              "      <td>iPhone 13 Pro</td>\n",
              "      <td>128 GB</td>\n",
              "      <td>6 GB</td>\n",
              "      <td>6.1</td>\n",
              "      <td>12 + 12 + 12</td>\n",
              "      <td>3095</td>\n",
              "      <td>999</td>\n",
              "    </tr>\n",
              "    <tr>\n",
              "      <th>1</th>\n",
              "      <td>Samsung</td>\n",
              "      <td>Galaxy S21 Ultra</td>\n",
              "      <td>256 GB</td>\n",
              "      <td>12 GB</td>\n",
              "      <td>6.8</td>\n",
              "      <td>108 + 10 + 10 + 12</td>\n",
              "      <td>5000</td>\n",
              "      <td>1199</td>\n",
              "    </tr>\n",
              "    <tr>\n",
              "      <th>2</th>\n",
              "      <td>OnePlus</td>\n",
              "      <td>9 Pro</td>\n",
              "      <td>128 GB</td>\n",
              "      <td>8 GB</td>\n",
              "      <td>6.7</td>\n",
              "      <td>48 + 50 + 8 + 2</td>\n",
              "      <td>4500</td>\n",
              "      <td>899</td>\n",
              "    </tr>\n",
              "    <tr>\n",
              "      <th>3</th>\n",
              "      <td>Xiaomi</td>\n",
              "      <td>Redmi Note 10 Pro</td>\n",
              "      <td>128 GB</td>\n",
              "      <td>6 GB</td>\n",
              "      <td>6.67</td>\n",
              "      <td>64 + 8 + 5 + 2</td>\n",
              "      <td>5020</td>\n",
              "      <td>279</td>\n",
              "    </tr>\n",
              "    <tr>\n",
              "      <th>4</th>\n",
              "      <td>Google</td>\n",
              "      <td>Pixel 6</td>\n",
              "      <td>128 GB</td>\n",
              "      <td>8 GB</td>\n",
              "      <td>6.4</td>\n",
              "      <td>50 + 12.2</td>\n",
              "      <td>4614</td>\n",
              "      <td>799</td>\n",
              "    </tr>\n",
              "    <tr>\n",
              "      <th>5</th>\n",
              "      <td>Apple</td>\n",
              "      <td>iPhone 13</td>\n",
              "      <td>128 GB</td>\n",
              "      <td>4 GB</td>\n",
              "      <td>6.1</td>\n",
              "      <td>12 + 12</td>\n",
              "      <td>2815</td>\n",
              "      <td>799</td>\n",
              "    </tr>\n",
              "    <tr>\n",
              "      <th>6</th>\n",
              "      <td>Samsung</td>\n",
              "      <td>Galaxy Z Flip3</td>\n",
              "      <td>256 GB</td>\n",
              "      <td>8 GB</td>\n",
              "      <td>6.7</td>\n",
              "      <td>12 + 12</td>\n",
              "      <td>3300</td>\n",
              "      <td>999</td>\n",
              "    </tr>\n",
              "    <tr>\n",
              "      <th>7</th>\n",
              "      <td>Xiaomi</td>\n",
              "      <td>Poco X3 Pro</td>\n",
              "      <td>128 GB</td>\n",
              "      <td>6 GB</td>\n",
              "      <td>6.67</td>\n",
              "      <td>48 + 8 + 2 + 2</td>\n",
              "      <td>5160</td>\n",
              "      <td>249</td>\n",
              "    </tr>\n",
              "    <tr>\n",
              "      <th>8</th>\n",
              "      <td>Oppo</td>\n",
              "      <td>Reno6 Pro+ 5G</td>\n",
              "      <td>128 GB</td>\n",
              "      <td>8 GB</td>\n",
              "      <td>6.55</td>\n",
              "      <td>50 + 13 + 16 + 2</td>\n",
              "      <td>4500</td>\n",
              "      <td>699</td>\n",
              "    </tr>\n",
              "    <tr>\n",
              "      <th>9</th>\n",
              "      <td>Vivo</td>\n",
              "      <td>X70 Pro+</td>\n",
              "      <td>256 GB</td>\n",
              "      <td>12 GB</td>\n",
              "      <td>6.78</td>\n",
              "      <td>50 + 48 + 12 + 8</td>\n",
              "      <td>4500</td>\n",
              "      <td>1199</td>\n",
              "    </tr>\n",
              "  </tbody>\n",
              "</table>\n",
              "</div>\n",
              "    <div class=\"colab-df-buttons\">\n",
              "\n",
              "  <div class=\"colab-df-container\">\n",
              "    <button class=\"colab-df-convert\" onclick=\"convertToInteractive('df-12bd931f-ea73-4de7-9f33-39c175553fd7')\"\n",
              "            title=\"Convert this dataframe to an interactive table.\"\n",
              "            style=\"display:none;\">\n",
              "\n",
              "  <svg xmlns=\"http://www.w3.org/2000/svg\" height=\"24px\" viewBox=\"0 -960 960 960\">\n",
              "    <path d=\"M120-120v-720h720v720H120Zm60-500h600v-160H180v160Zm220 220h160v-160H400v160Zm0 220h160v-160H400v160ZM180-400h160v-160H180v160Zm440 0h160v-160H620v160ZM180-180h160v-160H180v160Zm440 0h160v-160H620v160Z\"/>\n",
              "  </svg>\n",
              "    </button>\n",
              "\n",
              "  <style>\n",
              "    .colab-df-container {\n",
              "      display:flex;\n",
              "      gap: 12px;\n",
              "    }\n",
              "\n",
              "    .colab-df-convert {\n",
              "      background-color: #E8F0FE;\n",
              "      border: none;\n",
              "      border-radius: 50%;\n",
              "      cursor: pointer;\n",
              "      display: none;\n",
              "      fill: #1967D2;\n",
              "      height: 32px;\n",
              "      padding: 0 0 0 0;\n",
              "      width: 32px;\n",
              "    }\n",
              "\n",
              "    .colab-df-convert:hover {\n",
              "      background-color: #E2EBFA;\n",
              "      box-shadow: 0px 1px 2px rgba(60, 64, 67, 0.3), 0px 1px 3px 1px rgba(60, 64, 67, 0.15);\n",
              "      fill: #174EA6;\n",
              "    }\n",
              "\n",
              "    .colab-df-buttons div {\n",
              "      margin-bottom: 4px;\n",
              "    }\n",
              "\n",
              "    [theme=dark] .colab-df-convert {\n",
              "      background-color: #3B4455;\n",
              "      fill: #D2E3FC;\n",
              "    }\n",
              "\n",
              "    [theme=dark] .colab-df-convert:hover {\n",
              "      background-color: #434B5C;\n",
              "      box-shadow: 0px 1px 3px 1px rgba(0, 0, 0, 0.15);\n",
              "      filter: drop-shadow(0px 1px 2px rgba(0, 0, 0, 0.3));\n",
              "      fill: #FFFFFF;\n",
              "    }\n",
              "  </style>\n",
              "\n",
              "    <script>\n",
              "      const buttonEl =\n",
              "        document.querySelector('#df-12bd931f-ea73-4de7-9f33-39c175553fd7 button.colab-df-convert');\n",
              "      buttonEl.style.display =\n",
              "        google.colab.kernel.accessAllowed ? 'block' : 'none';\n",
              "\n",
              "      async function convertToInteractive(key) {\n",
              "        const element = document.querySelector('#df-12bd931f-ea73-4de7-9f33-39c175553fd7');\n",
              "        const dataTable =\n",
              "          await google.colab.kernel.invokeFunction('convertToInteractive',\n",
              "                                                    [key], {});\n",
              "        if (!dataTable) return;\n",
              "\n",
              "        const docLinkHtml = 'Like what you see? Visit the ' +\n",
              "          '<a target=\"_blank\" href=https://colab.research.google.com/notebooks/data_table.ipynb>data table notebook</a>'\n",
              "          + ' to learn more about interactive tables.';\n",
              "        element.innerHTML = '';\n",
              "        dataTable['output_type'] = 'display_data';\n",
              "        await google.colab.output.renderOutput(dataTable, element);\n",
              "        const docLink = document.createElement('div');\n",
              "        docLink.innerHTML = docLinkHtml;\n",
              "        element.appendChild(docLink);\n",
              "      }\n",
              "    </script>\n",
              "  </div>\n",
              "\n",
              "\n",
              "<div id=\"df-242f81be-1578-420a-a595-3a9c79c35a80\">\n",
              "  <button class=\"colab-df-quickchart\" onclick=\"quickchart('df-242f81be-1578-420a-a595-3a9c79c35a80')\"\n",
              "            title=\"Suggest charts\"\n",
              "            style=\"display:none;\">\n",
              "\n",
              "<svg xmlns=\"http://www.w3.org/2000/svg\" height=\"24px\"viewBox=\"0 0 24 24\"\n",
              "     width=\"24px\">\n",
              "    <g>\n",
              "        <path d=\"M19 3H5c-1.1 0-2 .9-2 2v14c0 1.1.9 2 2 2h14c1.1 0 2-.9 2-2V5c0-1.1-.9-2-2-2zM9 17H7v-7h2v7zm4 0h-2V7h2v10zm4 0h-2v-4h2v4z\"/>\n",
              "    </g>\n",
              "</svg>\n",
              "  </button>\n",
              "\n",
              "<style>\n",
              "  .colab-df-quickchart {\n",
              "      --bg-color: #E8F0FE;\n",
              "      --fill-color: #1967D2;\n",
              "      --hover-bg-color: #E2EBFA;\n",
              "      --hover-fill-color: #174EA6;\n",
              "      --disabled-fill-color: #AAA;\n",
              "      --disabled-bg-color: #DDD;\n",
              "  }\n",
              "\n",
              "  [theme=dark] .colab-df-quickchart {\n",
              "      --bg-color: #3B4455;\n",
              "      --fill-color: #D2E3FC;\n",
              "      --hover-bg-color: #434B5C;\n",
              "      --hover-fill-color: #FFFFFF;\n",
              "      --disabled-bg-color: #3B4455;\n",
              "      --disabled-fill-color: #666;\n",
              "  }\n",
              "\n",
              "  .colab-df-quickchart {\n",
              "    background-color: var(--bg-color);\n",
              "    border: none;\n",
              "    border-radius: 50%;\n",
              "    cursor: pointer;\n",
              "    display: none;\n",
              "    fill: var(--fill-color);\n",
              "    height: 32px;\n",
              "    padding: 0;\n",
              "    width: 32px;\n",
              "  }\n",
              "\n",
              "  .colab-df-quickchart:hover {\n",
              "    background-color: var(--hover-bg-color);\n",
              "    box-shadow: 0 1px 2px rgba(60, 64, 67, 0.3), 0 1px 3px 1px rgba(60, 64, 67, 0.15);\n",
              "    fill: var(--button-hover-fill-color);\n",
              "  }\n",
              "\n",
              "  .colab-df-quickchart-complete:disabled,\n",
              "  .colab-df-quickchart-complete:disabled:hover {\n",
              "    background-color: var(--disabled-bg-color);\n",
              "    fill: var(--disabled-fill-color);\n",
              "    box-shadow: none;\n",
              "  }\n",
              "\n",
              "  .colab-df-spinner {\n",
              "    border: 2px solid var(--fill-color);\n",
              "    border-color: transparent;\n",
              "    border-bottom-color: var(--fill-color);\n",
              "    animation:\n",
              "      spin 1s steps(1) infinite;\n",
              "  }\n",
              "\n",
              "  @keyframes spin {\n",
              "    0% {\n",
              "      border-color: transparent;\n",
              "      border-bottom-color: var(--fill-color);\n",
              "      border-left-color: var(--fill-color);\n",
              "    }\n",
              "    20% {\n",
              "      border-color: transparent;\n",
              "      border-left-color: var(--fill-color);\n",
              "      border-top-color: var(--fill-color);\n",
              "    }\n",
              "    30% {\n",
              "      border-color: transparent;\n",
              "      border-left-color: var(--fill-color);\n",
              "      border-top-color: var(--fill-color);\n",
              "      border-right-color: var(--fill-color);\n",
              "    }\n",
              "    40% {\n",
              "      border-color: transparent;\n",
              "      border-right-color: var(--fill-color);\n",
              "      border-top-color: var(--fill-color);\n",
              "    }\n",
              "    60% {\n",
              "      border-color: transparent;\n",
              "      border-right-color: var(--fill-color);\n",
              "    }\n",
              "    80% {\n",
              "      border-color: transparent;\n",
              "      border-right-color: var(--fill-color);\n",
              "      border-bottom-color: var(--fill-color);\n",
              "    }\n",
              "    90% {\n",
              "      border-color: transparent;\n",
              "      border-bottom-color: var(--fill-color);\n",
              "    }\n",
              "  }\n",
              "</style>\n",
              "\n",
              "  <script>\n",
              "    async function quickchart(key) {\n",
              "      const quickchartButtonEl =\n",
              "        document.querySelector('#' + key + ' button');\n",
              "      quickchartButtonEl.disabled = true;  // To prevent multiple clicks.\n",
              "      quickchartButtonEl.classList.add('colab-df-spinner');\n",
              "      try {\n",
              "        const charts = await google.colab.kernel.invokeFunction(\n",
              "            'suggestCharts', [key], {});\n",
              "      } catch (error) {\n",
              "        console.error('Error during call to suggestCharts:', error);\n",
              "      }\n",
              "      quickchartButtonEl.classList.remove('colab-df-spinner');\n",
              "      quickchartButtonEl.classList.add('colab-df-quickchart-complete');\n",
              "    }\n",
              "    (() => {\n",
              "      let quickchartButtonEl =\n",
              "        document.querySelector('#df-242f81be-1578-420a-a595-3a9c79c35a80 button');\n",
              "      quickchartButtonEl.style.display =\n",
              "        google.colab.kernel.accessAllowed ? 'block' : 'none';\n",
              "    })();\n",
              "  </script>\n",
              "</div>\n",
              "\n",
              "    </div>\n",
              "  </div>\n"
            ],
            "application/vnd.google.colaboratory.intrinsic+json": {
              "type": "dataframe",
              "variable_name": "data",
              "summary": "{\n  \"name\": \"data\",\n  \"rows\": 407,\n  \"fields\": [\n    {\n      \"column\": \"Brand\",\n      \"properties\": {\n        \"dtype\": \"category\",\n        \"num_unique_values\": 16,\n        \"samples\": [\n          \"Apple\",\n          \"Samsung\",\n          \"Oppo\"\n        ],\n        \"semantic_type\": \"\",\n        \"description\": \"\"\n      }\n    },\n    {\n      \"column\": \"Model\",\n      \"properties\": {\n        \"dtype\": \"string\",\n        \"num_unique_values\": 239,\n        \"samples\": [\n          \"Redmi Note 10 Pro Max\",\n          \"Galaxy Z Flip3\",\n          \"Velvet 5G\"\n        ],\n        \"semantic_type\": \"\",\n        \"description\": \"\"\n      }\n    },\n    {\n      \"column\": \"Storage \",\n      \"properties\": {\n        \"dtype\": \"category\",\n        \"num_unique_values\": 13,\n        \"samples\": [\n          \"512\",\n          \"64\",\n          \"128 GB\"\n        ],\n        \"semantic_type\": \"\",\n        \"description\": \"\"\n      }\n    },\n    {\n      \"column\": \"RAM \",\n      \"properties\": {\n        \"dtype\": \"category\",\n        \"num_unique_values\": 20,\n        \"samples\": [\n          \"6 GB\",\n          \"4\",\n          \"6\"\n        ],\n        \"semantic_type\": \"\",\n        \"description\": \"\"\n      }\n    },\n    {\n      \"column\": \"Screen Size (inches)\",\n      \"properties\": {\n        \"dtype\": \"category\",\n        \"num_unique_values\": 41,\n        \"samples\": [\n          \"5.5\",\n          \"6.6\",\n          \"6.5\"\n        ],\n        \"semantic_type\": \"\",\n        \"description\": \"\"\n      }\n    },\n    {\n      \"column\": \"Camera (MP)\",\n      \"properties\": {\n        \"dtype\": \"category\",\n        \"num_unique_values\": 143,\n        \"samples\": [\n          \"50+8+16+2\",\n          \"108 + 8 + 5 + 2\",\n          \"48MP + 5MP + 2MP + 2MP\"\n        ],\n        \"semantic_type\": \"\",\n        \"description\": \"\"\n      }\n    },\n    {\n      \"column\": \"Battery Capacity (mAh)\",\n      \"properties\": {\n        \"dtype\": \"number\",\n        \"std\": 797,\n        \"min\": 1821,\n        \"max\": 7000,\n        \"num_unique_values\": 48,\n        \"samples\": [\n          5050,\n          3174,\n          4950\n        ],\n        \"semantic_type\": \"\",\n        \"description\": \"\"\n      }\n    },\n    {\n      \"column\": \"Price ($)\",\n      \"properties\": {\n        \"dtype\": \"category\",\n        \"num_unique_values\": 89,\n        \"samples\": [\n          \"$319 \",\n          \"$139 \",\n          \"1299\"\n        ],\n        \"semantic_type\": \"\",\n        \"description\": \"\"\n      }\n    }\n  ]\n}"
            }
          },
          "metadata": {},
          "execution_count": 5
        }
      ]
    },
    {
      "cell_type": "code",
      "source": [
        "data.info()"
      ],
      "metadata": {
        "colab": {
          "base_uri": "https://localhost:8080/"
        },
        "id": "KTALfFHJBnWA",
        "outputId": "1bc0b117-1e28-427e-e1e1-723e3d5cfff5"
      },
      "execution_count": null,
      "outputs": [
        {
          "output_type": "stream",
          "name": "stdout",
          "text": [
            "<class 'pandas.core.frame.DataFrame'>\n",
            "RangeIndex: 407 entries, 0 to 406\n",
            "Data columns (total 8 columns):\n",
            " #   Column                  Non-Null Count  Dtype \n",
            "---  ------                  --------------  ----- \n",
            " 0   Brand                   407 non-null    object\n",
            " 1   Model                   407 non-null    object\n",
            " 2   Storage                 407 non-null    object\n",
            " 3   RAM                     407 non-null    object\n",
            " 4   Screen Size (inches)    407 non-null    object\n",
            " 5   Camera (MP)             407 non-null    object\n",
            " 6   Battery Capacity (mAh)  407 non-null    int64 \n",
            " 7   Price ($)               407 non-null    object\n",
            "dtypes: int64(1), object(7)\n",
            "memory usage: 25.6+ KB\n"
          ]
        }
      ]
    },
    {
      "cell_type": "code",
      "source": [
        "data.isnull().sum()"
      ],
      "metadata": {
        "colab": {
          "base_uri": "https://localhost:8080/"
        },
        "id": "HBe32Ys9Bw1q",
        "outputId": "7c4058e3-61ca-49c3-e823-02e30fb8f618"
      },
      "execution_count": null,
      "outputs": [
        {
          "output_type": "execute_result",
          "data": {
            "text/plain": [
              "Brand                     0\n",
              "Model                     0\n",
              "Storage                   0\n",
              "RAM                       0\n",
              "Screen Size (inches)      0\n",
              "Camera (MP)               0\n",
              "Battery Capacity (mAh)    0\n",
              "Price ($)                 0\n",
              "dtype: int64"
            ]
          },
          "metadata": {},
          "execution_count": 7
        }
      ]
    },
    {
      "cell_type": "code",
      "source": [
        "data.duplicated().sum()"
      ],
      "metadata": {
        "colab": {
          "base_uri": "https://localhost:8080/"
        },
        "id": "PXPrmIL4B3l8",
        "outputId": "03248d6a-9573-4f09-a679-203899c82d8c"
      },
      "execution_count": null,
      "outputs": [
        {
          "output_type": "execute_result",
          "data": {
            "text/plain": [
              "26"
            ]
          },
          "metadata": {},
          "execution_count": 8
        }
      ]
    },
    {
      "cell_type": "code",
      "source": [
        "data1=data.drop_duplicates()\n",
        "print(data1)"
      ],
      "metadata": {
        "colab": {
          "base_uri": "https://localhost:8080/"
        },
        "id": "bzVRWXWKCJ9c",
        "outputId": "a5839989-e1dc-4e52-d68e-f073aac7ff77"
      },
      "execution_count": null,
      "outputs": [
        {
          "output_type": "stream",
          "name": "stdout",
          "text": [
            "       Brand              Model Storage    RAM  Screen Size (inches)  \\\n",
            "0      Apple      iPhone 13 Pro   128 GB   6 GB                  6.1   \n",
            "1    Samsung   Galaxy S21 Ultra   256 GB  12 GB                  6.8   \n",
            "2    OnePlus              9 Pro   128 GB   8 GB                  6.7   \n",
            "3     Xiaomi  Redmi Note 10 Pro   128 GB   6 GB                 6.67   \n",
            "4     Google            Pixel 6   128 GB   8 GB                  6.4   \n",
            "..       ...                ...      ...    ...                  ...   \n",
            "401   Huawei           P30 Lite      128      4                 6.15   \n",
            "402  Samsung   Galaxy Note20 5G      128      8                  6.7   \n",
            "403   Xiaomi      Mi 10 Lite 5G      128      6                 6.57   \n",
            "404    Apple  iPhone 12 Pro Max      128      6                  6.7   \n",
            "405     Oppo              Reno3      128      8                  6.4   \n",
            "\n",
            "            Camera (MP)  Battery Capacity (mAh) Price ($)  \n",
            "0          12 + 12 + 12                    3095       999  \n",
            "1    108 + 10 + 10 + 12                    5000      1199  \n",
            "2       48 + 50 + 8 + 2                    4500       899  \n",
            "3        64 + 8 + 5 + 2                    5020       279  \n",
            "4             50 + 12.2                    4614       799  \n",
            "..                  ...                     ...       ...  \n",
            "401              48+8+2                    3340       329  \n",
            "402            12+64+12                    4300      1049  \n",
            "403            48+8+2+2                    4160       349  \n",
            "404            12+12+12                    3687      1099  \n",
            "405           48+13+8+2                    4025       429  \n",
            "\n",
            "[381 rows x 8 columns]\n"
          ]
        }
      ]
    },
    {
      "cell_type": "code",
      "source": [
        "# Assuming df is your DataFrame\n",
        "# First, identify columns with categorical data\n",
        "categorical_cols = data1.select_dtypes(include=['object']).columns.tolist()\n",
        "\n",
        "# Initialize LabelEncoder\n",
        "label_encoder = LabelEncoder()\n",
        "\n",
        "# Iterate through each categorical column and encode the values\n",
        "for col in categorical_cols:\n",
        "    data1[col] = label_encoder.fit_transform(data1[col])\n",
        "\n",
        "# Now, data contains the encoded values for categorical columns\n",
        "print(data1)"
      ],
      "metadata": {
        "colab": {
          "base_uri": "https://localhost:8080/"
        },
        "id": "FqHKJYJICgEk",
        "outputId": "34c494b9-fdec-4ba8-9c66-a0152ed171c5"
      },
      "execution_count": null,
      "outputs": [
        {
          "output_type": "stream",
          "name": "stdout",
          "text": [
            "     Brand  Model  Storage   RAM   Screen Size (inches)  Camera (MP)  \\\n",
            "0        0    232         1    15                     8           15   \n",
            "1       12    100         4     1                    35            0   \n",
            "2        9     19         1    18                    31           53   \n",
            "3       15    178         1    15                    30          119   \n",
            "4        4    162         1    18                    15           87   \n",
            "..     ...    ...       ...   ...                   ...          ...   \n",
            "401      5    155         0    10                     9           69   \n",
            "402     12     95         0    17                    31           19   \n",
            "403     15    111         0    14                    26           70   \n",
            "404      0    229         0    14                    31           17   \n",
            "405     10    188         0    17                    15           59   \n",
            "\n",
            "     Battery Capacity (mAh)  Price ($)  \n",
            "0                      3095         88  \n",
            "1                      5000         45  \n",
            "2                      4500         85  \n",
            "3                      5020         63  \n",
            "4                      4614         84  \n",
            "..                      ...        ...  \n",
            "401                    3340         66  \n",
            "402                    4300         42  \n",
            "403                    4160         67  \n",
            "404                    3687         43  \n",
            "405                    4025         73  \n",
            "\n",
            "[381 rows x 8 columns]\n"
          ]
        }
      ]
    },
    {
      "cell_type": "code",
      "source": [
        "# Create box plots for all attributes\n",
        "plt.figure(figsize=(10, 6))  # Set the figure size\n",
        "data1.boxplot()  # Create box plots for all attributes\n",
        "plt.xticks(rotation=90)  # Rotate x-axis labels for better readability\n",
        "plt.title('Box Plot of All Attributes')\n",
        "plt.ylabel('Values')\n",
        "plt.xlabel('Attributes')\n",
        "plt.tight_layout()  # Adjust layout to prevent overlapping labels\n",
        "plt.show()"
      ],
      "metadata": {
        "colab": {
          "base_uri": "https://localhost:8080/",
          "height": 607
        },
        "id": "IRPfjAC2Dugq",
        "outputId": "41eafd2b-012e-4661-c9e7-052f730246d8"
      },
      "execution_count": null,
      "outputs": [
        {
          "output_type": "display_data",
          "data": {
            "text/plain": [
              "<Figure size 1000x600 with 1 Axes>"
            ],
            "image/png": "[encoded data removed]"
          },
          "metadata": {}
        }
      ]
    },
    {
      "cell_type": "code",
      "source": [
        "# Handling outliers\n",
        "def handle_outliers(data1, threshold=3):\n",
        "    numerical_columns = data1.select_dtypes(include=np.number).columns\n",
        "    for column in numerical_columns:\n",
        "        z_scores = np.abs((data1[column] - data1[column].mean()) / data1[column].std())\n",
        "        data1 = data1[z_scores < threshold]\n",
        "    return data1\n",
        "\n",
        "# Call the function to handle outliers\n",
        "cleaned_data = handle_outliers(data1=data1)\n",
        "print(cleaned_data)"
      ],
      "metadata": {
        "colab": {
          "base_uri": "https://localhost:8080/"
        },
        "id": "4M8ailLGEW-t",
        "outputId": "960e7a7e-4fc4-49eb-8c2f-72776ec7e9e2"
      },
      "execution_count": null,
      "outputs": [
        {
          "output_type": "stream",
          "name": "stdout",
          "text": [
            "     Brand  Model  Storage   RAM   Screen Size (inches)  Camera (MP)  \\\n",
            "0        0    232         1    15                     8           15   \n",
            "1       12    100         4     1                    35            0   \n",
            "2        9     19         1    18                    31           53   \n",
            "3       15    178         1    15                    30          119   \n",
            "4        4    162         1    18                    15           87   \n",
            "..     ...    ...       ...   ...                   ...          ...   \n",
            "401      5    155         0    10                     9           69   \n",
            "402     12     95         0    17                    31           19   \n",
            "403     15    111         0    14                    26           70   \n",
            "404      0    229         0    14                    31           17   \n",
            "405     10    188         0    17                    15           59   \n",
            "\n",
            "     Battery Capacity (mAh)  Price ($)  \n",
            "0                      3095         88  \n",
            "1                      5000         45  \n",
            "2                      4500         85  \n",
            "3                      5020         63  \n",
            "4                      4614         84  \n",
            "..                      ...        ...  \n",
            "401                    3340         66  \n",
            "402                    4300         42  \n",
            "403                    4160         67  \n",
            "404                    3687         43  \n",
            "405                    4025         73  \n",
            "\n",
            "[375 rows x 8 columns]\n"
          ]
        }
      ]
    },
    {
      "cell_type": "code",
      "source": [
        "# Select any four features from the dataset\n",
        "selected_features = ['Screen Size (inches)', 'Camera (MP)','Battery Capacity (mAh)','Price ($)']\n",
        "\n",
        "# Create an array with 100 rows and 2 columns containing the values of the selected features\n",
        "selected_values = cleaned_data[selected_features].values[:375]\n",
        "\n",
        "# Check the shape of the array\n",
        "print(selected_values.shape)"
      ],
      "metadata": {
        "colab": {
          "base_uri": "https://localhost:8080/"
        },
        "id": "FJCz_pftA7Ey",
        "outputId": "28b79ac3-3877-4310-fa1c-3c443323584a"
      },
      "execution_count": null,
      "outputs": [
        {
          "output_type": "stream",
          "name": "stdout",
          "text": [
            "(375, 4)\n"
          ]
        }
      ]
    },
    {
      "cell_type": "code",
      "source": [
        "#define the model\n",
        "kmeans_model = KMeans(n_clusters=4)\n",
        "#train the model\n",
        "kmeans_model.fit(selected_values)"
      ],
      "metadata": {
        "colab": {
          "base_uri": "https://localhost:8080/",
          "height": 129
        },
        "id": "fs4Pt_e9Gb3W",
        "outputId": "ffdfd639-cba6-4f6e-b9ba-c89a464e41b9"
      },
      "execution_count": null,
      "outputs": [
        {
          "output_type": "stream",
          "name": "stderr",
          "text": [
            "/usr/local/lib/python3.10/dist-packages/sklearn/cluster/_kmeans.py:870: FutureWarning: The default value of `n_init` will change from 10 to 'auto' in 1.4. Set the value of `n_init` explicitly to suppress the warning\n",
            "  warnings.warn(\n"
          ]
        },
        {
          "output_type": "execute_result",
          "data": {
            "text/plain": [
              "KMeans(n_clusters=4)"
            ],
            "text/html": [
              "<style>#sk-container-id-1 {color: black;background-color: white;}#sk-container-id-1 pre{padding: 0;}#sk-container-id-1 div.sk-toggleable {background-color: white;}#sk-container-id-1 label.sk-toggleable__label {cursor: pointer;display: block;width: 100%;margin-bottom: 0;padding: 0.3em;box-sizing: border-box;text-align: center;}#sk-container-id-1 label.sk-toggleable__label-arrow:before {content: \"▸\";float: left;margin-right: 0.25em;color: #696969;}#sk-container-id-1 label.sk-toggleable__label-arrow:hover:before {color: black;}#sk-container-id-1 div.sk-estimator:hover label.sk-toggleable__label-arrow:before {color: black;}#sk-container-id-1 div.sk-toggleable__content {max-height: 0;max-width: 0;overflow: hidden;text-align: left;background-color: #f0f8ff;}#sk-container-id-1 div.sk-toggleable__content pre {margin: 0.2em;color: black;border-radius: 0.25em;background-color: #f0f8ff;}#sk-container-id-1 input.sk-toggleable__control:checked~div.sk-toggleable__content {max-height: 200px;max-width: 100%;overflow: auto;}#sk-container-id-1 input.sk-toggleable__control:checked~label.sk-toggleable__label-arrow:before {content: \"▾\";}#sk-container-id-1 div.sk-estimator input.sk-toggleable__control:checked~label.sk-toggleable__label {background-color: #d4ebff;}#sk-container-id-1 div.sk-label input.sk-toggleable__control:checked~label.sk-toggleable__label {background-color: #d4ebff;}#sk-container-id-1 input.sk-hidden--visually {border: 0;clip: rect(1px 1px 1px 1px);clip: rect(1px, 1px, 1px, 1px);height: 1px;margin: -1px;overflow: hidden;padding: 0;position: absolute;width: 1px;}#sk-container-id-1 div.sk-estimator {font-family: monospace;background-color: #f0f8ff;border: 1px dotted black;border-radius: 0.25em;box-sizing: border-box;margin-bottom: 0.5em;}#sk-container-id-1 div.sk-estimator:hover {background-color: #d4ebff;}#sk-container-id-1 div.sk-parallel-item::after {content: \"\";width: 100%;border-bottom: 1px solid gray;flex-grow: 1;}#sk-container-id-1 div.sk-label:hover label.sk-toggleable__label {background-color: #d4ebff;}#sk-container-id-1 div.sk-serial::before {content: \"\";position: absolute;border-left: 1px solid gray;box-sizing: border-box;top: 0;bottom: 0;left: 50%;z-index: 0;}#sk-container-id-1 div.sk-serial {display: flex;flex-direction: column;align-items: center;background-color: white;padding-right: 0.2em;padding-left: 0.2em;position: relative;}#sk-container-id-1 div.sk-item {position: relative;z-index: 1;}#sk-container-id-1 div.sk-parallel {display: flex;align-items: stretch;justify-content: center;background-color: white;position: relative;}#sk-container-id-1 div.sk-item::before, #sk-container-id-1 div.sk-parallel-item::before {content: \"\";position: absolute;border-left: 1px solid gray;box-sizing: border-box;top: 0;bottom: 0;left: 50%;z-index: -1;}#sk-container-id-1 div.sk-parallel-item {display: flex;flex-direction: column;z-index: 1;position: relative;background-color: white;}#sk-container-id-1 div.sk-parallel-item:first-child::after {align-self: flex-end;width: 50%;}#sk-container-id-1 div.sk-parallel-item:last-child::after {align-self: flex-start;width: 50%;}#sk-container-id-1 div.sk-parallel-item:only-child::after {width: 0;}#sk-container-id-1 div.sk-dashed-wrapped {border: 1px dashed gray;margin: 0 0.4em 0.5em 0.4em;box-sizing: border-box;padding-bottom: 0.4em;background-color: white;}#sk-container-id-1 div.sk-label label {font-family: monospace;font-weight: bold;display: inline-block;line-height: 1.2em;}#sk-container-id-1 div.sk-label-container {text-align: center;}#sk-container-id-1 div.sk-container {/* jupyter's `normalize.less` sets `[hidden] { display: none; }` but bootstrap.min.css set `[hidden] { display: none !important; }` so we also need the `!important` here to be able to override the default hidden behavior on the sphinx rendered scikit-learn.org. See: https://github.com/scikit-learn/scikit-learn/issues/21755 */display: inline-block !important;position: relative;}#sk-container-id-1 div.sk-text-repr-fallback {display: none;}</style><div id=\"sk-container-id-1\" class=\"sk-top-container\"><div class=\"sk-text-repr-fallback\"><pre>KMeans(n_clusters=4)</pre><b>In a Jupyter environment, please rerun this cell to show the HTML representation or trust the notebook. <br />On GitHub, the HTML representation is unable to render, please try loading this page with nbviewer.org.</b></div><div class=\"sk-container\" hidden><div class=\"sk-item\"><div class=\"sk-estimator sk-toggleable\"><input class=\"sk-toggleable__control sk-hidden--visually\" id=\"sk-estimator-id-1\" type=\"checkbox\" checked><label for=\"sk-estimator-id-1\" class=\"sk-toggleable__label sk-toggleable__label-arrow\">KMeans</label><div class=\"sk-toggleable__content\"><pre>KMeans(n_clusters=4)</pre></div></div></div></div></div>"
            ]
          },
          "metadata": {},
          "execution_count": 14
        }
      ]
    },
    {
      "cell_type": "code",
      "source": [
        "# To ge the centers of cluster\n",
        "kmeans_model.cluster_centers_"
      ],
      "metadata": {
        "colab": {
          "base_uri": "https://localhost:8080/"
        },
        "id": "Ihzu9FFvH07V",
        "outputId": "fdcb7394-4e1d-4962-d285-148513684cfc"
      },
      "execution_count": null,
      "outputs": [
        {
          "output_type": "execute_result",
          "data": {
            "text/plain": [
              "array([[  23.71186441,   72.75706215, 5002.25988701,   31.70621469],\n",
              "       [  21.40458015,   80.78625954, 4271.18320611,   51.03816794],\n",
              "       [  22.70731707,   80.68292683, 6048.7804878 ,   27.29268293],\n",
              "       [   9.57692308,   23.19230769, 3074.03846154,   67.96153846]])"
            ]
          },
          "metadata": {},
          "execution_count": 15
        }
      ]
    },
    {
      "cell_type": "code",
      "source": [
        "inertia = kmeans_model.inertia_\n",
        "print(inertia)"
      ],
      "metadata": {
        "colab": {
          "base_uri": "https://localhost:8080/"
        },
        "id": "5nOaT8JyJBMl",
        "outputId": "53922230-ce33-4b56-f0cc-c0d4d76ae23d"
      },
      "execution_count": null,
      "outputs": [
        {
          "output_type": "stream",
          "name": "stdout",
          "text": [
            "10840488.797592558\n"
          ]
        }
      ]
    },
    {
      "cell_type": "code",
      "source": [
        "#The Silhouette Coefficient is a measure of the similarity of a point with the points of the same\n",
        "#cluster, and its dissimilarity with the points of other clusters. (Range between -1 to 1]\n",
        "silhouette_score = metrics.silhouette_score(selected_values, kmeans_model.labels_)\n",
        "print(silhouette_score)"
      ],
      "metadata": {
        "colab": {
          "base_uri": "https://localhost:8080/"
        },
        "id": "Yp4EIRjPJXka",
        "outputId": "ce88a92f-2a51-4d0f-c076-2c047f78f473"
      },
      "execution_count": null,
      "outputs": [
        {
          "output_type": "stream",
          "name": "stdout",
          "text": [
            "0.7797709250609335\n"
          ]
        }
      ]
    },
    {
      "cell_type": "markdown",
      "source": [
        "## **FINDING K-MEAN CLUSTER FOR MORE THEN TWO FEATURES**"
      ],
      "metadata": {
        "id": "fGVo609CzGGM"
      }
    },
    {
      "cell_type": "code",
      "source": [
        "# pandas DataFrame object named df from the data generated earlier using make_blobs\n",
        "df = pd.DataFrame(cleaned_data, columns=['Screen Size (inches)', 'Camera (MP)','Battery Capacity (mAh)','Price ($)'])\n",
        "kmeans = KMeans(n_clusters=4)\n",
        "y = kmeans.fit_predict(df[['Screen Size (inches)', 'Camera (MP)','Battery Capacity (mAh)','Price ($)']])\n",
        "df['Cluster'] = y\n",
        "print(df.head(20))"
      ],
      "metadata": {
        "colab": {
          "base_uri": "https://localhost:8080/"
        },
        "id": "h_wh4rk20LvZ",
        "outputId": "d8cab16d-fccf-4adb-fdd3-491a5b734c9a"
      },
      "execution_count": null,
      "outputs": [
        {
          "output_type": "stream",
          "name": "stderr",
          "text": [
            "/usr/local/lib/python3.10/dist-packages/sklearn/cluster/_kmeans.py:870: FutureWarning: The default value of `n_init` will change from 10 to 'auto' in 1.4. Set the value of `n_init` explicitly to suppress the warning\n",
            "  warnings.warn(\n"
          ]
        },
        {
          "output_type": "stream",
          "name": "stdout",
          "text": [
            "    Screen Size (inches)  Camera (MP)  Battery Capacity (mAh)  Price ($)  \\\n",
            "0                      8           15                    3095         88   \n",
            "1                     35            0                    5000         45   \n",
            "2                     31           53                    4500         85   \n",
            "3                     30          119                    5020         63   \n",
            "4                     15           87                    4614         84   \n",
            "5                      8           14                    2815         84   \n",
            "6                     31           14                    3300         88   \n",
            "7                     30           54                    5160         60   \n",
            "8                     24           88                    4500         81   \n",
            "9                     34           91                    4500         45   \n",
            "10                    16          116                    4500         66   \n",
            "11                    20          112                    4500         74   \n",
            "12                    29          116                    5000         66   \n",
            "14                    31           92                    4500         45   \n",
            "15                    24          118                    4250         66   \n",
            "16                    10          111                    4000         84   \n",
            "17                    21           90                    5000         56   \n",
            "18                    20           48                    5000         64   \n",
            "19                    16           54                    4310         70   \n",
            "20                    20           94                    6000         54   \n",
            "\n",
            "    Cluster  \n",
            "0         3  \n",
            "1         0  \n",
            "2         1  \n",
            "3         0  \n",
            "4         1  \n",
            "5         3  \n",
            "6         3  \n",
            "7         0  \n",
            "8         1  \n",
            "9         1  \n",
            "10        1  \n",
            "11        1  \n",
            "12        0  \n",
            "14        1  \n",
            "15        1  \n",
            "16        1  \n",
            "17        0  \n",
            "18        0  \n",
            "19        1  \n",
            "20        2  \n"
          ]
        }
      ]
    }
  ]
}